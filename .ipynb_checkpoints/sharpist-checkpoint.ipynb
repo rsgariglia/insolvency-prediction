{
 "cells": [
  {
   "cell_type": "code",
   "execution_count": 1,
   "id": "45075136",
   "metadata": {},
   "outputs": [],
   "source": [
    "import pandas as pd\n",
    "import numpy as np\n",
    "import matplotlib.pyplot as plt\n",
    "%matplotlib inline\n",
    "import sklearn\n",
    "from sklearn.model_selection import train_test_split\n",
    "from pandas_profiling import ProfileReport\n",
    "from imblearn.over_sampling import SMOTE\n",
    "from sklearn.naive_bayes import MultinomialNB\n",
    "from sklearn.metrics import accuracy_score\n",
    "import pickle"
   ]
  },
  {
   "cell_type": "code",
   "execution_count": 31,
   "id": "1e270291",
   "metadata": {},
   "outputs": [],
   "source": [
    "df = pd.read_csv('sharpist_data.csv')"
   ]
  },
  {
   "cell_type": "code",
   "execution_count": 3,
   "id": "5dd03c26",
   "metadata": {},
   "outputs": [
    {
     "data": {
      "text/html": [
       "<div>\n",
       "<style scoped>\n",
       "    .dataframe tbody tr th:only-of-type {\n",
       "        vertical-align: middle;\n",
       "    }\n",
       "\n",
       "    .dataframe tbody tr th {\n",
       "        vertical-align: top;\n",
       "    }\n",
       "\n",
       "    .dataframe thead th {\n",
       "        text-align: right;\n",
       "    }\n",
       "</style>\n",
       "<table border=\"1\" class=\"dataframe\">\n",
       "  <thead>\n",
       "    <tr style=\"text-align: right;\">\n",
       "      <th></th>\n",
       "      <th>Bankrupt?</th>\n",
       "      <th>ROA(C) before interest and depreciation before interest</th>\n",
       "      <th>ROA(A) before interest and % after tax</th>\n",
       "      <th>ROA(B) before interest and depreciation after tax</th>\n",
       "      <th>Operating Gross Margin</th>\n",
       "      <th>Realized Sales Gross Margin</th>\n",
       "      <th>Operating Profit Rate</th>\n",
       "      <th>Pre-tax net Interest Rate</th>\n",
       "      <th>After-tax net Interest Rate</th>\n",
       "      <th>Non-industry income and expenditure/revenue</th>\n",
       "      <th>...</th>\n",
       "      <th>Net Income to Total Assets</th>\n",
       "      <th>Total assets to GNP price</th>\n",
       "      <th>No-credit Interval</th>\n",
       "      <th>Gross Profit to Sales</th>\n",
       "      <th>Net Income to Stockholder's Equity</th>\n",
       "      <th>Liability to Equity</th>\n",
       "      <th>Degree of Financial Leverage (DFL)</th>\n",
       "      <th>Interest Coverage Ratio (Interest expense to EBIT)</th>\n",
       "      <th>Net Income Flag</th>\n",
       "      <th>Equity to Liability</th>\n",
       "    </tr>\n",
       "  </thead>\n",
       "  <tbody>\n",
       "    <tr>\n",
       "      <th>0</th>\n",
       "      <td>1</td>\n",
       "      <td>0.370594</td>\n",
       "      <td>0.424389</td>\n",
       "      <td>0.405750</td>\n",
       "      <td>0.601457</td>\n",
       "      <td>0.601457</td>\n",
       "      <td>0.998969</td>\n",
       "      <td>0.796887</td>\n",
       "      <td>0.808809</td>\n",
       "      <td>0.302646</td>\n",
       "      <td>...</td>\n",
       "      <td>0.716845</td>\n",
       "      <td>0.009219</td>\n",
       "      <td>0.622879</td>\n",
       "      <td>0.601453</td>\n",
       "      <td>0.827890</td>\n",
       "      <td>0.290202</td>\n",
       "      <td>0.026601</td>\n",
       "      <td>0.564050</td>\n",
       "      <td>1</td>\n",
       "      <td>0.016469</td>\n",
       "    </tr>\n",
       "    <tr>\n",
       "      <th>1</th>\n",
       "      <td>1</td>\n",
       "      <td>0.464291</td>\n",
       "      <td>0.538214</td>\n",
       "      <td>0.516730</td>\n",
       "      <td>0.610235</td>\n",
       "      <td>0.610235</td>\n",
       "      <td>0.998946</td>\n",
       "      <td>0.797380</td>\n",
       "      <td>0.809301</td>\n",
       "      <td>0.303556</td>\n",
       "      <td>...</td>\n",
       "      <td>0.795297</td>\n",
       "      <td>0.008323</td>\n",
       "      <td>0.623652</td>\n",
       "      <td>0.610237</td>\n",
       "      <td>0.839969</td>\n",
       "      <td>0.283846</td>\n",
       "      <td>0.264577</td>\n",
       "      <td>0.570175</td>\n",
       "      <td>1</td>\n",
       "      <td>0.020794</td>\n",
       "    </tr>\n",
       "    <tr>\n",
       "      <th>2</th>\n",
       "      <td>1</td>\n",
       "      <td>0.426071</td>\n",
       "      <td>0.499019</td>\n",
       "      <td>0.472295</td>\n",
       "      <td>0.601450</td>\n",
       "      <td>0.601364</td>\n",
       "      <td>0.998857</td>\n",
       "      <td>0.796403</td>\n",
       "      <td>0.808388</td>\n",
       "      <td>0.302035</td>\n",
       "      <td>...</td>\n",
       "      <td>0.774670</td>\n",
       "      <td>0.040003</td>\n",
       "      <td>0.623841</td>\n",
       "      <td>0.601449</td>\n",
       "      <td>0.836774</td>\n",
       "      <td>0.290189</td>\n",
       "      <td>0.026555</td>\n",
       "      <td>0.563706</td>\n",
       "      <td>1</td>\n",
       "      <td>0.016474</td>\n",
       "    </tr>\n",
       "    <tr>\n",
       "      <th>3</th>\n",
       "      <td>1</td>\n",
       "      <td>0.399844</td>\n",
       "      <td>0.451265</td>\n",
       "      <td>0.457733</td>\n",
       "      <td>0.583541</td>\n",
       "      <td>0.583541</td>\n",
       "      <td>0.998700</td>\n",
       "      <td>0.796967</td>\n",
       "      <td>0.808966</td>\n",
       "      <td>0.303350</td>\n",
       "      <td>...</td>\n",
       "      <td>0.739555</td>\n",
       "      <td>0.003252</td>\n",
       "      <td>0.622929</td>\n",
       "      <td>0.583538</td>\n",
       "      <td>0.834697</td>\n",
       "      <td>0.281721</td>\n",
       "      <td>0.026697</td>\n",
       "      <td>0.564663</td>\n",
       "      <td>1</td>\n",
       "      <td>0.023982</td>\n",
       "    </tr>\n",
       "    <tr>\n",
       "      <th>4</th>\n",
       "      <td>1</td>\n",
       "      <td>0.465022</td>\n",
       "      <td>0.538432</td>\n",
       "      <td>0.522298</td>\n",
       "      <td>0.598783</td>\n",
       "      <td>0.598783</td>\n",
       "      <td>0.998973</td>\n",
       "      <td>0.797366</td>\n",
       "      <td>0.809304</td>\n",
       "      <td>0.303475</td>\n",
       "      <td>...</td>\n",
       "      <td>0.795016</td>\n",
       "      <td>0.003878</td>\n",
       "      <td>0.623521</td>\n",
       "      <td>0.598782</td>\n",
       "      <td>0.839973</td>\n",
       "      <td>0.278514</td>\n",
       "      <td>0.024752</td>\n",
       "      <td>0.575617</td>\n",
       "      <td>1</td>\n",
       "      <td>0.035490</td>\n",
       "    </tr>\n",
       "  </tbody>\n",
       "</table>\n",
       "<p>5 rows × 96 columns</p>\n",
       "</div>"
      ],
      "text/plain": [
       "   Bankrupt?   ROA(C) before interest and depreciation before interest  \\\n",
       "0          1                                           0.370594          \n",
       "1          1                                           0.464291          \n",
       "2          1                                           0.426071          \n",
       "3          1                                           0.399844          \n",
       "4          1                                           0.465022          \n",
       "\n",
       "    ROA(A) before interest and % after tax  \\\n",
       "0                                 0.424389   \n",
       "1                                 0.538214   \n",
       "2                                 0.499019   \n",
       "3                                 0.451265   \n",
       "4                                 0.538432   \n",
       "\n",
       "    ROA(B) before interest and depreciation after tax  \\\n",
       "0                                           0.405750    \n",
       "1                                           0.516730    \n",
       "2                                           0.472295    \n",
       "3                                           0.457733    \n",
       "4                                           0.522298    \n",
       "\n",
       "    Operating Gross Margin   Realized Sales Gross Margin  \\\n",
       "0                 0.601457                      0.601457   \n",
       "1                 0.610235                      0.610235   \n",
       "2                 0.601450                      0.601364   \n",
       "3                 0.583541                      0.583541   \n",
       "4                 0.598783                      0.598783   \n",
       "\n",
       "    Operating Profit Rate   Pre-tax net Interest Rate  \\\n",
       "0                0.998969                    0.796887   \n",
       "1                0.998946                    0.797380   \n",
       "2                0.998857                    0.796403   \n",
       "3                0.998700                    0.796967   \n",
       "4                0.998973                    0.797366   \n",
       "\n",
       "    After-tax net Interest Rate   Non-industry income and expenditure/revenue  \\\n",
       "0                      0.808809                                      0.302646   \n",
       "1                      0.809301                                      0.303556   \n",
       "2                      0.808388                                      0.302035   \n",
       "3                      0.808966                                      0.303350   \n",
       "4                      0.809304                                      0.303475   \n",
       "\n",
       "   ...   Net Income to Total Assets   Total assets to GNP price  \\\n",
       "0  ...                     0.716845                    0.009219   \n",
       "1  ...                     0.795297                    0.008323   \n",
       "2  ...                     0.774670                    0.040003   \n",
       "3  ...                     0.739555                    0.003252   \n",
       "4  ...                     0.795016                    0.003878   \n",
       "\n",
       "    No-credit Interval   Gross Profit to Sales  \\\n",
       "0             0.622879                0.601453   \n",
       "1             0.623652                0.610237   \n",
       "2             0.623841                0.601449   \n",
       "3             0.622929                0.583538   \n",
       "4             0.623521                0.598782   \n",
       "\n",
       "    Net Income to Stockholder's Equity   Liability to Equity  \\\n",
       "0                             0.827890              0.290202   \n",
       "1                             0.839969              0.283846   \n",
       "2                             0.836774              0.290189   \n",
       "3                             0.834697              0.281721   \n",
       "4                             0.839973              0.278514   \n",
       "\n",
       "    Degree of Financial Leverage (DFL)  \\\n",
       "0                             0.026601   \n",
       "1                             0.264577   \n",
       "2                             0.026555   \n",
       "3                             0.026697   \n",
       "4                             0.024752   \n",
       "\n",
       "    Interest Coverage Ratio (Interest expense to EBIT)   Net Income Flag  \\\n",
       "0                                           0.564050                   1   \n",
       "1                                           0.570175                   1   \n",
       "2                                           0.563706                   1   \n",
       "3                                           0.564663                   1   \n",
       "4                                           0.575617                   1   \n",
       "\n",
       "    Equity to Liability  \n",
       "0              0.016469  \n",
       "1              0.020794  \n",
       "2              0.016474  \n",
       "3              0.023982  \n",
       "4              0.035490  \n",
       "\n",
       "[5 rows x 96 columns]"
      ]
     },
     "execution_count": 3,
     "metadata": {},
     "output_type": "execute_result"
    }
   ],
   "source": [
    "df.head()"
   ]
  },
  {
   "cell_type": "code",
   "execution_count": 4,
   "id": "10f28910",
   "metadata": {},
   "outputs": [
    {
     "data": {
      "text/html": [
       "<div>\n",
       "<style scoped>\n",
       "    .dataframe tbody tr th:only-of-type {\n",
       "        vertical-align: middle;\n",
       "    }\n",
       "\n",
       "    .dataframe tbody tr th {\n",
       "        vertical-align: top;\n",
       "    }\n",
       "\n",
       "    .dataframe thead th {\n",
       "        text-align: right;\n",
       "    }\n",
       "</style>\n",
       "<table border=\"1\" class=\"dataframe\">\n",
       "  <thead>\n",
       "    <tr style=\"text-align: right;\">\n",
       "      <th></th>\n",
       "      <th>Bankrupt?</th>\n",
       "      <th>ROA(C) before interest and depreciation before interest</th>\n",
       "      <th>ROA(A) before interest and % after tax</th>\n",
       "      <th>ROA(B) before interest and depreciation after tax</th>\n",
       "      <th>Operating Gross Margin</th>\n",
       "      <th>Realized Sales Gross Margin</th>\n",
       "      <th>Operating Profit Rate</th>\n",
       "      <th>Pre-tax net Interest Rate</th>\n",
       "      <th>After-tax net Interest Rate</th>\n",
       "      <th>Non-industry income and expenditure/revenue</th>\n",
       "      <th>...</th>\n",
       "      <th>Net Income to Total Assets</th>\n",
       "      <th>Total assets to GNP price</th>\n",
       "      <th>No-credit Interval</th>\n",
       "      <th>Gross Profit to Sales</th>\n",
       "      <th>Net Income to Stockholder's Equity</th>\n",
       "      <th>Liability to Equity</th>\n",
       "      <th>Degree of Financial Leverage (DFL)</th>\n",
       "      <th>Interest Coverage Ratio (Interest expense to EBIT)</th>\n",
       "      <th>Net Income Flag</th>\n",
       "      <th>Equity to Liability</th>\n",
       "    </tr>\n",
       "  </thead>\n",
       "  <tbody>\n",
       "    <tr>\n",
       "      <th>count</th>\n",
       "      <td>6819.000000</td>\n",
       "      <td>6819.000000</td>\n",
       "      <td>6819.000000</td>\n",
       "      <td>6819.000000</td>\n",
       "      <td>6819.000000</td>\n",
       "      <td>6819.000000</td>\n",
       "      <td>6819.000000</td>\n",
       "      <td>6819.000000</td>\n",
       "      <td>6819.000000</td>\n",
       "      <td>6819.000000</td>\n",
       "      <td>...</td>\n",
       "      <td>6819.000000</td>\n",
       "      <td>6.819000e+03</td>\n",
       "      <td>6819.000000</td>\n",
       "      <td>6819.000000</td>\n",
       "      <td>6819.000000</td>\n",
       "      <td>6819.000000</td>\n",
       "      <td>6819.000000</td>\n",
       "      <td>6819.000000</td>\n",
       "      <td>6819.0</td>\n",
       "      <td>6819.000000</td>\n",
       "    </tr>\n",
       "    <tr>\n",
       "      <th>mean</th>\n",
       "      <td>0.032263</td>\n",
       "      <td>0.505180</td>\n",
       "      <td>0.558625</td>\n",
       "      <td>0.553589</td>\n",
       "      <td>0.607948</td>\n",
       "      <td>0.607929</td>\n",
       "      <td>0.998755</td>\n",
       "      <td>0.797190</td>\n",
       "      <td>0.809084</td>\n",
       "      <td>0.303623</td>\n",
       "      <td>...</td>\n",
       "      <td>0.807760</td>\n",
       "      <td>1.862942e+07</td>\n",
       "      <td>0.623915</td>\n",
       "      <td>0.607946</td>\n",
       "      <td>0.840402</td>\n",
       "      <td>0.280365</td>\n",
       "      <td>0.027541</td>\n",
       "      <td>0.565358</td>\n",
       "      <td>1.0</td>\n",
       "      <td>0.047578</td>\n",
       "    </tr>\n",
       "    <tr>\n",
       "      <th>std</th>\n",
       "      <td>0.176710</td>\n",
       "      <td>0.060686</td>\n",
       "      <td>0.065620</td>\n",
       "      <td>0.061595</td>\n",
       "      <td>0.016934</td>\n",
       "      <td>0.016916</td>\n",
       "      <td>0.013010</td>\n",
       "      <td>0.012869</td>\n",
       "      <td>0.013601</td>\n",
       "      <td>0.011163</td>\n",
       "      <td>...</td>\n",
       "      <td>0.040332</td>\n",
       "      <td>3.764501e+08</td>\n",
       "      <td>0.012290</td>\n",
       "      <td>0.016934</td>\n",
       "      <td>0.014523</td>\n",
       "      <td>0.014463</td>\n",
       "      <td>0.015668</td>\n",
       "      <td>0.013214</td>\n",
       "      <td>0.0</td>\n",
       "      <td>0.050014</td>\n",
       "    </tr>\n",
       "    <tr>\n",
       "      <th>min</th>\n",
       "      <td>0.000000</td>\n",
       "      <td>0.000000</td>\n",
       "      <td>0.000000</td>\n",
       "      <td>0.000000</td>\n",
       "      <td>0.000000</td>\n",
       "      <td>0.000000</td>\n",
       "      <td>0.000000</td>\n",
       "      <td>0.000000</td>\n",
       "      <td>0.000000</td>\n",
       "      <td>0.000000</td>\n",
       "      <td>...</td>\n",
       "      <td>0.000000</td>\n",
       "      <td>0.000000e+00</td>\n",
       "      <td>0.000000</td>\n",
       "      <td>0.000000</td>\n",
       "      <td>0.000000</td>\n",
       "      <td>0.000000</td>\n",
       "      <td>0.000000</td>\n",
       "      <td>0.000000</td>\n",
       "      <td>1.0</td>\n",
       "      <td>0.000000</td>\n",
       "    </tr>\n",
       "    <tr>\n",
       "      <th>25%</th>\n",
       "      <td>0.000000</td>\n",
       "      <td>0.476527</td>\n",
       "      <td>0.535543</td>\n",
       "      <td>0.527277</td>\n",
       "      <td>0.600445</td>\n",
       "      <td>0.600434</td>\n",
       "      <td>0.998969</td>\n",
       "      <td>0.797386</td>\n",
       "      <td>0.809312</td>\n",
       "      <td>0.303466</td>\n",
       "      <td>...</td>\n",
       "      <td>0.796750</td>\n",
       "      <td>9.036205e-04</td>\n",
       "      <td>0.623636</td>\n",
       "      <td>0.600443</td>\n",
       "      <td>0.840115</td>\n",
       "      <td>0.276944</td>\n",
       "      <td>0.026791</td>\n",
       "      <td>0.565158</td>\n",
       "      <td>1.0</td>\n",
       "      <td>0.024477</td>\n",
       "    </tr>\n",
       "    <tr>\n",
       "      <th>50%</th>\n",
       "      <td>0.000000</td>\n",
       "      <td>0.502706</td>\n",
       "      <td>0.559802</td>\n",
       "      <td>0.552278</td>\n",
       "      <td>0.605997</td>\n",
       "      <td>0.605976</td>\n",
       "      <td>0.999022</td>\n",
       "      <td>0.797464</td>\n",
       "      <td>0.809375</td>\n",
       "      <td>0.303525</td>\n",
       "      <td>...</td>\n",
       "      <td>0.810619</td>\n",
       "      <td>2.085213e-03</td>\n",
       "      <td>0.623879</td>\n",
       "      <td>0.605998</td>\n",
       "      <td>0.841179</td>\n",
       "      <td>0.278778</td>\n",
       "      <td>0.026808</td>\n",
       "      <td>0.565252</td>\n",
       "      <td>1.0</td>\n",
       "      <td>0.033798</td>\n",
       "    </tr>\n",
       "    <tr>\n",
       "      <th>75%</th>\n",
       "      <td>0.000000</td>\n",
       "      <td>0.535563</td>\n",
       "      <td>0.589157</td>\n",
       "      <td>0.584105</td>\n",
       "      <td>0.613914</td>\n",
       "      <td>0.613842</td>\n",
       "      <td>0.999095</td>\n",
       "      <td>0.797579</td>\n",
       "      <td>0.809469</td>\n",
       "      <td>0.303585</td>\n",
       "      <td>...</td>\n",
       "      <td>0.826455</td>\n",
       "      <td>5.269777e-03</td>\n",
       "      <td>0.624168</td>\n",
       "      <td>0.613913</td>\n",
       "      <td>0.842357</td>\n",
       "      <td>0.281449</td>\n",
       "      <td>0.026913</td>\n",
       "      <td>0.565725</td>\n",
       "      <td>1.0</td>\n",
       "      <td>0.052838</td>\n",
       "    </tr>\n",
       "    <tr>\n",
       "      <th>max</th>\n",
       "      <td>1.000000</td>\n",
       "      <td>1.000000</td>\n",
       "      <td>1.000000</td>\n",
       "      <td>1.000000</td>\n",
       "      <td>1.000000</td>\n",
       "      <td>1.000000</td>\n",
       "      <td>1.000000</td>\n",
       "      <td>1.000000</td>\n",
       "      <td>1.000000</td>\n",
       "      <td>1.000000</td>\n",
       "      <td>...</td>\n",
       "      <td>1.000000</td>\n",
       "      <td>9.820000e+09</td>\n",
       "      <td>1.000000</td>\n",
       "      <td>1.000000</td>\n",
       "      <td>1.000000</td>\n",
       "      <td>1.000000</td>\n",
       "      <td>1.000000</td>\n",
       "      <td>1.000000</td>\n",
       "      <td>1.0</td>\n",
       "      <td>1.000000</td>\n",
       "    </tr>\n",
       "  </tbody>\n",
       "</table>\n",
       "<p>8 rows × 96 columns</p>\n",
       "</div>"
      ],
      "text/plain": [
       "         Bankrupt?   ROA(C) before interest and depreciation before interest  \\\n",
       "count  6819.000000                                        6819.000000          \n",
       "mean      0.032263                                           0.505180          \n",
       "std       0.176710                                           0.060686          \n",
       "min       0.000000                                           0.000000          \n",
       "25%       0.000000                                           0.476527          \n",
       "50%       0.000000                                           0.502706          \n",
       "75%       0.000000                                           0.535563          \n",
       "max       1.000000                                           1.000000          \n",
       "\n",
       "        ROA(A) before interest and % after tax  \\\n",
       "count                              6819.000000   \n",
       "mean                                  0.558625   \n",
       "std                                   0.065620   \n",
       "min                                   0.000000   \n",
       "25%                                   0.535543   \n",
       "50%                                   0.559802   \n",
       "75%                                   0.589157   \n",
       "max                                   1.000000   \n",
       "\n",
       "        ROA(B) before interest and depreciation after tax  \\\n",
       "count                                        6819.000000    \n",
       "mean                                            0.553589    \n",
       "std                                             0.061595    \n",
       "min                                             0.000000    \n",
       "25%                                             0.527277    \n",
       "50%                                             0.552278    \n",
       "75%                                             0.584105    \n",
       "max                                             1.000000    \n",
       "\n",
       "        Operating Gross Margin   Realized Sales Gross Margin  \\\n",
       "count              6819.000000                   6819.000000   \n",
       "mean                  0.607948                      0.607929   \n",
       "std                   0.016934                      0.016916   \n",
       "min                   0.000000                      0.000000   \n",
       "25%                   0.600445                      0.600434   \n",
       "50%                   0.605997                      0.605976   \n",
       "75%                   0.613914                      0.613842   \n",
       "max                   1.000000                      1.000000   \n",
       "\n",
       "        Operating Profit Rate   Pre-tax net Interest Rate  \\\n",
       "count             6819.000000                 6819.000000   \n",
       "mean                 0.998755                    0.797190   \n",
       "std                  0.013010                    0.012869   \n",
       "min                  0.000000                    0.000000   \n",
       "25%                  0.998969                    0.797386   \n",
       "50%                  0.999022                    0.797464   \n",
       "75%                  0.999095                    0.797579   \n",
       "max                  1.000000                    1.000000   \n",
       "\n",
       "        After-tax net Interest Rate  \\\n",
       "count                   6819.000000   \n",
       "mean                       0.809084   \n",
       "std                        0.013601   \n",
       "min                        0.000000   \n",
       "25%                        0.809312   \n",
       "50%                        0.809375   \n",
       "75%                        0.809469   \n",
       "max                        1.000000   \n",
       "\n",
       "        Non-industry income and expenditure/revenue  ...  \\\n",
       "count                                   6819.000000  ...   \n",
       "mean                                       0.303623  ...   \n",
       "std                                        0.011163  ...   \n",
       "min                                        0.000000  ...   \n",
       "25%                                        0.303466  ...   \n",
       "50%                                        0.303525  ...   \n",
       "75%                                        0.303585  ...   \n",
       "max                                        1.000000  ...   \n",
       "\n",
       "        Net Income to Total Assets   Total assets to GNP price  \\\n",
       "count                  6819.000000                6.819000e+03   \n",
       "mean                      0.807760                1.862942e+07   \n",
       "std                       0.040332                3.764501e+08   \n",
       "min                       0.000000                0.000000e+00   \n",
       "25%                       0.796750                9.036205e-04   \n",
       "50%                       0.810619                2.085213e-03   \n",
       "75%                       0.826455                5.269777e-03   \n",
       "max                       1.000000                9.820000e+09   \n",
       "\n",
       "        No-credit Interval   Gross Profit to Sales  \\\n",
       "count          6819.000000             6819.000000   \n",
       "mean              0.623915                0.607946   \n",
       "std               0.012290                0.016934   \n",
       "min               0.000000                0.000000   \n",
       "25%               0.623636                0.600443   \n",
       "50%               0.623879                0.605998   \n",
       "75%               0.624168                0.613913   \n",
       "max               1.000000                1.000000   \n",
       "\n",
       "        Net Income to Stockholder's Equity   Liability to Equity  \\\n",
       "count                          6819.000000           6819.000000   \n",
       "mean                              0.840402              0.280365   \n",
       "std                               0.014523              0.014463   \n",
       "min                               0.000000              0.000000   \n",
       "25%                               0.840115              0.276944   \n",
       "50%                               0.841179              0.278778   \n",
       "75%                               0.842357              0.281449   \n",
       "max                               1.000000              1.000000   \n",
       "\n",
       "        Degree of Financial Leverage (DFL)  \\\n",
       "count                          6819.000000   \n",
       "mean                              0.027541   \n",
       "std                               0.015668   \n",
       "min                               0.000000   \n",
       "25%                               0.026791   \n",
       "50%                               0.026808   \n",
       "75%                               0.026913   \n",
       "max                               1.000000   \n",
       "\n",
       "        Interest Coverage Ratio (Interest expense to EBIT)   Net Income Flag  \\\n",
       "count                                        6819.000000              6819.0   \n",
       "mean                                            0.565358                 1.0   \n",
       "std                                             0.013214                 0.0   \n",
       "min                                             0.000000                 1.0   \n",
       "25%                                             0.565158                 1.0   \n",
       "50%                                             0.565252                 1.0   \n",
       "75%                                             0.565725                 1.0   \n",
       "max                                             1.000000                 1.0   \n",
       "\n",
       "        Equity to Liability  \n",
       "count           6819.000000  \n",
       "mean               0.047578  \n",
       "std                0.050014  \n",
       "min                0.000000  \n",
       "25%                0.024477  \n",
       "50%                0.033798  \n",
       "75%                0.052838  \n",
       "max                1.000000  \n",
       "\n",
       "[8 rows x 96 columns]"
      ]
     },
     "execution_count": 4,
     "metadata": {},
     "output_type": "execute_result"
    }
   ],
   "source": [
    "df.describe()"
   ]
  },
  {
   "cell_type": "code",
   "execution_count": 5,
   "id": "63613fb8",
   "metadata": {},
   "outputs": [
    {
     "data": {
      "text/plain": [
       "(6819, 96)"
      ]
     },
     "execution_count": 5,
     "metadata": {},
     "output_type": "execute_result"
    }
   ],
   "source": [
    "df.shape"
   ]
  },
  {
   "cell_type": "code",
   "execution_count": 6,
   "id": "ac98a12b",
   "metadata": {},
   "outputs": [],
   "source": [
    "pd.set_option('display.max_rows', None)"
   ]
  },
  {
   "cell_type": "code",
   "execution_count": 7,
   "id": "a266941b",
   "metadata": {},
   "outputs": [
    {
     "data": {
      "text/plain": [
       "Bankrupt?                                                     int64\n",
       " ROA(C) before interest and depreciation before interest    float64\n",
       " ROA(A) before interest and % after tax                     float64\n",
       " ROA(B) before interest and depreciation after tax          float64\n",
       " Operating Gross Margin                                     float64\n",
       " Realized Sales Gross Margin                                float64\n",
       " Operating Profit Rate                                      float64\n",
       " Pre-tax net Interest Rate                                  float64\n",
       " After-tax net Interest Rate                                float64\n",
       " Non-industry income and expenditure/revenue                float64\n",
       " Continuous interest rate (after tax)                       float64\n",
       " Operating Expense Rate                                     float64\n",
       " Research and development expense rate                      float64\n",
       " Cash flow rate                                             float64\n",
       " Interest-bearing debt interest rate                        float64\n",
       " Tax rate (A)                                               float64\n",
       " Net Value Per Share (B)                                    float64\n",
       " Net Value Per Share (A)                                    float64\n",
       " Net Value Per Share (C)                                    float64\n",
       " Persistent EPS in the Last Four Seasons                    float64\n",
       " Cash Flow Per Share                                        float64\n",
       " Revenue Per Share (Yuan ¥)                                 float64\n",
       " Operating Profit Per Share (Yuan ¥)                        float64\n",
       " Per Share Net profit before tax (Yuan ¥)                   float64\n",
       " Realized Sales Gross Profit Growth Rate                    float64\n",
       " Operating Profit Growth Rate                               float64\n",
       " After-tax Net Profit Growth Rate                           float64\n",
       " Regular Net Profit Growth Rate                             float64\n",
       " Continuous Net Profit Growth Rate                          float64\n",
       " Total Asset Growth Rate                                    float64\n",
       " Net Value Growth Rate                                      float64\n",
       " Total Asset Return Growth Rate Ratio                       float64\n",
       " Cash Reinvestment %                                        float64\n",
       " Current Ratio                                              float64\n",
       " Quick Ratio                                                float64\n",
       " Interest Expense Ratio                                     float64\n",
       " Total debt/Total net worth                                 float64\n",
       " Debt ratio %                                               float64\n",
       " Net worth/Assets                                           float64\n",
       " Long-term fund suitability ratio (A)                       float64\n",
       " Borrowing dependency                                       float64\n",
       " Contingent liabilities/Net worth                           float64\n",
       " Operating profit/Paid-in capital                           float64\n",
       " Net profit before tax/Paid-in capital                      float64\n",
       " Inventory and accounts receivable/Net value                float64\n",
       " Total Asset Turnover                                       float64\n",
       " Accounts Receivable Turnover                               float64\n",
       " Average Collection Days                                    float64\n",
       " Inventory Turnover Rate (times)                            float64\n",
       " Fixed Assets Turnover Frequency                            float64\n",
       " Net Worth Turnover Rate (times)                            float64\n",
       " Revenue per person                                         float64\n",
       " Operating profit per person                                float64\n",
       " Allocation rate per person                                 float64\n",
       " Working Capital to Total Assets                            float64\n",
       " Quick Assets/Total Assets                                  float64\n",
       " Current Assets/Total Assets                                float64\n",
       " Cash/Total Assets                                          float64\n",
       " Quick Assets/Current Liability                             float64\n",
       " Cash/Current Liability                                     float64\n",
       " Current Liability to Assets                                float64\n",
       " Operating Funds to Liability                               float64\n",
       " Inventory/Working Capital                                  float64\n",
       " Inventory/Current Liability                                float64\n",
       " Current Liabilities/Liability                              float64\n",
       " Working Capital/Equity                                     float64\n",
       " Current Liabilities/Equity                                 float64\n",
       " Long-term Liability to Current Assets                      float64\n",
       " Retained Earnings to Total Assets                          float64\n",
       " Total income/Total expense                                 float64\n",
       " Total expense/Assets                                       float64\n",
       " Current Asset Turnover Rate                                float64\n",
       " Quick Asset Turnover Rate                                  float64\n",
       " Working capitcal Turnover Rate                             float64\n",
       " Cash Turnover Rate                                         float64\n",
       " Cash Flow to Sales                                         float64\n",
       " Fixed Assets to Assets                                     float64\n",
       " Current Liability to Liability                             float64\n",
       " Current Liability to Equity                                float64\n",
       " Equity to Long-term Liability                              float64\n",
       " Cash Flow to Total Assets                                  float64\n",
       " Cash Flow to Liability                                     float64\n",
       " CFO to Assets                                              float64\n",
       " Cash Flow to Equity                                        float64\n",
       " Current Liability to Current Assets                        float64\n",
       " Liability-Assets Flag                                        int64\n",
       " Net Income to Total Assets                                 float64\n",
       " Total assets to GNP price                                  float64\n",
       " No-credit Interval                                         float64\n",
       " Gross Profit to Sales                                      float64\n",
       " Net Income to Stockholder's Equity                         float64\n",
       " Liability to Equity                                        float64\n",
       " Degree of Financial Leverage (DFL)                         float64\n",
       " Interest Coverage Ratio (Interest expense to EBIT)         float64\n",
       " Net Income Flag                                              int64\n",
       " Equity to Liability                                        float64\n",
       "dtype: object"
      ]
     },
     "execution_count": 7,
     "metadata": {},
     "output_type": "execute_result"
    }
   ],
   "source": [
    "# no categorical vars\n",
    "\n",
    "df.dtypes"
   ]
  },
  {
   "cell_type": "code",
   "execution_count": 8,
   "id": "78d82edb",
   "metadata": {},
   "outputs": [],
   "source": [
    "# use pandas profiling to do EDA"
   ]
  },
  {
   "cell_type": "code",
   "execution_count": 9,
   "id": "60db93fe",
   "metadata": {},
   "outputs": [
    {
     "name": "stdout",
     "output_type": "stream",
     "text": [
      "Enabling notebook extension jupyter-js-widgets/extension...\r\n",
      "      - Validating: \u001b[32mOK\u001b[0m\r\n"
     ]
    }
   ],
   "source": [
    "!jupyter nbextension enable --py widgetsnbextension\n",
    "\n"
   ]
  },
  {
   "cell_type": "code",
   "execution_count": 10,
   "id": "42c7a9ca",
   "metadata": {},
   "outputs": [
    {
     "data": {
      "application/vnd.jupyter.widget-view+json": {
       "model_id": "ceb30dd09e0a4b6e9ced4832eab3e8bb",
       "version_major": 2,
       "version_minor": 0
      },
      "text/plain": [
       "Summarize dataset:   0%|          | 0/5 [00:00<?, ?it/s]"
      ]
     },
     "metadata": {},
     "output_type": "display_data"
    },
    {
     "data": {
      "application/vnd.jupyter.widget-view+json": {
       "model_id": "d2780c0039e44f8481e7ca221e972874",
       "version_major": 2,
       "version_minor": 0
      },
      "text/plain": [
       "Generate report structure:   0%|          | 0/1 [00:00<?, ?it/s]"
      ]
     },
     "metadata": {},
     "output_type": "display_data"
    },
    {
     "data": {
      "application/vnd.jupyter.widget-view+json": {
       "model_id": "e176efd056d0463eb0aa7301113ec87d",
       "version_major": 2,
       "version_minor": 0
      },
      "text/plain": [
       "Render HTML:   0%|          | 0/1 [00:00<?, ?it/s]"
      ]
     },
     "metadata": {},
     "output_type": "display_data"
    },
    {
     "data": {
      "application/vnd.jupyter.widget-view+json": {
       "model_id": "2419ae874f724d9ebef00d0ea4cec725",
       "version_major": 2,
       "version_minor": 0
      },
      "text/plain": [
       "Export report to file:   0%|          | 0/1 [00:00<?, ?it/s]"
      ]
     },
     "metadata": {},
     "output_type": "display_data"
    }
   ],
   "source": [
    "# do pandas profiling on a sample of the data \n",
    "\n",
    "profile = ProfileReport(df.sample(5000), minimal=True)\n",
    "profile.to_file(output_file=\"output_EDA.html\")"
   ]
  },
  {
   "cell_type": "code",
   "execution_count": 11,
   "id": "36c6684d",
   "metadata": {
    "collapsed": true
   },
   "outputs": [
    {
     "data": {
      "text/plain": [
       "Index(['Bankrupt?', ' ROA(C) before interest and depreciation before interest',\n",
       "       ' ROA(A) before interest and % after tax',\n",
       "       ' ROA(B) before interest and depreciation after tax',\n",
       "       ' Operating Gross Margin', ' Realized Sales Gross Margin',\n",
       "       ' Operating Profit Rate', ' Pre-tax net Interest Rate',\n",
       "       ' After-tax net Interest Rate',\n",
       "       ' Non-industry income and expenditure/revenue',\n",
       "       ' Continuous interest rate (after tax)', ' Operating Expense Rate',\n",
       "       ' Research and development expense rate', ' Cash flow rate',\n",
       "       ' Interest-bearing debt interest rate', ' Tax rate (A)',\n",
       "       ' Net Value Per Share (B)', ' Net Value Per Share (A)',\n",
       "       ' Net Value Per Share (C)', ' Persistent EPS in the Last Four Seasons',\n",
       "       ' Cash Flow Per Share', ' Revenue Per Share (Yuan ¥)',\n",
       "       ' Operating Profit Per Share (Yuan ¥)',\n",
       "       ' Per Share Net profit before tax (Yuan ¥)',\n",
       "       ' Realized Sales Gross Profit Growth Rate',\n",
       "       ' Operating Profit Growth Rate', ' After-tax Net Profit Growth Rate',\n",
       "       ' Regular Net Profit Growth Rate', ' Continuous Net Profit Growth Rate',\n",
       "       ' Total Asset Growth Rate', ' Net Value Growth Rate',\n",
       "       ' Total Asset Return Growth Rate Ratio', ' Cash Reinvestment %',\n",
       "       ' Current Ratio', ' Quick Ratio', ' Interest Expense Ratio',\n",
       "       ' Total debt/Total net worth', ' Debt ratio %', ' Net worth/Assets',\n",
       "       ' Long-term fund suitability ratio (A)', ' Borrowing dependency',\n",
       "       ' Contingent liabilities/Net worth',\n",
       "       ' Operating profit/Paid-in capital',\n",
       "       ' Net profit before tax/Paid-in capital',\n",
       "       ' Inventory and accounts receivable/Net value', ' Total Asset Turnover',\n",
       "       ' Accounts Receivable Turnover', ' Average Collection Days',\n",
       "       ' Inventory Turnover Rate (times)', ' Fixed Assets Turnover Frequency',\n",
       "       ' Net Worth Turnover Rate (times)', ' Revenue per person',\n",
       "       ' Operating profit per person', ' Allocation rate per person',\n",
       "       ' Working Capital to Total Assets', ' Quick Assets/Total Assets',\n",
       "       ' Current Assets/Total Assets', ' Cash/Total Assets',\n",
       "       ' Quick Assets/Current Liability', ' Cash/Current Liability',\n",
       "       ' Current Liability to Assets', ' Operating Funds to Liability',\n",
       "       ' Inventory/Working Capital', ' Inventory/Current Liability',\n",
       "       ' Current Liabilities/Liability', ' Working Capital/Equity',\n",
       "       ' Current Liabilities/Equity', ' Long-term Liability to Current Assets',\n",
       "       ' Retained Earnings to Total Assets', ' Total income/Total expense',\n",
       "       ' Total expense/Assets', ' Current Asset Turnover Rate',\n",
       "       ' Quick Asset Turnover Rate', ' Working capitcal Turnover Rate',\n",
       "       ' Cash Turnover Rate', ' Cash Flow to Sales', ' Fixed Assets to Assets',\n",
       "       ' Current Liability to Liability', ' Current Liability to Equity',\n",
       "       ' Equity to Long-term Liability', ' Cash Flow to Total Assets',\n",
       "       ' Cash Flow to Liability', ' CFO to Assets', ' Cash Flow to Equity',\n",
       "       ' Current Liability to Current Assets', ' Liability-Assets Flag',\n",
       "       ' Net Income to Total Assets', ' Total assets to GNP price',\n",
       "       ' No-credit Interval', ' Gross Profit to Sales',\n",
       "       ' Net Income to Stockholder's Equity', ' Liability to Equity',\n",
       "       ' Degree of Financial Leverage (DFL)',\n",
       "       ' Interest Coverage Ratio (Interest expense to EBIT)',\n",
       "       ' Net Income Flag', ' Equity to Liability'],\n",
       "      dtype='object')"
      ]
     },
     "execution_count": 11,
     "metadata": {},
     "output_type": "execute_result"
    }
   ],
   "source": [
    "df.columns"
   ]
  },
  {
   "cell_type": "code",
   "execution_count": 13,
   "id": "05c9d4cd",
   "metadata": {},
   "outputs": [
    {
     "data": {
      "text/plain": [
       "0.016469    1\n",
       "0.050215    1\n",
       "0.014752    1\n",
       "0.030886    1\n",
       "0.022275    1\n",
       "           ..\n",
       "0.030870    1\n",
       "0.033375    1\n",
       "0.025546    1\n",
       "0.016526    1\n",
       "0.233902    1\n",
       "Name:  Equity to Liability, Length: 6819, dtype: int64"
      ]
     },
     "execution_count": 13,
     "metadata": {},
     "output_type": "execute_result"
    }
   ],
   "source": [
    "df[' Equity to Liability'].value_counts()"
   ]
  },
  {
   "cell_type": "code",
   "execution_count": 11,
   "id": "9fbb30fb",
   "metadata": {},
   "outputs": [],
   "source": [
    "#x_train.head()"
   ]
  },
  {
   "cell_type": "code",
   "execution_count": 10,
   "id": "39f84e29",
   "metadata": {},
   "outputs": [],
   "source": [
    "# assign target values and features\n",
    "\n",
    "X = df.iloc[:,1:]\n",
    "y = df.iloc[:,0]"
   ]
  },
  {
   "cell_type": "code",
   "execution_count": 11,
   "id": "e7e72377",
   "metadata": {},
   "outputs": [],
   "source": [
    "# train test split\n",
    "X_train, X_test, y_train, y_test = train_test_split(X, y, test_size=0.2, random_state=4)"
   ]
  },
  {
   "cell_type": "code",
   "execution_count": 12,
   "id": "bb31a1fa",
   "metadata": {},
   "outputs": [],
   "source": [
    "# was heavily unbalanced"
   ]
  },
  {
   "cell_type": "code",
   "execution_count": 13,
   "id": "b98adb50",
   "metadata": {},
   "outputs": [],
   "source": [
    "# heavily imbalanced - SMOTE\n",
    "\n",
    "from imblearn.over_sampling import SMOTE\n",
    "sm = SMOTE()\n",
    "X_r, y_r = sm.fit_resample(X_train, y_train)"
   ]
  },
  {
   "cell_type": "code",
   "execution_count": 16,
   "id": "bbdd5874",
   "metadata": {},
   "outputs": [],
   "source": [
    "y_train_1 = pd.DataFrame(y_r)"
   ]
  },
  {
   "cell_type": "code",
   "execution_count": 17,
   "id": "507e3229",
   "metadata": {},
   "outputs": [
    {
     "data": {
      "image/png": "[encoded data removed]",
      "text/plain": [
       "<Figure size 432x288 with 1 Axes>"
      ]
     },
     "metadata": {
      "needs_background": "light"
     },
     "output_type": "display_data"
    }
   ],
   "source": [
    "y_train_1['Bankrupt?'].plot(kind='hist'); "
   ]
  },
  {
   "cell_type": "code",
   "execution_count": 33,
   "id": "bccac3c8",
   "metadata": {},
   "outputs": [
    {
     "data": {
      "image/png": "[encoded data removed]",
      "text/plain": [
       "<Figure size 432x288 with 1 Axes>"
      ]
     },
     "metadata": {
      "needs_background": "light"
     },
     "output_type": "display_data"
    }
   ],
   "source": [
    "y_train.plot(kind='hist'); "
   ]
  },
  {
   "cell_type": "code",
   "execution_count": 34,
   "id": "44a2c573",
   "metadata": {},
   "outputs": [
    {
     "data": {
      "text/plain": [
       "0    5287\n",
       "1     168\n",
       "Name: Bankrupt?, dtype: int64"
      ]
     },
     "execution_count": 34,
     "metadata": {},
     "output_type": "execute_result"
    }
   ],
   "source": [
    "y_train.value_counts()"
   ]
  },
  {
   "cell_type": "code",
   "execution_count": 35,
   "id": "e17ac4c9",
   "metadata": {},
   "outputs": [
    {
     "data": {
      "text/plain": [
       "(6819, 96)"
      ]
     },
     "execution_count": 35,
     "metadata": {},
     "output_type": "execute_result"
    }
   ],
   "source": [
    "df.shape"
   ]
  },
  {
   "cell_type": "markdown",
   "id": "226a6ee5",
   "metadata": {},
   "source": [
    "### Naive Bayes"
   ]
  },
  {
   "cell_type": "code",
   "execution_count": 14,
   "id": "01b66b9c",
   "metadata": {},
   "outputs": [],
   "source": [
    "from model import NBModel"
   ]
  },
  {
   "cell_type": "code",
   "execution_count": 15,
   "id": "a935f895",
   "metadata": {},
   "outputs": [],
   "source": [
    "model = NBModel()"
   ]
  },
  {
   "cell_type": "code",
   "execution_count": 16,
   "id": "25834ecf",
   "metadata": {},
   "outputs": [],
   "source": [
    "#applied smote\n",
    "model.train(X_r, y_r)\n"
   ]
  },
  {
   "cell_type": "code",
   "execution_count": 17,
   "id": "f7e48e19",
   "metadata": {},
   "outputs": [
    {
     "name": "stdout",
     "output_type": "stream",
     "text": [
      "Pickled classifier at Classifier.pkl\n"
     ]
    }
   ],
   "source": [
    "model.pickle_clf()"
   ]
  },
  {
   "cell_type": "markdown",
   "id": "6d98ea5e",
   "metadata": {},
   "source": [
    "### Apply model from pickle file to test data"
   ]
  },
  {
   "cell_type": "code",
   "execution_count": 58,
   "id": "57cddef7",
   "metadata": {},
   "outputs": [],
   "source": [
    "model_apply = NBModel()\n",
    "\n",
    "clf_path = 'Classifier.pkl'\n",
    "with open(clf_path, 'rb') as f:\n",
    "    model_apply.clf = pickle.load(f)"
   ]
  },
  {
   "cell_type": "code",
   "execution_count": 23,
   "id": "220e47fd",
   "metadata": {},
   "outputs": [
    {
     "data": {
      "text/html": [
       "<div>\n",
       "<style scoped>\n",
       "    .dataframe tbody tr th:only-of-type {\n",
       "        vertical-align: middle;\n",
       "    }\n",
       "\n",
       "    .dataframe tbody tr th {\n",
       "        vertical-align: top;\n",
       "    }\n",
       "\n",
       "    .dataframe thead th {\n",
       "        text-align: right;\n",
       "    }\n",
       "</style>\n",
       "<table border=\"1\" class=\"dataframe\">\n",
       "  <thead>\n",
       "    <tr style=\"text-align: right;\">\n",
       "      <th></th>\n",
       "      <th>ROA(C) before interest and depreciation before interest</th>\n",
       "      <th>ROA(A) before interest and % after tax</th>\n",
       "      <th>ROA(B) before interest and depreciation after tax</th>\n",
       "      <th>Operating Gross Margin</th>\n",
       "      <th>Realized Sales Gross Margin</th>\n",
       "      <th>Operating Profit Rate</th>\n",
       "      <th>Pre-tax net Interest Rate</th>\n",
       "      <th>After-tax net Interest Rate</th>\n",
       "      <th>Non-industry income and expenditure/revenue</th>\n",
       "      <th>Continuous interest rate (after tax)</th>\n",
       "      <th>...</th>\n",
       "      <th>Net Income to Total Assets</th>\n",
       "      <th>Total assets to GNP price</th>\n",
       "      <th>No-credit Interval</th>\n",
       "      <th>Gross Profit to Sales</th>\n",
       "      <th>Net Income to Stockholder's Equity</th>\n",
       "      <th>Liability to Equity</th>\n",
       "      <th>Degree of Financial Leverage (DFL)</th>\n",
       "      <th>Interest Coverage Ratio (Interest expense to EBIT)</th>\n",
       "      <th>Net Income Flag</th>\n",
       "      <th>Equity to Liability</th>\n",
       "    </tr>\n",
       "  </thead>\n",
       "  <tbody>\n",
       "    <tr>\n",
       "      <th>4545</th>\n",
       "      <td>0.473602</td>\n",
       "      <td>0.510358</td>\n",
       "      <td>0.525992</td>\n",
       "      <td>0.595656</td>\n",
       "      <td>0.595843</td>\n",
       "      <td>0.998887</td>\n",
       "      <td>0.797239</td>\n",
       "      <td>0.80917</td>\n",
       "      <td>0.303433</td>\n",
       "      <td>0.781447</td>\n",
       "      <td>...</td>\n",
       "      <td>0.781266</td>\n",
       "      <td>0.003907</td>\n",
       "      <td>0.623398</td>\n",
       "      <td>0.595651</td>\n",
       "      <td>0.838992</td>\n",
       "      <td>0.278355</td>\n",
       "      <td>0.026476</td>\n",
       "      <td>0.563013</td>\n",
       "      <td>1</td>\n",
       "      <td>0.036581</td>\n",
       "    </tr>\n",
       "  </tbody>\n",
       "</table>\n",
       "<p>1 rows × 95 columns</p>\n",
       "</div>"
      ],
      "text/plain": [
       "       ROA(C) before interest and depreciation before interest  \\\n",
       "4545                                           0.473602          \n",
       "\n",
       "       ROA(A) before interest and % after tax  \\\n",
       "4545                                 0.510358   \n",
       "\n",
       "       ROA(B) before interest and depreciation after tax  \\\n",
       "4545                                           0.525992    \n",
       "\n",
       "       Operating Gross Margin   Realized Sales Gross Margin  \\\n",
       "4545                 0.595656                      0.595843   \n",
       "\n",
       "       Operating Profit Rate   Pre-tax net Interest Rate  \\\n",
       "4545                0.998887                    0.797239   \n",
       "\n",
       "       After-tax net Interest Rate  \\\n",
       "4545                       0.80917   \n",
       "\n",
       "       Non-industry income and expenditure/revenue  \\\n",
       "4545                                      0.303433   \n",
       "\n",
       "       Continuous interest rate (after tax)  ...   Net Income to Total Assets  \\\n",
       "4545                               0.781447  ...                     0.781266   \n",
       "\n",
       "       Total assets to GNP price   No-credit Interval   Gross Profit to Sales  \\\n",
       "4545                    0.003907             0.623398                0.595651   \n",
       "\n",
       "       Net Income to Stockholder's Equity   Liability to Equity  \\\n",
       "4545                             0.838992              0.278355   \n",
       "\n",
       "       Degree of Financial Leverage (DFL)  \\\n",
       "4545                             0.026476   \n",
       "\n",
       "       Interest Coverage Ratio (Interest expense to EBIT)   Net Income Flag  \\\n",
       "4545                                           0.563013                   1   \n",
       "\n",
       "       Equity to Liability  \n",
       "4545              0.036581  \n",
       "\n",
       "[1 rows x 95 columns]"
      ]
     },
     "execution_count": 23,
     "metadata": {},
     "output_type": "execute_result"
    }
   ],
   "source": [
    "X_train.sample(1)"
   ]
  },
  {
   "cell_type": "code",
   "execution_count": 19,
   "id": "4bba2c27",
   "metadata": {},
   "outputs": [
    {
     "name": "stderr",
     "output_type": "stream",
     "text": [
      "/opt/anaconda3/envs/sharpist/lib/python3.9/site-packages/sklearn/base.py:450: UserWarning: X does not have valid feature names, but MultinomialNB was fitted with feature names\n",
      "  warnings.warn(\n"
     ]
    }
   ],
   "source": [
    "# test\n",
    "pred_proba = model_apply.predict_proba(np.array(X_train.sample(1)))\n"
   ]
  },
  {
   "cell_type": "code",
   "execution_count": 64,
   "id": "f8c937b3",
   "metadata": {},
   "outputs": [
    {
     "name": "stderr",
     "output_type": "stream",
     "text": [
      "/opt/anaconda3/envs/sharpist/lib/python3.9/site-packages/sklearn/base.py:450: UserWarning: X does not have valid feature names, but MultinomialNB was fitted with feature names\n",
      "  warnings.warn(\n"
     ]
    }
   ],
   "source": [
    "pred = model_apply.predict(np.array(X_train.sample(1)))\n"
   ]
  },
  {
   "cell_type": "code",
   "execution_count": 65,
   "id": "ffe30f5d",
   "metadata": {},
   "outputs": [
    {
     "data": {
      "text/plain": [
       "array([0])"
      ]
     },
     "execution_count": 65,
     "metadata": {},
     "output_type": "execute_result"
    }
   ],
   "source": [
    "pred"
   ]
  },
  {
   "cell_type": "code",
   "execution_count": 63,
   "id": "fea0d5a2",
   "metadata": {},
   "outputs": [
    {
     "data": {
      "text/plain": [
       "array([[5.76804953e-01, 6.29197558e-01, 6.13362600e-01, 6.05103850e-01,\n",
       "        6.05103850e-01, 9.99068574e-01, 7.97540113e-01, 8.09424413e-01,\n",
       "        3.03579392e-01, 7.81687729e-01, 8.48000000e+09, 2.02000000e+09,\n",
       "        4.67332646e-01, 3.52035204e-04, 2.21986031e-01, 2.07028781e-01,\n",
       "        2.07028781e-01, 2.07028781e-01, 2.63401721e-01, 3.33981750e-01,\n",
       "        8.91147511e-02, 1.40053742e-01, 2.21284929e-01, 2.22511432e-02,\n",
       "        8.48249720e-01, 6.89810855e-01, 6.89810855e-01, 2.17641106e-01,\n",
       "        8.26000000e+09, 5.00135727e-04, 2.64878663e-01, 3.89711635e-01,\n",
       "        1.11275784e-02, 1.08017972e-02, 6.30651292e-01, 6.17915538e-03,\n",
       "        1.19267164e-01, 8.80732836e-01, 6.88760196e-03, 3.70654890e-01,\n",
       "        5.36584771e-03, 1.39088378e-01, 2.19327351e-01, 4.01083568e-01,\n",
       "        2.96851574e-01, 1.38577501e-03, 4.56158178e-03, 1.38719020e-03,\n",
       "        2.49190358e-03, 6.27419355e-02, 1.01473202e-01, 4.28438977e-01,\n",
       "        7.31504164e-03, 8.42209864e-01, 7.34594308e-01, 7.30637160e-01,\n",
       "        1.95314543e-01, 1.08491345e-02, 8.40062882e-03, 1.23166714e-01,\n",
       "        3.58102368e-01, 2.77015056e-01, 1.07474734e-03, 9.76834479e-01,\n",
       "        7.38264709e-01, 3.31625955e-01, 0.00000000e+00, 9.54683334e-01,\n",
       "        2.55917150e-03, 2.69769043e-02, 9.93000000e+09, 1.05733295e-04,\n",
       "        5.93950204e-01, 7.86000000e+09, 6.71541017e-01, 7.81575923e-02,\n",
       "        9.76834479e-01, 3.31625955e-01, 1.10933234e-01, 5.42378504e-01,\n",
       "        4.37939935e-01, 6.32426369e-01, 2.98846519e-01, 2.62770457e-02,\n",
       "        0.00000000e+00, 8.47949797e-01, 4.98936981e-03, 6.24110371e-01,\n",
       "        6.05100987e-01, 8.44079634e-01, 2.79260711e-01, 2.68006612e-02,\n",
       "        5.65203311e-01, 1.00000000e+00, 3.13704422e-02]])"
      ]
     },
     "execution_count": 63,
     "metadata": {},
     "output_type": "execute_result"
    }
   ],
   "source": [
    "np.array(X_train.sample(1))"
   ]
  },
  {
   "cell_type": "code",
   "execution_count": 30,
   "id": "f06c7088",
   "metadata": {},
   "outputs": [
    {
     "data": {
      "text/plain": [
       "array([0.])"
      ]
     },
     "execution_count": 30,
     "metadata": {},
     "output_type": "execute_result"
    }
   ],
   "source": [
    "pred_proba"
   ]
  },
  {
   "cell_type": "code",
   "execution_count": 20,
   "id": "2253c3ac",
   "metadata": {},
   "outputs": [
    {
     "data": {
      "image/png": "[encoded data removed]",
      "text/plain": [
       "<Figure size 864x864 with 1 Axes>"
      ]
     },
     "metadata": {
      "needs_background": "light"
     },
     "output_type": "display_data"
    }
   ],
   "source": [
    "model_apply.plot_roc(X_test, y_test)"
   ]
  },
  {
   "cell_type": "markdown",
   "id": "2076e38e",
   "metadata": {},
   "source": [
    "## Flask"
   ]
  },
  {
   "cell_type": "code",
   "execution_count": 21,
   "id": "9f5ef5d7",
   "metadata": {},
   "outputs": [],
   "source": [
    "import requests"
   ]
  },
  {
   "cell_type": "code",
   "execution_count": 60,
   "id": "fa679996",
   "metadata": {},
   "outputs": [
    {
     "data": {
      "text/plain": [
       "{'test': '1'}"
      ]
     },
     "execution_count": 60,
     "metadata": {},
     "output_type": "execute_result"
    }
   ],
   "source": [
    "#testing flask\n",
    "\n",
    "url = 'http://127.0.0.1:5000/'\n",
    "params ={'query': np.array(X_train.sample(1)).tolist()}\n",
    "response = requests.get(url, params)\n",
    "response.json()\n"
   ]
  },
  {
   "cell_type": "code",
   "execution_count": 24,
   "id": "b2e81faf",
   "metadata": {},
   "outputs": [],
   "source": [
    "from flask import Response, jsonify, request\n",
    "#@app.route(\"/dfjson\")\n",
    "#def dfjson(df):\n",
    "   # \"\"\"\n",
    "    #return a json representation of the dataframe\n",
    "    # return Response(df.to_json(orient=\"records\"), mimetype='application/json')'''"
   ]
  },
  {
   "cell_type": "code",
   "execution_count": 69,
   "id": "67f78ab4",
   "metadata": {},
   "outputs": [
    {
     "data": {
      "text/plain": [
       "pandas.core.frame.DataFrame"
      ]
     },
     "execution_count": 69,
     "metadata": {},
     "output_type": "execute_result"
    }
   ],
   "source": [
    " type(X_train.sample(1))"
   ]
  },
  {
   "cell_type": "code",
   "execution_count": 68,
   "id": "72b9e154",
   "metadata": {
    "collapsed": true
   },
   "outputs": [
    {
     "data": {
      "text/plain": [
       "'{\" ROA(C) before interest and depreciation before interest\":{\"1523\":0.4693608931},\" ROA(A) before interest and % after tax\":{\"1523\":0.512047536},\" ROA(B) before interest and depreciation after tax\":{\"1523\":0.5272766208},\" Operating Gross Margin\":{\"1523\":0.5945963476},\" Realized Sales Gross Margin\":{\"1523\":0.5945963476},\" Operating Profit Rate\":{\"1523\":0.9987606405},\" Pre-tax net Interest Rate\":{\"1523\":0.7971194195},\" After-tax net Interest Rate\":{\"1523\":0.8091677942},\" Non-industry income and expenditure\\\\/revenue\":{\"1523\":0.3034885129},\" Continuous interest rate (after tax)\":{\"1523\":0.7814046407},\" Operating Expense Rate\":{\"1523\":0.0002243348},\" Research and development expense rate\":{\"1523\":0.0},\" Cash flow rate\":{\"1523\":0.4643902603},\" Interest-bearing debt interest rate\":{\"1523\":0.0006470647},\" Tax rate (A)\":{\"1523\":0.0},\" Net Value Per Share (B)\":{\"1523\":0.188909022},\" Net Value Per Share (A)\":{\"1523\":0.188909022},\" Net Value Per Share (C)\":{\"1523\":0.188909022},\" Persistent EPS in the Last Four Seasons\":{\"1523\":0.2055403233},\" Cash Flow Per Share\":{\"1523\":0.3207894178},\" Revenue Per Share (Yuan \\\\u00a5)\":{\"1523\":0.0125383789},\" Operating Profit Per Share (Yuan \\\\u00a5)\":{\"1523\":0.0835436854},\" Per Share Net profit before tax (Yuan \\\\u00a5)\":{\"1523\":0.1577163516},\" Realized Sales Gross Profit Growth Rate\":{\"1523\":0.0219504741},\" Operating Profit Growth Rate\":{\"1523\":0.8476578999},\" After-tax Net Profit Growth Rate\":{\"1523\":0.6889405679},\" Regular Net Profit Growth Rate\":{\"1523\":0.6889405679},\" Continuous Net Profit Growth Rate\":{\"1523\":0.2175380575},\" Total Asset Growth Rate\":{\"1523\":8910000000.0},\" Net Value Growth Rate\":{\"1523\":0.0004870347},\" Total Asset Return Growth Rate Ratio\":{\"1523\":0.2633501954},\" Cash Reinvestment %\":{\"1523\":0.3802671286},\" Current Ratio\":{\"1523\":0.0058882812},\" Quick Ratio\":{\"1523\":0.005082428},\" Interest Expense Ratio\":{\"1523\":0.6292927494},\" Total debt\\\\/Total net worth\":{\"1523\":0.0045039623},\" Debt ratio %\":{\"1523\":0.0975300057},\" Net worth\\\\/Assets\":{\"1523\":0.9024699943},\" Long-term fund suitability ratio (A)\":{\"1523\":0.0050315459},\" Borrowing dependency\":{\"1523\":0.3735503251},\" Contingent liabilities\\\\/Net worth\":{\"1523\":0.0053658477},\" Operating profit\\\\/Paid-in capital\":{\"1523\":0.0835002524},\" Net profit before tax\\\\/Paid-in capital\":{\"1523\":0.1571676344},\" Inventory and accounts receivable\\\\/Net value\":{\"1523\":0.396402576},\" Total Asset Turnover\":{\"1523\":0.0614692654},\" Accounts Receivable Turnover\":{\"1523\":0.0006472361},\" Average Collection Days\":{\"1523\":0.0097610336},\" Inventory Turnover Rate (times)\":{\"1523\":0.0004490216},\" Fixed Assets Turnover Frequency\":{\"1523\":4610000000.0},\" Net Worth Turnover Rate (times)\":{\"1523\":0.0183870968},\" Revenue per person\":{\"1523\":0.0069532776},\" Operating profit per person\":{\"1523\":0.3872933674},\" Allocation rate per person\":{\"1523\":0.0224985332},\" Working Capital to Total Assets\":{\"1523\":0.7499938415},\" Quick Assets\\\\/Total Assets\":{\"1523\":0.2047653663},\" Current Assets\\\\/Total Assets\":{\"1523\":0.2110460498},\" Cash\\\\/Total Assets\":{\"1523\":0.0461267234},\" Quick Assets\\\\/Current Liability\":{\"1523\":0.0056047011},\" Cash\\\\/Current Liability\":{\"1523\":0.0036350473},\" Current Liability to Assets\":{\"1523\":0.0670052149},\" Operating Funds to Liability\":{\"1523\":0.3464867034},\" Inventory\\\\/Working Capital\":{\"1523\":0.2725507401},\" Inventory\\\\/Current Liability\":{\"1523\":0.0010898894},\" Current Liabilities\\\\/Liability\":{\"1523\":0.6413962307},\" Working Capital\\\\/Equity\":{\"1523\":0.7318828081},\" Current Liabilities\\\\/Equity\":{\"1523\":0.3288202197},\" Long-term Liability to Current Assets\":{\"1523\":0.017572307},\" Retained Earnings to Total Assets\":{\"1523\":0.9299619067},\" Total income\\\\/Total expense\":{\"1523\":0.0021055258},\" Total expense\\\\/Assets\":{\"1523\":0.0170821435},\" Current Asset Turnover Rate\":{\"1523\":0.0001517076},\" Quick Asset Turnover Rate\":{\"1523\":0.0001530453},\" Working capitcal Turnover Rate\":{\"1523\":0.593913606},\" Cash Turnover Rate\":{\"1523\":9150000000.0},\" Cash Flow to Sales\":{\"1523\":0.6715870719},\" Fixed Assets to Assets\":{\"1523\":0.7112071603},\" Current Liability to Liability\":{\"1523\":0.6413962307},\" Current Liability to Equity\":{\"1523\":0.3288202197},\" Equity to Long-term Liability\":{\"1523\":0.1162655118},\" Cash Flow to Total Assets\":{\"1523\":0.6525600614},\" Cash Flow to Liability\":{\"1523\":0.4617541415},\" CFO to Assets\":{\"1523\":0.5832602551},\" Cash Flow to Equity\":{\"1523\":0.3159083839},\" Current Liability to Current Assets\":{\"1523\":0.0487666772},\" Liability-Assets Flag\":{\"1523\":0},\" Net Income to Total Assets\":{\"1523\":0.7834977163},\" Total assets to GNP price\":{\"1523\":0.0012066592},\" No-credit Interval\":{\"1523\":0.6243330672},\" Gross Profit to Sales\":{\"1523\":0.5945940262},\" Net Income to Stockholder\\'s Equity\":{\"1523\":0.8391782237},\" Liability to Equity\":{\"1523\":0.2780453298},\" Degree of Financial Leverage (DFL)\":{\"1523\":0.0266121853},\" Interest Coverage Ratio (Interest expense to EBIT)\":{\"1523\":0.5641310285},\" Net Income Flag\":{\"1523\":1},\" Equity to Liability\":{\"1523\":0.0390075765}}'"
      ]
     },
     "execution_count": 68,
     "metadata": {},
     "output_type": "execute_result"
    }
   ],
   "source": [
    "test_json"
   ]
  },
  {
   "cell_type": "code",
   "execution_count": 83,
   "id": "1afc1ffb",
   "metadata": {},
   "outputs": [],
   "source": [
    "def hello(df):\n",
    "    all_args = request.args.to_dict()\n",
    "    return jsonify(all_args)"
   ]
  },
  {
   "cell_type": "code",
   "execution_count": 94,
   "id": "bcb5a614",
   "metadata": {},
   "outputs": [],
   "source": [
    "data = X_train.sample(1).to_dict(orient='records')"
   ]
  },
  {
   "cell_type": "code",
   "execution_count": 112,
   "id": "46ddb581",
   "metadata": {},
   "outputs": [
    {
     "data": {
      "text/plain": [
       "{' ROA(C) before interest and depreciation before interest': 0.472529615365866,\n",
       " ' ROA(A) before interest and % after tax': 0.53968600087222,\n",
       " ' ROA(B) before interest and depreciation after tax': 0.527330156860646,\n",
       " ' Operating Gross Margin': 0.602855330863806,\n",
       " ' Realized Sales Gross Margin': 0.602855330863806,\n",
       " ' Operating Profit Rate': 0.998988499584608,\n",
       " ' Pre-tax net Interest Rate': 0.79740121902851,\n",
       " ' After-tax net Interest Rate': 0.809331582439398,\n",
       " ' Non-industry income and expenditure/revenue': 0.303504223325927,\n",
       " ' Continuous interest rate (after tax)': 0.781592430689649,\n",
       " ' Operating Expense Rate': 0.0001288190542114,\n",
       " ' Research and development expense rate': 4480000000.0,\n",
       " ' Cash flow rate': 0.466124824907946,\n",
       " ' Interest-bearing debt interest rate': 0.0002480248024802,\n",
       " ' Tax rate (A)': 0.0,\n",
       " ' Net Value Per Share (B)': 0.180228393240909,\n",
       " ' Net Value Per Share (A)': 0.180228393240909,\n",
       " ' Net Value Per Share (C)': 0.180228393240909,\n",
       " ' Persistent EPS in the Last Four Seasons': 0.217452963978444,\n",
       " ' Cash Flow Per Share': 0.324184763386857,\n",
       " ' Revenue Per Share (Yuan ¥)': 0.0240482780525432,\n",
       " ' Operating Profit Per Share (Yuan ¥)': 0.0982818988681703,\n",
       " ' Per Share Net profit before tax (Yuan ¥)': 0.171800858627702,\n",
       " ' Realized Sales Gross Profit Growth Rate': 0.0221147469768775,\n",
       " ' Operating Profit Growth Rate': 0.848112529278104,\n",
       " ' After-tax Net Profit Growth Rate': 0.689488529932558,\n",
       " ' Regular Net Profit Growth Rate': 0.68949187697028,\n",
       " ' Continuous Net Profit Growth Rate': 0.217594337025392,\n",
       " ' Total Asset Growth Rate': 6570000000.0,\n",
       " ' Net Value Growth Rate': 0.0004470827104511,\n",
       " ' Total Asset Return Growth Rate Ratio': 0.26401146933352,\n",
       " ' Cash Reinvestment %': 0.384905554934615,\n",
       " ' Current Ratio': 0.0112916964377646,\n",
       " ' Quick Ratio': 0.0085216603637987,\n",
       " ' Interest Expense Ratio': 0.63119888768647,\n",
       " ' Total debt/Total net worth': 0.005780647279293,\n",
       " ' Debt ratio %': 0.114520663905433,\n",
       " ' Net worth/Assets': 0.885479336094567,\n",
       " ' Long-term fund suitability ratio (A)': 0.0054007326616058,\n",
       " ' Borrowing dependency': 0.371642401970104,\n",
       " ' Contingent liabilities/Net worth': 0.006312762016184,\n",
       " ' Operating profit/Paid-in capital': 0.098123992378719,\n",
       " ' Net profit before tax/Paid-in capital': 0.170680944121861,\n",
       " ' Inventory and accounts receivable/Net value': 0.403456217185162,\n",
       " ' Total Asset Turnover': 0.112443778110945,\n",
       " ' Accounts Receivable Turnover': 0.0004991224777576,\n",
       " ' Average Collection Days': 0.0126643241096931,\n",
       " ' Inventory Turnover Rate (times)': 812000000.0,\n",
       " ' Fixed Assets Turnover Frequency': 0.0002193843470024,\n",
       " ' Net Worth Turnover Rate (times)': 0.0287096774193548,\n",
       " ' Revenue per person': 0.0184186948283713,\n",
       " ' Operating profit per person': 0.39364781438683,\n",
       " ' Allocation rate per person': 0.0107752756900425,\n",
       " ' Working Capital to Total Assets': 0.823662805863444,\n",
       " ' Quick Assets/Total Assets': 0.455836546025131,\n",
       " ' Current Assets/Total Assets': 0.571702072613495,\n",
       " ' Cash/Total Assets': 0.103935870049925,\n",
       " ' Quick Assets/Current Liability': 0.0087248933950322,\n",
       " ' Cash/Current Liability': 0.0057796105360497,\n",
       " ' Current Liability to Assets': 0.0951576484555818,\n",
       " ' Operating Funds to Liability': 0.351833442374353,\n",
       " ' Inventory/Working Capital': 0.277227909079394,\n",
       " ' Inventory/Current Liability': 0.0069793733689462,\n",
       " ' Current Liabilities/Liability': 0.782465946279817,\n",
       " ' Working Capital/Equity': 0.736849318090674,\n",
       " ' Current Liabilities/Equity': 0.330278844196773,\n",
       " ' Long-term Liability to Current Assets': 0.0009252257921111,\n",
       " ' Retained Earnings to Total Assets': 0.932966815954399,\n",
       " ' Total income/Total expense': 0.0022723477437502,\n",
       " ' Total expense/Assets': 0.0181851141451035,\n",
       " ' Current Asset Turnover Rate': 0.0002027162310451,\n",
       " ' Quick Asset Turnover Rate': 0.0001651590285587,\n",
       " ' Working capitcal Turnover Rate': 0.593983628452136,\n",
       " ' Cash Turnover Rate': 0.0001014966362987,\n",
       " ' Cash Flow to Sales': 0.671588251116589,\n",
       " ' Fixed Assets to Assets': 0.261363700461754,\n",
       " ' Current Liability to Liability': 0.782465946279817,\n",
       " ' Current Liability to Equity': 0.330278844196773,\n",
       " ' Equity to Long-term Liability': 0.111747415751755,\n",
       " ' Cash Flow to Total Assets': 0.664065359789693,\n",
       " ' Cash Flow to Liability': 0.463937906288799,\n",
       " ' CFO to Assets': 0.606381267021773,\n",
       " ' Cash Flow to Equity': 0.317785101251123,\n",
       " ' Current Liability to Current Assets': 0.0259017589356769,\n",
       " ' Liability-Assets Flag': 0,\n",
       " ' Net Income to Total Assets': 0.800459796081336,\n",
       " ' Total assets to GNP price': 0.0039109826464657,\n",
       " ' No-credit Interval': 0.624007504904976,\n",
       " ' Gross Profit to Sales': 0.602850423136265,\n",
       " \" Net Income to Stockholder's Equity\": 0.840381728912132,\n",
       " ' Liability to Equity': 0.278971181420877,\n",
       " ' Degree of Financial Leverage (DFL)': 0.0270503812403664,\n",
       " ' Interest Coverage Ratio (Interest expense to EBIT)': 0.566150956312893,\n",
       " ' Net Income Flag': 1,\n",
       " ' Equity to Liability': 0.0327971199263743}"
      ]
     },
     "execution_count": 112,
     "metadata": {},
     "output_type": "execute_result"
    }
   ],
   "source": [
    "data[0]"
   ]
  },
  {
   "cell_type": "code",
   "execution_count": 97,
   "id": "e1a8d075",
   "metadata": {
    "collapsed": true
   },
   "outputs": [
    {
     "data": {
      "text/plain": [
       "array([{' ROA(C) before interest and depreciation before interest': 0.472529615365866, ' ROA(A) before interest and % after tax': 0.53968600087222, ' ROA(B) before interest and depreciation after tax': 0.527330156860646, ' Operating Gross Margin': 0.602855330863806, ' Realized Sales Gross Margin': 0.602855330863806, ' Operating Profit Rate': 0.998988499584608, ' Pre-tax net Interest Rate': 0.79740121902851, ' After-tax net Interest Rate': 0.809331582439398, ' Non-industry income and expenditure/revenue': 0.303504223325927, ' Continuous interest rate (after tax)': 0.781592430689649, ' Operating Expense Rate': 0.0001288190542114, ' Research and development expense rate': 4480000000.0, ' Cash flow rate': 0.466124824907946, ' Interest-bearing debt interest rate': 0.0002480248024802, ' Tax rate (A)': 0.0, ' Net Value Per Share (B)': 0.180228393240909, ' Net Value Per Share (A)': 0.180228393240909, ' Net Value Per Share (C)': 0.180228393240909, ' Persistent EPS in the Last Four Seasons': 0.217452963978444, ' Cash Flow Per Share': 0.324184763386857, ' Revenue Per Share (Yuan ¥)': 0.0240482780525432, ' Operating Profit Per Share (Yuan ¥)': 0.0982818988681703, ' Per Share Net profit before tax (Yuan ¥)': 0.171800858627702, ' Realized Sales Gross Profit Growth Rate': 0.0221147469768775, ' Operating Profit Growth Rate': 0.848112529278104, ' After-tax Net Profit Growth Rate': 0.689488529932558, ' Regular Net Profit Growth Rate': 0.68949187697028, ' Continuous Net Profit Growth Rate': 0.217594337025392, ' Total Asset Growth Rate': 6570000000.0, ' Net Value Growth Rate': 0.0004470827104511, ' Total Asset Return Growth Rate Ratio': 0.26401146933352, ' Cash Reinvestment %': 0.384905554934615, ' Current Ratio': 0.0112916964377646, ' Quick Ratio': 0.0085216603637987, ' Interest Expense Ratio': 0.63119888768647, ' Total debt/Total net worth': 0.005780647279293, ' Debt ratio %': 0.114520663905433, ' Net worth/Assets': 0.885479336094567, ' Long-term fund suitability ratio (A)': 0.0054007326616058, ' Borrowing dependency': 0.371642401970104, ' Contingent liabilities/Net worth': 0.006312762016184, ' Operating profit/Paid-in capital': 0.098123992378719, ' Net profit before tax/Paid-in capital': 0.170680944121861, ' Inventory and accounts receivable/Net value': 0.403456217185162, ' Total Asset Turnover': 0.112443778110945, ' Accounts Receivable Turnover': 0.0004991224777576, ' Average Collection Days': 0.0126643241096931, ' Inventory Turnover Rate (times)': 812000000.0, ' Fixed Assets Turnover Frequency': 0.0002193843470024, ' Net Worth Turnover Rate (times)': 0.0287096774193548, ' Revenue per person': 0.0184186948283713, ' Operating profit per person': 0.39364781438683, ' Allocation rate per person': 0.0107752756900425, ' Working Capital to Total Assets': 0.823662805863444, ' Quick Assets/Total Assets': 0.455836546025131, ' Current Assets/Total Assets': 0.571702072613495, ' Cash/Total Assets': 0.103935870049925, ' Quick Assets/Current Liability': 0.0087248933950322, ' Cash/Current Liability': 0.0057796105360497, ' Current Liability to Assets': 0.0951576484555818, ' Operating Funds to Liability': 0.351833442374353, ' Inventory/Working Capital': 0.277227909079394, ' Inventory/Current Liability': 0.0069793733689462, ' Current Liabilities/Liability': 0.782465946279817, ' Working Capital/Equity': 0.736849318090674, ' Current Liabilities/Equity': 0.330278844196773, ' Long-term Liability to Current Assets': 0.0009252257921111, ' Retained Earnings to Total Assets': 0.932966815954399, ' Total income/Total expense': 0.0022723477437502, ' Total expense/Assets': 0.0181851141451035, ' Current Asset Turnover Rate': 0.0002027162310451, ' Quick Asset Turnover Rate': 0.0001651590285587, ' Working capitcal Turnover Rate': 0.593983628452136, ' Cash Turnover Rate': 0.0001014966362987, ' Cash Flow to Sales': 0.671588251116589, ' Fixed Assets to Assets': 0.261363700461754, ' Current Liability to Liability': 0.782465946279817, ' Current Liability to Equity': 0.330278844196773, ' Equity to Long-term Liability': 0.111747415751755, ' Cash Flow to Total Assets': 0.664065359789693, ' Cash Flow to Liability': 0.463937906288799, ' CFO to Assets': 0.606381267021773, ' Cash Flow to Equity': 0.317785101251123, ' Current Liability to Current Assets': 0.0259017589356769, ' Liability-Assets Flag': 0, ' Net Income to Total Assets': 0.800459796081336, ' Total assets to GNP price': 0.0039109826464657, ' No-credit Interval': 0.624007504904976, ' Gross Profit to Sales': 0.602850423136265, \" Net Income to Stockholder's Equity\": 0.840381728912132, ' Liability to Equity': 0.278971181420877, ' Degree of Financial Leverage (DFL)': 0.0270503812403664, ' Interest Coverage Ratio (Interest expense to EBIT)': 0.566150956312893, ' Net Income Flag': 1, ' Equity to Liability': 0.0327971199263743}],\n",
       "      dtype=object)"
      ]
     },
     "execution_count": 97,
     "metadata": {},
     "output_type": "execute_result"
    }
   ],
   "source": [
    "#numpy_2d_arrays = [np.array(ring) for ring in dict[\"rings\"]]\n",
    "np.asarray(data)"
   ]
  },
  {
   "cell_type": "code",
   "execution_count": 111,
   "id": "8fbdb618",
   "metadata": {
    "collapsed": true
   },
   "outputs": [
    {
     "ename": "JSONDecodeError",
     "evalue": "[Errno Expecting value] <!doctype html>\n<html lang=en>\n  <head>\n    <title>ValueError: Expected 2D array, got 1D array instead:\narray=[nan].\nReshape your data either using array.reshape(-1, 1) if your data has a single feature or array.reshape(1, -1) if it contains a single sample.\n // Werkzeug Debugger</title>\n    <link rel=\"stylesheet\" href=\"?__debugger__=yes&amp;cmd=resource&amp;f=style.css\">\n    <link rel=\"shortcut icon\"\n        href=\"?__debugger__=yes&amp;cmd=resource&amp;f=console.png\">\n    <script src=\"?__debugger__=yes&amp;cmd=resource&amp;f=debugger.js\"></script>\n    <script>\n      var CONSOLE_MODE = false,\n          EVALEX = true,\n          EVALEX_TRUSTED = false,\n          SECRET = \"soq2fnp1zQmdpkqwgKjx\";\n    </script>\n  </head>\n  <body style=\"background-color: #fff\">\n    <div class=\"debugger\">\n<h1>ValueError</h1>\n<div class=\"detail\">\n  <p class=\"errormsg\">ValueError: Expected 2D array, got 1D array instead:\narray=[nan].\nReshape your data either using array.reshape(-1, 1) if your data has a single feature or array.reshape(1, -1) if it contains a single sample.\n</p>\n</div>\n<h2 class=\"traceback\">Traceback <em>(most recent call last)</em></h2>\n<div class=\"traceback\">\n  <h3></h3>\n  <ul><li><div class=\"frame\" id=\"frame-140357292820848\">\n  <h4>File <cite class=\"filename\">\"/opt/anaconda3/envs/sharpist/lib/python3.9/site-packages/flask/app.py\"</cite>,\n      line <em class=\"line\">2095</em>,\n      in <code class=\"function\">__call__</code></h4>\n  <div class=\"source library\"><pre class=\"line before\"><span class=\"ws\">    </span>def __call__(self, environ: dict, start_response: t.Callable) -&gt; t.Any:</pre>\n<pre class=\"line before\"><span class=\"ws\">        </span>&quot;&quot;&quot;The WSGI server calls the Flask application object as the</pre>\n<pre class=\"line before\"><span class=\"ws\">        </span>WSGI application. This calls :meth:`wsgi_app`, which can be</pre>\n<pre class=\"line before\"><span class=\"ws\">        </span>wrapped to apply middleware.</pre>\n<pre class=\"line before\"><span class=\"ws\">        </span>&quot;&quot;&quot;</pre>\n<pre class=\"line current\"><span class=\"ws\">        </span>return self.wsgi_app(environ, start_response)</pre></div>\n</div>\n\n<li><div class=\"frame\" id=\"frame-140357293177088\">\n  <h4>File <cite class=\"filename\">\"/opt/anaconda3/envs/sharpist/lib/python3.9/site-packages/flask/app.py\"</cite>,\n      line <em class=\"line\">2080</em>,\n      in <code class=\"function\">wsgi_app</code></h4>\n  <div class=\"source library\"><pre class=\"line before\"><span class=\"ws\">            </span>try:</pre>\n<pre class=\"line before\"><span class=\"ws\">                </span>ctx.push()</pre>\n<pre class=\"line before\"><span class=\"ws\">                </span>response = self.full_dispatch_request()</pre>\n<pre class=\"line before\"><span class=\"ws\">            </span>except Exception as e:</pre>\n<pre class=\"line before\"><span class=\"ws\">                </span>error = e</pre>\n<pre class=\"line current\"><span class=\"ws\">                </span>response = self.handle_exception(e)</pre>\n<pre class=\"line after\"><span class=\"ws\">            </span>except:  # noqa: B001</pre>\n<pre class=\"line after\"><span class=\"ws\">                </span>error = sys.exc_info()[1]</pre>\n<pre class=\"line after\"><span class=\"ws\">                </span>raise</pre>\n<pre class=\"line after\"><span class=\"ws\">            </span>return response(environ, start_response)</pre>\n<pre class=\"line after\"><span class=\"ws\">        </span>finally:</pre></div>\n</div>\n\n<li><div class=\"frame\" id=\"frame-140357293177200\">\n  <h4>File <cite class=\"filename\">\"/opt/anaconda3/envs/sharpist/lib/python3.9/site-packages/flask_restful/__init__.py\"</cite>,\n      line <em class=\"line\">271</em>,\n      in <code class=\"function\">error_router</code></h4>\n  <div class=\"source library\"><pre class=\"line before\"><span class=\"ws\">        </span>if self._has_fr_route():</pre>\n<pre class=\"line before\"><span class=\"ws\">            </span>try:</pre>\n<pre class=\"line before\"><span class=\"ws\">                </span>return self.handle_error(e)</pre>\n<pre class=\"line before\"><span class=\"ws\">            </span>except Exception:</pre>\n<pre class=\"line before\"><span class=\"ws\">                </span>pass  # Fall through to original handler</pre>\n<pre class=\"line current\"><span class=\"ws\">        </span>return original_handler(e)</pre>\n<pre class=\"line after\"><span class=\"ws\"></span> </pre>\n<pre class=\"line after\"><span class=\"ws\">    </span>def handle_error(self, e):</pre>\n<pre class=\"line after\"><span class=\"ws\">        </span>&quot;&quot;&quot;Error handler for the API transforms a raised exception into a Flask</pre>\n<pre class=\"line after\"><span class=\"ws\">        </span>response, with the appropriate HTTP status code and body.</pre>\n<pre class=\"line after\"><span class=\"ws\"></span> </pre></div>\n</div>\n\n<li><div class=\"frame\" id=\"frame-140357293234096\">\n  <h4>File <cite class=\"filename\">\"/opt/anaconda3/envs/sharpist/lib/python3.9/site-packages/flask/app.py\"</cite>,\n      line <em class=\"line\">2077</em>,\n      in <code class=\"function\">wsgi_app</code></h4>\n  <div class=\"source library\"><pre class=\"line before\"><span class=\"ws\">        </span>ctx = self.request_context(environ)</pre>\n<pre class=\"line before\"><span class=\"ws\">        </span>error: t.Optional[BaseException] = None</pre>\n<pre class=\"line before\"><span class=\"ws\">        </span>try:</pre>\n<pre class=\"line before\"><span class=\"ws\">            </span>try:</pre>\n<pre class=\"line before\"><span class=\"ws\">                </span>ctx.push()</pre>\n<pre class=\"line current\"><span class=\"ws\">                </span>response = self.full_dispatch_request()</pre>\n<pre class=\"line after\"><span class=\"ws\">            </span>except Exception as e:</pre>\n<pre class=\"line after\"><span class=\"ws\">                </span>error = e</pre>\n<pre class=\"line after\"><span class=\"ws\">                </span>response = self.handle_exception(e)</pre>\n<pre class=\"line after\"><span class=\"ws\">            </span>except:  # noqa: B001</pre>\n<pre class=\"line after\"><span class=\"ws\">                </span>error = sys.exc_info()[1]</pre></div>\n</div>\n\n<li><div class=\"frame\" id=\"frame-140357293234208\">\n  <h4>File <cite class=\"filename\">\"/opt/anaconda3/envs/sharpist/lib/python3.9/site-packages/flask/app.py\"</cite>,\n      line <em class=\"line\">1525</em>,\n      in <code class=\"function\">full_dispatch_request</code></h4>\n  <div class=\"source library\"><pre class=\"line before\"><span class=\"ws\">            </span>request_started.send(self)</pre>\n<pre class=\"line before\"><span class=\"ws\">            </span>rv = self.preprocess_request()</pre>\n<pre class=\"line before\"><span class=\"ws\">            </span>if rv is None:</pre>\n<pre class=\"line before\"><span class=\"ws\">                </span>rv = self.dispatch_request()</pre>\n<pre class=\"line before\"><span class=\"ws\">        </span>except Exception as e:</pre>\n<pre class=\"line current\"><span class=\"ws\">            </span>rv = self.handle_user_exception(e)</pre>\n<pre class=\"line after\"><span class=\"ws\">        </span>return self.finalize_request(rv)</pre>\n<pre class=\"line after\"><span class=\"ws\"></span> </pre>\n<pre class=\"line after\"><span class=\"ws\">    </span>def finalize_request(</pre>\n<pre class=\"line after\"><span class=\"ws\">        </span>self,</pre>\n<pre class=\"line after\"><span class=\"ws\">        </span>rv: t.Union[ResponseReturnValue, HTTPException],</pre></div>\n</div>\n\n<li><div class=\"frame\" id=\"frame-140357293234320\">\n  <h4>File <cite class=\"filename\">\"/opt/anaconda3/envs/sharpist/lib/python3.9/site-packages/flask_restful/__init__.py\"</cite>,\n      line <em class=\"line\">271</em>,\n      in <code class=\"function\">error_router</code></h4>\n  <div class=\"source library\"><pre class=\"line before\"><span class=\"ws\">        </span>if self._has_fr_route():</pre>\n<pre class=\"line before\"><span class=\"ws\">            </span>try:</pre>\n<pre class=\"line before\"><span class=\"ws\">                </span>return self.handle_error(e)</pre>\n<pre class=\"line before\"><span class=\"ws\">            </span>except Exception:</pre>\n<pre class=\"line before\"><span class=\"ws\">                </span>pass  # Fall through to original handler</pre>\n<pre class=\"line current\"><span class=\"ws\">        </span>return original_handler(e)</pre>\n<pre class=\"line after\"><span class=\"ws\"></span> </pre>\n<pre class=\"line after\"><span class=\"ws\">    </span>def handle_error(self, e):</pre>\n<pre class=\"line after\"><span class=\"ws\">        </span>&quot;&quot;&quot;Error handler for the API transforms a raised exception into a Flask</pre>\n<pre class=\"line after\"><span class=\"ws\">        </span>response, with the appropriate HTTP status code and body.</pre>\n<pre class=\"line after\"><span class=\"ws\"></span> </pre></div>\n</div>\n\n<li><div class=\"frame\" id=\"frame-140357293234432\">\n  <h4>File <cite class=\"filename\">\"/opt/anaconda3/envs/sharpist/lib/python3.9/site-packages/flask/app.py\"</cite>,\n      line <em class=\"line\">1523</em>,\n      in <code class=\"function\">full_dispatch_request</code></h4>\n  <div class=\"source library\"><pre class=\"line before\"><span class=\"ws\">        </span>self.try_trigger_before_first_request_functions()</pre>\n<pre class=\"line before\"><span class=\"ws\">        </span>try:</pre>\n<pre class=\"line before\"><span class=\"ws\">            </span>request_started.send(self)</pre>\n<pre class=\"line before\"><span class=\"ws\">            </span>rv = self.preprocess_request()</pre>\n<pre class=\"line before\"><span class=\"ws\">            </span>if rv is None:</pre>\n<pre class=\"line current\"><span class=\"ws\">                </span>rv = self.dispatch_request()</pre>\n<pre class=\"line after\"><span class=\"ws\">        </span>except Exception as e:</pre>\n<pre class=\"line after\"><span class=\"ws\">            </span>rv = self.handle_user_exception(e)</pre>\n<pre class=\"line after\"><span class=\"ws\">        </span>return self.finalize_request(rv)</pre>\n<pre class=\"line after\"><span class=\"ws\"></span> </pre>\n<pre class=\"line after\"><span class=\"ws\">    </span>def finalize_request(</pre></div>\n</div>\n\n<li><div class=\"frame\" id=\"frame-140357293234544\">\n  <h4>File <cite class=\"filename\">\"/opt/anaconda3/envs/sharpist/lib/python3.9/site-packages/flask/app.py\"</cite>,\n      line <em class=\"line\">1509</em>,\n      in <code class=\"function\">dispatch_request</code></h4>\n  <div class=\"source library\"><pre class=\"line before\"><span class=\"ws\">            </span>getattr(rule, &quot;provide_automatic_options&quot;, False)</pre>\n<pre class=\"line before\"><span class=\"ws\">            </span>and req.method == &quot;OPTIONS&quot;</pre>\n<pre class=\"line before\"><span class=\"ws\">        </span>):</pre>\n<pre class=\"line before\"><span class=\"ws\">            </span>return self.make_default_options_response()</pre>\n<pre class=\"line before\"><span class=\"ws\">        </span># otherwise dispatch to the handler for that endpoint</pre>\n<pre class=\"line current\"><span class=\"ws\">        </span>return self.ensure_sync(self.view_functions[rule.endpoint])(**req.view_args)</pre>\n<pre class=\"line after\"><span class=\"ws\"></span> </pre>\n<pre class=\"line after\"><span class=\"ws\">    </span>def full_dispatch_request(self) -&gt; Response:</pre>\n<pre class=\"line after\"><span class=\"ws\">        </span>&quot;&quot;&quot;Dispatches the request and on top of that performs request</pre>\n<pre class=\"line after\"><span class=\"ws\">        </span>pre and postprocessing as well as HTTP exception catching and</pre>\n<pre class=\"line after\"><span class=\"ws\">        </span>error handling.</pre></div>\n</div>\n\n<li><div class=\"frame\" id=\"frame-140357293234656\">\n  <h4>File <cite class=\"filename\">\"/opt/anaconda3/envs/sharpist/lib/python3.9/site-packages/flask_restful/__init__.py\"</cite>,\n      line <em class=\"line\">467</em>,\n      in <code class=\"function\">wrapper</code></h4>\n  <div class=\"source library\"><pre class=\"line before\"><span class=\"ws\"></span> </pre>\n<pre class=\"line before\"><span class=\"ws\">        </span>:param resource: The resource as a flask view function</pre>\n<pre class=\"line before\"><span class=\"ws\">        </span>&quot;&quot;&quot;</pre>\n<pre class=\"line before\"><span class=\"ws\">        </span>@wraps(resource)</pre>\n<pre class=\"line before\"><span class=\"ws\">        </span>def wrapper(*args, **kwargs):</pre>\n<pre class=\"line current\"><span class=\"ws\">            </span>resp = resource(*args, **kwargs)</pre>\n<pre class=\"line after\"><span class=\"ws\">            </span>if isinstance(resp, ResponseBase):  # There may be a better way to test</pre>\n<pre class=\"line after\"><span class=\"ws\">                </span>return resp</pre>\n<pre class=\"line after\"><span class=\"ws\">            </span>data, code, headers = unpack(resp)</pre>\n<pre class=\"line after\"><span class=\"ws\">            </span>return self.make_response(data, code, headers=headers)</pre>\n<pre class=\"line after\"><span class=\"ws\">        </span>return wrapper</pre></div>\n</div>\n\n<li><div class=\"frame\" id=\"frame-140357293234768\">\n  <h4>File <cite class=\"filename\">\"/opt/anaconda3/envs/sharpist/lib/python3.9/site-packages/flask/views.py\"</cite>,\n      line <em class=\"line\">84</em>,\n      in <code class=\"function\">view</code></h4>\n  <div class=\"source library\"><pre class=\"line before\"><span class=\"ws\">        </span>constructor of the class.</pre>\n<pre class=\"line before\"><span class=\"ws\">        </span>&quot;&quot;&quot;</pre>\n<pre class=\"line before\"><span class=\"ws\"></span> </pre>\n<pre class=\"line before\"><span class=\"ws\">        </span>def view(*args: t.Any, **kwargs: t.Any) -&gt; ResponseReturnValue:</pre>\n<pre class=\"line before\"><span class=\"ws\">            </span>self = view.view_class(*class_args, **class_kwargs)  # type: ignore</pre>\n<pre class=\"line current\"><span class=\"ws\">            </span>return current_app.ensure_sync(self.dispatch_request)(*args, **kwargs)</pre>\n<pre class=\"line after\"><span class=\"ws\"></span> </pre>\n<pre class=\"line after\"><span class=\"ws\">        </span>if cls.decorators:</pre>\n<pre class=\"line after\"><span class=\"ws\">            </span>view.__name__ = name</pre>\n<pre class=\"line after\"><span class=\"ws\">            </span>view.__module__ = cls.__module__</pre>\n<pre class=\"line after\"><span class=\"ws\">            </span>for decorator in cls.decorators:</pre></div>\n</div>\n\n<li><div class=\"frame\" id=\"frame-140357293236112\">\n  <h4>File <cite class=\"filename\">\"/opt/anaconda3/envs/sharpist/lib/python3.9/site-packages/flask_restful/__init__.py\"</cite>,\n      line <em class=\"line\">582</em>,\n      in <code class=\"function\">dispatch_request</code></h4>\n  <div class=\"source library\"><pre class=\"line before\"><span class=\"ws\">            </span>decorators = self.method_decorators</pre>\n<pre class=\"line before\"><span class=\"ws\"></span> </pre>\n<pre class=\"line before\"><span class=\"ws\">        </span>for decorator in decorators:</pre>\n<pre class=\"line before\"><span class=\"ws\">            </span>meth = decorator(meth)</pre>\n<pre class=\"line before\"><span class=\"ws\"></span> </pre>\n<pre class=\"line current\"><span class=\"ws\">        </span>resp = meth(*args, **kwargs)</pre>\n<pre class=\"line after\"><span class=\"ws\"></span> </pre>\n<pre class=\"line after\"><span class=\"ws\">        </span>if isinstance(resp, ResponseBase):  # There may be a better way to test</pre>\n<pre class=\"line after\"><span class=\"ws\">            </span>return resp</pre>\n<pre class=\"line after\"><span class=\"ws\"></span> </pre>\n<pre class=\"line after\"><span class=\"ws\">        </span>representations = self.representations or OrderedDict()</pre></div>\n</div>\n\n<li><div class=\"frame\" id=\"frame-140357293252672\">\n  <h4>File <cite class=\"filename\">\"/Users/roberta.sgariglia/Desktop/firebreak_project/sharpist/app.py\"</cite>,\n      line <em class=\"line\">30</em>,\n      in <code class=\"function\">get</code></h4>\n  <div class=\"source \"><pre class=\"line before\"><span class=\"ws\">        </span># use parser and find the user&#x27;s query</pre>\n<pre class=\"line before\"><span class=\"ws\">        </span>args = parser.parse_args()</pre>\n<pre class=\"line before\"><span class=\"ws\">        </span>user_query = args[&#x27;query&#x27;]</pre>\n<pre class=\"line before\"><span class=\"ws\"></span> </pre>\n<pre class=\"line before\"><span class=\"ws\">         </span># get pred prob and pred</pre>\n<pre class=\"line current\"><span class=\"ws\">        </span>prediction = model.predict(np.array([user_query]))</pre>\n<pre class=\"line after\"><span class=\"ws\">        </span>pred_proba = model.predict_proba(np.array([user_query]))</pre>\n<pre class=\"line after\"><span class=\"ws\"></span> </pre>\n<pre class=\"line after\"><span class=\"ws\">        </span># Output either &#x27;Negative&#x27; or &#x27;Positive&#x27; along with the score</pre>\n<pre class=\"line after\"><span class=\"ws\">        </span>if prediction == 0:</pre>\n<pre class=\"line after\"><span class=\"ws\">            </span>pred_text = &#x27;Negative&#x27;</pre></div>\n</div>\n\n<li><div class=\"frame\" id=\"frame-140357293253120\">\n  <h4>File <cite class=\"filename\">\"/Users/roberta.sgariglia/Desktop/firebreak_project/sharpist/model.py\"</cite>,\n      line <em class=\"line\">33</em>,\n      in <code class=\"function\">predict</code></h4>\n  <div class=\"source \"><pre class=\"line before\"><span class=\"ws\">        </span>return y_proba[:, 1]</pre>\n<pre class=\"line before\"><span class=\"ws\"></span> </pre>\n<pre class=\"line before\"><span class=\"ws\">    </span>def predict(self, X):</pre>\n<pre class=\"line before\"><span class=\"ws\">        </span>&quot;&quot;&quot;Returns the predicted class in an array</pre>\n<pre class=\"line before\"><span class=\"ws\">        </span>&quot;&quot;&quot;</pre>\n<pre class=\"line current\"><span class=\"ws\">        </span>y_pred = self.clf.predict(X)</pre>\n<pre class=\"line after\"><span class=\"ws\">        </span>return y_pred</pre>\n<pre class=\"line after\"><span class=\"ws\"></span> </pre>\n<pre class=\"line after\"><span class=\"ws\">    </span>def pickle_clf(self, path=&#x27;Classifier.pkl&#x27;):</pre>\n<pre class=\"line after\"><span class=\"ws\">        </span>&quot;&quot;&quot;Saves the trained classifier for future use.</pre>\n<pre class=\"line after\"><span class=\"ws\">        </span>&quot;&quot;&quot;</pre></div>\n</div>\n\n<li><div class=\"frame\" id=\"frame-140357293254016\">\n  <h4>File <cite class=\"filename\">\"/opt/anaconda3/envs/sharpist/lib/python3.9/site-packages/sklearn/naive_bayes.py\"</cite>,\n      line <em class=\"line\">82</em>,\n      in <code class=\"function\">predict</code></h4>\n  <div class=\"source library\"><pre class=\"line before\"><span class=\"ws\">        </span>-------</pre>\n<pre class=\"line before\"><span class=\"ws\">        </span>C : ndarray of shape (n_samples,)</pre>\n<pre class=\"line before\"><span class=\"ws\">            </span>Predicted target values for X.</pre>\n<pre class=\"line before\"><span class=\"ws\">        </span>&quot;&quot;&quot;</pre>\n<pre class=\"line before\"><span class=\"ws\">        </span>check_is_fitted(self)</pre>\n<pre class=\"line current\"><span class=\"ws\">        </span>X = self._check_X(X)</pre>\n<pre class=\"line after\"><span class=\"ws\">        </span>jll = self._joint_log_likelihood(X)</pre>\n<pre class=\"line after\"><span class=\"ws\">        </span>return self.classes_[np.argmax(jll, axis=1)]</pre>\n<pre class=\"line after\"><span class=\"ws\"></span> </pre>\n<pre class=\"line after\"><span class=\"ws\">    </span>def predict_log_proba(self, X):</pre>\n<pre class=\"line after\"><span class=\"ws\">        </span>&quot;&quot;&quot;</pre></div>\n</div>\n\n<li><div class=\"frame\" id=\"frame-140357293376784\">\n  <h4>File <cite class=\"filename\">\"/opt/anaconda3/envs/sharpist/lib/python3.9/site-packages/sklearn/naive_bayes.py\"</cite>,\n      line <em class=\"line\">519</em>,\n      in <code class=\"function\">_check_X</code></h4>\n  <div class=\"source library\"><pre class=\"line before\"><span class=\"ws\">    </span>_joint_log_likelihood(X) as per _BaseNB</pre>\n<pre class=\"line before\"><span class=\"ws\">    </span>&quot;&quot;&quot;</pre>\n<pre class=\"line before\"><span class=\"ws\"></span> </pre>\n<pre class=\"line before\"><span class=\"ws\">    </span>def _check_X(self, X):</pre>\n<pre class=\"line before\"><span class=\"ws\">        </span>&quot;&quot;&quot;Validate X, used only in predict* methods.&quot;&quot;&quot;</pre>\n<pre class=\"line current\"><span class=\"ws\">        </span>return self._validate_data(X, accept_sparse=&quot;csr&quot;, reset=False)</pre>\n<pre class=\"line after\"><span class=\"ws\"></span> </pre>\n<pre class=\"line after\"><span class=\"ws\">    </span>def _check_X_y(self, X, y, reset=True):</pre>\n<pre class=\"line after\"><span class=\"ws\">        </span>&quot;&quot;&quot;Validate X and y in fit methods.&quot;&quot;&quot;</pre>\n<pre class=\"line after\"><span class=\"ws\">        </span>return self._validate_data(X, y, accept_sparse=&quot;csr&quot;, reset=reset)</pre>\n<pre class=\"line after\"><span class=\"ws\"></span> </pre></div>\n</div>\n\n<li><div class=\"frame\" id=\"frame-140357293377008\">\n  <h4>File <cite class=\"filename\">\"/opt/anaconda3/envs/sharpist/lib/python3.9/site-packages/sklearn/base.py\"</cite>,\n      line <em class=\"line\">566</em>,\n      in <code class=\"function\">_validate_data</code></h4>\n  <div class=\"source library\"><pre class=\"line before\"><span class=\"ws\">        </span>no_val_y = y is None or isinstance(y, str) and y == &quot;no_validation&quot;</pre>\n<pre class=\"line before\"><span class=\"ws\"></span> </pre>\n<pre class=\"line before\"><span class=\"ws\">        </span>if no_val_X and no_val_y:</pre>\n<pre class=\"line before\"><span class=\"ws\">            </span>raise ValueError(&quot;Validation should be done on X, y or both.&quot;)</pre>\n<pre class=\"line before\"><span class=\"ws\">        </span>elif not no_val_X and no_val_y:</pre>\n<pre class=\"line current\"><span class=\"ws\">            </span>X = check_array(X, **check_params)</pre>\n<pre class=\"line after\"><span class=\"ws\">            </span>out = X</pre>\n<pre class=\"line after\"><span class=\"ws\">        </span>elif no_val_X and not no_val_y:</pre>\n<pre class=\"line after\"><span class=\"ws\">            </span>y = _check_y(y, **check_params)</pre>\n<pre class=\"line after\"><span class=\"ws\">            </span>out = y</pre>\n<pre class=\"line after\"><span class=\"ws\">        </span>else:</pre></div>\n</div>\n\n<li><div class=\"frame\" id=\"frame-140357293377120\">\n  <h4>File <cite class=\"filename\">\"/opt/anaconda3/envs/sharpist/lib/python3.9/site-packages/sklearn/utils/validation.py\"</cite>,\n      line <em class=\"line\">769</em>,\n      in <code class=\"function\">check_array</code></h4>\n  <div class=\"source library\"><pre class=\"line before\"><span class=\"ws\">                    </span>&quot;your data has a single feature or array.reshape(1, -1) &quot;</pre>\n<pre class=\"line before\"><span class=\"ws\">                    </span>&quot;if it contains a single sample.&quot;.format(array)</pre>\n<pre class=\"line before\"><span class=\"ws\">                </span>)</pre>\n<pre class=\"line before\"><span class=\"ws\">            </span># If input is 1D raise error</pre>\n<pre class=\"line before\"><span class=\"ws\">            </span>if array.ndim == 1:</pre>\n<pre class=\"line current\"><span class=\"ws\">                </span>raise ValueError(</pre>\n<pre class=\"line after\"><span class=\"ws\">                    </span>&quot;Expected 2D array, got 1D array instead:\\narray={}.\\n&quot;</pre>\n<pre class=\"line after\"><span class=\"ws\">                    </span>&quot;Reshape your data either using array.reshape(-1, 1) if &quot;</pre>\n<pre class=\"line after\"><span class=\"ws\">                    </span>&quot;your data has a single feature or array.reshape(1, -1) &quot;</pre>\n<pre class=\"line after\"><span class=\"ws\">                    </span>&quot;if it contains a single sample.&quot;.format(array)</pre>\n<pre class=\"line after\"><span class=\"ws\">                </span>)</pre></div>\n</div>\n</ul>\n  <blockquote>ValueError: Expected 2D array, got 1D array instead:\narray=[nan].\nReshape your data either using array.reshape(-1, 1) if your data has a single feature or array.reshape(1, -1) if it contains a single sample.\n</blockquote>\n</div>\n\n<div class=\"plain\">\n    <p>\n      This is the Copy/Paste friendly version of the traceback.\n    </p>\n    <textarea cols=\"50\" rows=\"10\" name=\"code\" readonly>Traceback (most recent call last):\n  File &quot;/opt/anaconda3/envs/sharpist/lib/python3.9/site-packages/flask/app.py&quot;, line 2095, in __call__\n    return self.wsgi_app(environ, start_response)\n  File &quot;/opt/anaconda3/envs/sharpist/lib/python3.9/site-packages/flask/app.py&quot;, line 2080, in wsgi_app\n    response = self.handle_exception(e)\n  File &quot;/opt/anaconda3/envs/sharpist/lib/python3.9/site-packages/flask_restful/__init__.py&quot;, line 271, in error_router\n    return original_handler(e)\n  File &quot;/opt/anaconda3/envs/sharpist/lib/python3.9/site-packages/flask/app.py&quot;, line 2077, in wsgi_app\n    response = self.full_dispatch_request()\n  File &quot;/opt/anaconda3/envs/sharpist/lib/python3.9/site-packages/flask/app.py&quot;, line 1525, in full_dispatch_request\n    rv = self.handle_user_exception(e)\n  File &quot;/opt/anaconda3/envs/sharpist/lib/python3.9/site-packages/flask_restful/__init__.py&quot;, line 271, in error_router\n    return original_handler(e)\n  File &quot;/opt/anaconda3/envs/sharpist/lib/python3.9/site-packages/flask/app.py&quot;, line 1523, in full_dispatch_request\n    rv = self.dispatch_request()\n  File &quot;/opt/anaconda3/envs/sharpist/lib/python3.9/site-packages/flask/app.py&quot;, line 1509, in dispatch_request\n    return self.ensure_sync(self.view_functions[rule.endpoint])(**req.view_args)\n  File &quot;/opt/anaconda3/envs/sharpist/lib/python3.9/site-packages/flask_restful/__init__.py&quot;, line 467, in wrapper\n    resp = resource(*args, **kwargs)\n  File &quot;/opt/anaconda3/envs/sharpist/lib/python3.9/site-packages/flask/views.py&quot;, line 84, in view\n    return current_app.ensure_sync(self.dispatch_request)(*args, **kwargs)\n  File &quot;/opt/anaconda3/envs/sharpist/lib/python3.9/site-packages/flask_restful/__init__.py&quot;, line 582, in dispatch_request\n    resp = meth(*args, **kwargs)\n  File &quot;/Users/roberta.sgariglia/Desktop/firebreak_project/sharpist/app.py&quot;, line 30, in get\n    prediction = model.predict(np.array([user_query]))\n  File &quot;/Users/roberta.sgariglia/Desktop/firebreak_project/sharpist/model.py&quot;, line 33, in predict\n    y_pred = self.clf.predict(X)\n  File &quot;/opt/anaconda3/envs/sharpist/lib/python3.9/site-packages/sklearn/naive_bayes.py&quot;, line 82, in predict\n    X = self._check_X(X)\n  File &quot;/opt/anaconda3/envs/sharpist/lib/python3.9/site-packages/sklearn/naive_bayes.py&quot;, line 519, in _check_X\n    return self._validate_data(X, accept_sparse=&quot;csr&quot;, reset=False)\n  File &quot;/opt/anaconda3/envs/sharpist/lib/python3.9/site-packages/sklearn/base.py&quot;, line 566, in _validate_data\n    X = check_array(X, **check_params)\n  File &quot;/opt/anaconda3/envs/sharpist/lib/python3.9/site-packages/sklearn/utils/validation.py&quot;, line 769, in check_array\n    raise ValueError(\nValueError: Expected 2D array, got 1D array instead:\narray=[nan].\nReshape your data either using array.reshape(-1, 1) if your data has a single feature or array.reshape(1, -1) if it contains a single sample.\n</textarea>\n</div>\n<div class=\"explanation\">\n  The debugger caught an exception in your WSGI application.  You can now\n  look at the traceback which led to the error.  <span class=\"nojavascript\">\n  If you enable JavaScript you can also use additional features such as code\n  execution (if the evalex feature is enabled), automatic pasting of the\n  exceptions and much more.</span>\n</div>\n      <div class=\"footer\">\n        Brought to you by <strong class=\"arthur\">DON'T PANIC</strong>, your\n        friendly Werkzeug powered traceback interpreter.\n      </div>\n    </div>\n\n    <div class=\"pin-prompt\">\n      <div class=\"inner\">\n        <h3>Console Locked</h3>\n        <p>\n          The console is locked and needs to be unlocked by entering the PIN.\n          You can find the PIN printed out on the standard output of your\n          shell that runs the server.\n        <form>\n          <p>PIN:\n            <input type=text name=pin size=14>\n            <input type=submit name=btn value=\"Confirm Pin\">\n        </form>\n      </div>\n    </div>\n  </body>\n</html>\n\n<!--\n\nTraceback (most recent call last):\n  File \"/opt/anaconda3/envs/sharpist/lib/python3.9/site-packages/flask/app.py\", line 2095, in __call__\n    return self.wsgi_app(environ, start_response)\n  File \"/opt/anaconda3/envs/sharpist/lib/python3.9/site-packages/flask/app.py\", line 2080, in wsgi_app\n    response = self.handle_exception(e)\n  File \"/opt/anaconda3/envs/sharpist/lib/python3.9/site-packages/flask_restful/__init__.py\", line 271, in error_router\n    return original_handler(e)\n  File \"/opt/anaconda3/envs/sharpist/lib/python3.9/site-packages/flask/app.py\", line 2077, in wsgi_app\n    response = self.full_dispatch_request()\n  File \"/opt/anaconda3/envs/sharpist/lib/python3.9/site-packages/flask/app.py\", line 1525, in full_dispatch_request\n    rv = self.handle_user_exception(e)\n  File \"/opt/anaconda3/envs/sharpist/lib/python3.9/site-packages/flask_restful/__init__.py\", line 271, in error_router\n    return original_handler(e)\n  File \"/opt/anaconda3/envs/sharpist/lib/python3.9/site-packages/flask/app.py\", line 1523, in full_dispatch_request\n    rv = self.dispatch_request()\n  File \"/opt/anaconda3/envs/sharpist/lib/python3.9/site-packages/flask/app.py\", line 1509, in dispatch_request\n    return self.ensure_sync(self.view_functions[rule.endpoint])(**req.view_args)\n  File \"/opt/anaconda3/envs/sharpist/lib/python3.9/site-packages/flask_restful/__init__.py\", line 467, in wrapper\n    resp = resource(*args, **kwargs)\n  File \"/opt/anaconda3/envs/sharpist/lib/python3.9/site-packages/flask/views.py\", line 84, in view\n    return current_app.ensure_sync(self.dispatch_request)(*args, **kwargs)\n  File \"/opt/anaconda3/envs/sharpist/lib/python3.9/site-packages/flask_restful/__init__.py\", line 582, in dispatch_request\n    resp = meth(*args, **kwargs)\n  File \"/Users/roberta.sgariglia/Desktop/firebreak_project/sharpist/app.py\", line 30, in get\n    prediction = model.predict(np.array([user_query]))\n  File \"/Users/roberta.sgariglia/Desktop/firebreak_project/sharpist/model.py\", line 33, in predict\n    y_pred = self.clf.predict(X)\n  File \"/opt/anaconda3/envs/sharpist/lib/python3.9/site-packages/sklearn/naive_bayes.py\", line 82, in predict\n    X = self._check_X(X)\n  File \"/opt/anaconda3/envs/sharpist/lib/python3.9/site-packages/sklearn/naive_bayes.py\", line 519, in _check_X\n    return self._validate_data(X, accept_sparse=\"csr\", reset=False)\n  File \"/opt/anaconda3/envs/sharpist/lib/python3.9/site-packages/sklearn/base.py\", line 566, in _validate_data\n    X = check_array(X, **check_params)\n  File \"/opt/anaconda3/envs/sharpist/lib/python3.9/site-packages/sklearn/utils/validation.py\", line 769, in check_array\n    raise ValueError(\nValueError: Expected 2D array, got 1D array instead:\narray=[nan].\nReshape your data either using array.reshape(-1, 1) if your data has a single feature or array.reshape(1, -1) if it contains a single sample.\n\n\n-->\n: 0",
     "output_type": "error",
     "traceback": [
      "\u001b[0;31m---------------------------------------------------------------------------\u001b[0m",
      "\u001b[0;31mJSONDecodeError\u001b[0m                           Traceback (most recent call last)",
      "File \u001b[0;32m/opt/anaconda3/envs/sharpist/lib/python3.9/site-packages/requests/models.py:910\u001b[0m, in \u001b[0;36mResponse.json\u001b[0;34m(self, **kwargs)\u001b[0m\n\u001b[1;32m    909\u001b[0m \u001b[38;5;28;01mtry\u001b[39;00m:\n\u001b[0;32m--> 910\u001b[0m     \u001b[38;5;28;01mreturn\u001b[39;00m \u001b[43mcomplexjson\u001b[49m\u001b[38;5;241;43m.\u001b[39;49m\u001b[43mloads\u001b[49m\u001b[43m(\u001b[49m\u001b[38;5;28;43mself\u001b[39;49m\u001b[38;5;241;43m.\u001b[39;49m\u001b[43mtext\u001b[49m\u001b[43m,\u001b[49m\u001b[43m \u001b[49m\u001b[38;5;241;43m*\u001b[39;49m\u001b[38;5;241;43m*\u001b[39;49m\u001b[43mkwargs\u001b[49m\u001b[43m)\u001b[49m\n\u001b[1;32m    911\u001b[0m \u001b[38;5;28;01mexcept\u001b[39;00m JSONDecodeError \u001b[38;5;28;01mas\u001b[39;00m e:\n\u001b[1;32m    912\u001b[0m     \u001b[38;5;66;03m# Catch JSON-related errors and raise as requests.JSONDecodeError\u001b[39;00m\n\u001b[1;32m    913\u001b[0m     \u001b[38;5;66;03m# This aliases json.JSONDecodeError and simplejson.JSONDecodeError\u001b[39;00m\n",
      "File \u001b[0;32m/opt/anaconda3/envs/sharpist/lib/python3.9/json/__init__.py:346\u001b[0m, in \u001b[0;36mloads\u001b[0;34m(s, cls, object_hook, parse_float, parse_int, parse_constant, object_pairs_hook, **kw)\u001b[0m\n\u001b[1;32m    343\u001b[0m \u001b[38;5;28;01mif\u001b[39;00m (\u001b[38;5;28mcls\u001b[39m \u001b[38;5;129;01mis\u001b[39;00m \u001b[38;5;28;01mNone\u001b[39;00m \u001b[38;5;129;01mand\u001b[39;00m object_hook \u001b[38;5;129;01mis\u001b[39;00m \u001b[38;5;28;01mNone\u001b[39;00m \u001b[38;5;129;01mand\u001b[39;00m\n\u001b[1;32m    344\u001b[0m         parse_int \u001b[38;5;129;01mis\u001b[39;00m \u001b[38;5;28;01mNone\u001b[39;00m \u001b[38;5;129;01mand\u001b[39;00m parse_float \u001b[38;5;129;01mis\u001b[39;00m \u001b[38;5;28;01mNone\u001b[39;00m \u001b[38;5;129;01mand\u001b[39;00m\n\u001b[1;32m    345\u001b[0m         parse_constant \u001b[38;5;129;01mis\u001b[39;00m \u001b[38;5;28;01mNone\u001b[39;00m \u001b[38;5;129;01mand\u001b[39;00m object_pairs_hook \u001b[38;5;129;01mis\u001b[39;00m \u001b[38;5;28;01mNone\u001b[39;00m \u001b[38;5;129;01mand\u001b[39;00m \u001b[38;5;129;01mnot\u001b[39;00m kw):\n\u001b[0;32m--> 346\u001b[0m     \u001b[38;5;28;01mreturn\u001b[39;00m \u001b[43m_default_decoder\u001b[49m\u001b[38;5;241;43m.\u001b[39;49m\u001b[43mdecode\u001b[49m\u001b[43m(\u001b[49m\u001b[43ms\u001b[49m\u001b[43m)\u001b[49m\n\u001b[1;32m    347\u001b[0m \u001b[38;5;28;01mif\u001b[39;00m \u001b[38;5;28mcls\u001b[39m \u001b[38;5;129;01mis\u001b[39;00m \u001b[38;5;28;01mNone\u001b[39;00m:\n",
      "File \u001b[0;32m/opt/anaconda3/envs/sharpist/lib/python3.9/json/decoder.py:337\u001b[0m, in \u001b[0;36mJSONDecoder.decode\u001b[0;34m(self, s, _w)\u001b[0m\n\u001b[1;32m    333\u001b[0m \u001b[38;5;124;03m\"\"\"Return the Python representation of ``s`` (a ``str`` instance\u001b[39;00m\n\u001b[1;32m    334\u001b[0m \u001b[38;5;124;03mcontaining a JSON document).\u001b[39;00m\n\u001b[1;32m    335\u001b[0m \n\u001b[1;32m    336\u001b[0m \u001b[38;5;124;03m\"\"\"\u001b[39;00m\n\u001b[0;32m--> 337\u001b[0m obj, end \u001b[38;5;241m=\u001b[39m \u001b[38;5;28;43mself\u001b[39;49m\u001b[38;5;241;43m.\u001b[39;49m\u001b[43mraw_decode\u001b[49m\u001b[43m(\u001b[49m\u001b[43ms\u001b[49m\u001b[43m,\u001b[49m\u001b[43m \u001b[49m\u001b[43midx\u001b[49m\u001b[38;5;241;43m=\u001b[39;49m\u001b[43m_w\u001b[49m\u001b[43m(\u001b[49m\u001b[43ms\u001b[49m\u001b[43m,\u001b[49m\u001b[43m \u001b[49m\u001b[38;5;241;43m0\u001b[39;49m\u001b[43m)\u001b[49m\u001b[38;5;241;43m.\u001b[39;49m\u001b[43mend\u001b[49m\u001b[43m(\u001b[49m\u001b[43m)\u001b[49m\u001b[43m)\u001b[49m\n\u001b[1;32m    338\u001b[0m end \u001b[38;5;241m=\u001b[39m _w(s, end)\u001b[38;5;241m.\u001b[39mend()\n",
      "File \u001b[0;32m/opt/anaconda3/envs/sharpist/lib/python3.9/json/decoder.py:355\u001b[0m, in \u001b[0;36mJSONDecoder.raw_decode\u001b[0;34m(self, s, idx)\u001b[0m\n\u001b[1;32m    354\u001b[0m \u001b[38;5;28;01mexcept\u001b[39;00m \u001b[38;5;167;01mStopIteration\u001b[39;00m \u001b[38;5;28;01mas\u001b[39;00m err:\n\u001b[0;32m--> 355\u001b[0m     \u001b[38;5;28;01mraise\u001b[39;00m JSONDecodeError(\u001b[38;5;124m\"\u001b[39m\u001b[38;5;124mExpecting value\u001b[39m\u001b[38;5;124m\"\u001b[39m, s, err\u001b[38;5;241m.\u001b[39mvalue) \u001b[38;5;28;01mfrom\u001b[39;00m \u001b[38;5;28mNone\u001b[39m\n\u001b[1;32m    356\u001b[0m \u001b[38;5;28;01mreturn\u001b[39;00m obj, end\n",
      "\u001b[0;31mJSONDecodeError\u001b[0m: Expecting value: line 1 column 1 (char 0)",
      "\nDuring handling of the above exception, another exception occurred:\n",
      "\u001b[0;31mJSONDecodeError\u001b[0m                           Traceback (most recent call last)",
      "Input \u001b[0;32mIn [111]\u001b[0m, in \u001b[0;36m<cell line: 6>\u001b[0;34m()\u001b[0m\n\u001b[1;32m      4\u001b[0m params \u001b[38;5;241m=\u001b[39m{\u001b[38;5;124m'\u001b[39m\u001b[38;5;124mquery\u001b[39m\u001b[38;5;124m'\u001b[39m: X_train\u001b[38;5;241m.\u001b[39msample(\u001b[38;5;241m1\u001b[39m)\u001b[38;5;241m.\u001b[39mto_dict(orient\u001b[38;5;241m=\u001b[39m\u001b[38;5;124m'\u001b[39m\u001b[38;5;124mrecords\u001b[39m\u001b[38;5;124m'\u001b[39m)[\u001b[38;5;241m0\u001b[39m]}\n\u001b[1;32m      5\u001b[0m response \u001b[38;5;241m=\u001b[39m requests\u001b[38;5;241m.\u001b[39mget(url, params)\n\u001b[0;32m----> 6\u001b[0m \u001b[43mresponse\u001b[49m\u001b[38;5;241;43m.\u001b[39;49m\u001b[43mjson\u001b[49m\u001b[43m(\u001b[49m\u001b[43m)\u001b[49m\n",
      "File \u001b[0;32m/opt/anaconda3/envs/sharpist/lib/python3.9/site-packages/requests/models.py:917\u001b[0m, in \u001b[0;36mResponse.json\u001b[0;34m(self, **kwargs)\u001b[0m\n\u001b[1;32m    915\u001b[0m     \u001b[38;5;28;01mraise\u001b[39;00m RequestsJSONDecodeError(e\u001b[38;5;241m.\u001b[39mmessage)\n\u001b[1;32m    916\u001b[0m \u001b[38;5;28;01melse\u001b[39;00m:\n\u001b[0;32m--> 917\u001b[0m     \u001b[38;5;28;01mraise\u001b[39;00m RequestsJSONDecodeError(e\u001b[38;5;241m.\u001b[39mmsg, e\u001b[38;5;241m.\u001b[39mdoc, e\u001b[38;5;241m.\u001b[39mpos)\n",
      "\u001b[0;31mJSONDecodeError\u001b[0m: [Errno Expecting value] <!doctype html>\n<html lang=en>\n  <head>\n    <title>ValueError: Expected 2D array, got 1D array instead:\narray=[nan].\nReshape your data either using array.reshape(-1, 1) if your data has a single feature or array.reshape(1, -1) if it contains a single sample.\n // Werkzeug Debugger</title>\n    <link rel=\"stylesheet\" href=\"?__debugger__=yes&amp;cmd=resource&amp;f=style.css\">\n    <link rel=\"shortcut icon\"\n        href=\"?__debugger__=yes&amp;cmd=resource&amp;f=console.png\">\n    <script src=\"?__debugger__=yes&amp;cmd=resource&amp;f=debugger.js\"></script>\n    <script>\n      var CONSOLE_MODE = false,\n          EVALEX = true,\n          EVALEX_TRUSTED = false,\n          SECRET = \"soq2fnp1zQmdpkqwgKjx\";\n    </script>\n  </head>\n  <body style=\"background-color: #fff\">\n    <div class=\"debugger\">\n<h1>ValueError</h1>\n<div class=\"detail\">\n  <p class=\"errormsg\">ValueError: Expected 2D array, got 1D array instead:\narray=[nan].\nReshape your data either using array.reshape(-1, 1) if your data has a single feature or array.reshape(1, -1) if it contains a single sample.\n</p>\n</div>\n<h2 class=\"traceback\">Traceback <em>(most recent call last)</em></h2>\n<div class=\"traceback\">\n  <h3></h3>\n  <ul><li><div class=\"frame\" id=\"frame-140357292820848\">\n  <h4>File <cite class=\"filename\">\"/opt/anaconda3/envs/sharpist/lib/python3.9/site-packages/flask/app.py\"</cite>,\n      line <em class=\"line\">2095</em>,\n      in <code class=\"function\">__call__</code></h4>\n  <div class=\"source library\"><pre class=\"line before\"><span class=\"ws\">    </span>def __call__(self, environ: dict, start_response: t.Callable) -&gt; t.Any:</pre>\n<pre class=\"line before\"><span class=\"ws\">        </span>&quot;&quot;&quot;The WSGI server calls the Flask application object as the</pre>\n<pre class=\"line before\"><span class=\"ws\">        </span>WSGI application. This calls :meth:`wsgi_app`, which can be</pre>\n<pre class=\"line before\"><span class=\"ws\">        </span>wrapped to apply middleware.</pre>\n<pre class=\"line before\"><span class=\"ws\">        </span>&quot;&quot;&quot;</pre>\n<pre class=\"line current\"><span class=\"ws\">        </span>return self.wsgi_app(environ, start_response)</pre></div>\n</div>\n\n<li><div class=\"frame\" id=\"frame-140357293177088\">\n  <h4>File <cite class=\"filename\">\"/opt/anaconda3/envs/sharpist/lib/python3.9/site-packages/flask/app.py\"</cite>,\n      line <em class=\"line\">2080</em>,\n      in <code class=\"function\">wsgi_app</code></h4>\n  <div class=\"source library\"><pre class=\"line before\"><span class=\"ws\">            </span>try:</pre>\n<pre class=\"line before\"><span class=\"ws\">                </span>ctx.push()</pre>\n<pre class=\"line before\"><span class=\"ws\">                </span>response = self.full_dispatch_request()</pre>\n<pre class=\"line before\"><span class=\"ws\">            </span>except Exception as e:</pre>\n<pre class=\"line before\"><span class=\"ws\">                </span>error = e</pre>\n<pre class=\"line current\"><span class=\"ws\">                </span>response = self.handle_exception(e)</pre>\n<pre class=\"line after\"><span class=\"ws\">            </span>except:  # noqa: B001</pre>\n<pre class=\"line after\"><span class=\"ws\">                </span>error = sys.exc_info()[1]</pre>\n<pre class=\"line after\"><span class=\"ws\">                </span>raise</pre>\n<pre class=\"line after\"><span class=\"ws\">            </span>return response(environ, start_response)</pre>\n<pre class=\"line after\"><span class=\"ws\">        </span>finally:</pre></div>\n</div>\n\n<li><div class=\"frame\" id=\"frame-140357293177200\">\n  <h4>File <cite class=\"filename\">\"/opt/anaconda3/envs/sharpist/lib/python3.9/site-packages/flask_restful/__init__.py\"</cite>,\n      line <em class=\"line\">271</em>,\n      in <code class=\"function\">error_router</code></h4>\n  <div class=\"source library\"><pre class=\"line before\"><span class=\"ws\">        </span>if self._has_fr_route():</pre>\n<pre class=\"line before\"><span class=\"ws\">            </span>try:</pre>\n<pre class=\"line before\"><span class=\"ws\">                </span>return self.handle_error(e)</pre>\n<pre class=\"line before\"><span class=\"ws\">            </span>except Exception:</pre>\n<pre class=\"line before\"><span class=\"ws\">                </span>pass  # Fall through to original handler</pre>\n<pre class=\"line current\"><span class=\"ws\">        </span>return original_handler(e)</pre>\n<pre class=\"line after\"><span class=\"ws\"></span> </pre>\n<pre class=\"line after\"><span class=\"ws\">    </span>def handle_error(self, e):</pre>\n<pre class=\"line after\"><span class=\"ws\">        </span>&quot;&quot;&quot;Error handler for the API transforms a raised exception into a Flask</pre>\n<pre class=\"line after\"><span class=\"ws\">        </span>response, with the appropriate HTTP status code and body.</pre>\n<pre class=\"line after\"><span class=\"ws\"></span> </pre></div>\n</div>\n\n<li><div class=\"frame\" id=\"frame-140357293234096\">\n  <h4>File <cite class=\"filename\">\"/opt/anaconda3/envs/sharpist/lib/python3.9/site-packages/flask/app.py\"</cite>,\n      line <em class=\"line\">2077</em>,\n      in <code class=\"function\">wsgi_app</code></h4>\n  <div class=\"source library\"><pre class=\"line before\"><span class=\"ws\">        </span>ctx = self.request_context(environ)</pre>\n<pre class=\"line before\"><span class=\"ws\">        </span>error: t.Optional[BaseException] = None</pre>\n<pre class=\"line before\"><span class=\"ws\">        </span>try:</pre>\n<pre class=\"line before\"><span class=\"ws\">            </span>try:</pre>\n<pre class=\"line before\"><span class=\"ws\">                </span>ctx.push()</pre>\n<pre class=\"line current\"><span class=\"ws\">                </span>response = self.full_dispatch_request()</pre>\n<pre class=\"line after\"><span class=\"ws\">            </span>except Exception as e:</pre>\n<pre class=\"line after\"><span class=\"ws\">                </span>error = e</pre>\n<pre class=\"line after\"><span class=\"ws\">                </span>response = self.handle_exception(e)</pre>\n<pre class=\"line after\"><span class=\"ws\">            </span>except:  # noqa: B001</pre>\n<pre class=\"line after\"><span class=\"ws\">                </span>error = sys.exc_info()[1]</pre></div>\n</div>\n\n<li><div class=\"frame\" id=\"frame-140357293234208\">\n  <h4>File <cite class=\"filename\">\"/opt/anaconda3/envs/sharpist/lib/python3.9/site-packages/flask/app.py\"</cite>,\n      line <em class=\"line\">1525</em>,\n      in <code class=\"function\">full_dispatch_request</code></h4>\n  <div class=\"source library\"><pre class=\"line before\"><span class=\"ws\">            </span>request_started.send(self)</pre>\n<pre class=\"line before\"><span class=\"ws\">            </span>rv = self.preprocess_request()</pre>\n<pre class=\"line before\"><span class=\"ws\">            </span>if rv is None:</pre>\n<pre class=\"line before\"><span class=\"ws\">                </span>rv = self.dispatch_request()</pre>\n<pre class=\"line before\"><span class=\"ws\">        </span>except Exception as e:</pre>\n<pre class=\"line current\"><span class=\"ws\">            </span>rv = self.handle_user_exception(e)</pre>\n<pre class=\"line after\"><span class=\"ws\">        </span>return self.finalize_request(rv)</pre>\n<pre class=\"line after\"><span class=\"ws\"></span> </pre>\n<pre class=\"line after\"><span class=\"ws\">    </span>def finalize_request(</pre>\n<pre class=\"line after\"><span class=\"ws\">        </span>self,</pre>\n<pre class=\"line after\"><span class=\"ws\">        </span>rv: t.Union[ResponseReturnValue, HTTPException],</pre></div>\n</div>\n\n<li><div class=\"frame\" id=\"frame-140357293234320\">\n  <h4>File <cite class=\"filename\">\"/opt/anaconda3/envs/sharpist/lib/python3.9/site-packages/flask_restful/__init__.py\"</cite>,\n      line <em class=\"line\">271</em>,\n      in <code class=\"function\">error_router</code></h4>\n  <div class=\"source library\"><pre class=\"line before\"><span class=\"ws\">        </span>if self._has_fr_route():</pre>\n<pre class=\"line before\"><span class=\"ws\">            </span>try:</pre>\n<pre class=\"line before\"><span class=\"ws\">                </span>return self.handle_error(e)</pre>\n<pre class=\"line before\"><span class=\"ws\">            </span>except Exception:</pre>\n<pre class=\"line before\"><span class=\"ws\">                </span>pass  # Fall through to original handler</pre>\n<pre class=\"line current\"><span class=\"ws\">        </span>return original_handler(e)</pre>\n<pre class=\"line after\"><span class=\"ws\"></span> </pre>\n<pre class=\"line after\"><span class=\"ws\">    </span>def handle_error(self, e):</pre>\n<pre class=\"line after\"><span class=\"ws\">        </span>&quot;&quot;&quot;Error handler for the API transforms a raised exception into a Flask</pre>\n<pre class=\"line after\"><span class=\"ws\">        </span>response, with the appropriate HTTP status code and body.</pre>\n<pre class=\"line after\"><span class=\"ws\"></span> </pre></div>\n</div>\n\n<li><div class=\"frame\" id=\"frame-140357293234432\">\n  <h4>File <cite class=\"filename\">\"/opt/anaconda3/envs/sharpist/lib/python3.9/site-packages/flask/app.py\"</cite>,\n      line <em class=\"line\">1523</em>,\n      in <code class=\"function\">full_dispatch_request</code></h4>\n  <div class=\"source library\"><pre class=\"line before\"><span class=\"ws\">        </span>self.try_trigger_before_first_request_functions()</pre>\n<pre class=\"line before\"><span class=\"ws\">        </span>try:</pre>\n<pre class=\"line before\"><span class=\"ws\">            </span>request_started.send(self)</pre>\n<pre class=\"line before\"><span class=\"ws\">            </span>rv = self.preprocess_request()</pre>\n<pre class=\"line before\"><span class=\"ws\">            </span>if rv is None:</pre>\n<pre class=\"line current\"><span class=\"ws\">                </span>rv = self.dispatch_request()</pre>\n<pre class=\"line after\"><span class=\"ws\">        </span>except Exception as e:</pre>\n<pre class=\"line after\"><span class=\"ws\">            </span>rv = self.handle_user_exception(e)</pre>\n<pre class=\"line after\"><span class=\"ws\">        </span>return self.finalize_request(rv)</pre>\n<pre class=\"line after\"><span class=\"ws\"></span> </pre>\n<pre class=\"line after\"><span class=\"ws\">    </span>def finalize_request(</pre></div>\n</div>\n\n<li><div class=\"frame\" id=\"frame-140357293234544\">\n  <h4>File <cite class=\"filename\">\"/opt/anaconda3/envs/sharpist/lib/python3.9/site-packages/flask/app.py\"</cite>,\n      line <em class=\"line\">1509</em>,\n      in <code class=\"function\">dispatch_request</code></h4>\n  <div class=\"source library\"><pre class=\"line before\"><span class=\"ws\">            </span>getattr(rule, &quot;provide_automatic_options&quot;, False)</pre>\n<pre class=\"line before\"><span class=\"ws\">            </span>and req.method == &quot;OPTIONS&quot;</pre>\n<pre class=\"line before\"><span class=\"ws\">        </span>):</pre>\n<pre class=\"line before\"><span class=\"ws\">            </span>return self.make_default_options_response()</pre>\n<pre class=\"line before\"><span class=\"ws\">        </span># otherwise dispatch to the handler for that endpoint</pre>\n<pre class=\"line current\"><span class=\"ws\">        </span>return self.ensure_sync(self.view_functions[rule.endpoint])(**req.view_args)</pre>\n<pre class=\"line after\"><span class=\"ws\"></span> </pre>\n<pre class=\"line after\"><span class=\"ws\">    </span>def full_dispatch_request(self) -&gt; Response:</pre>\n<pre class=\"line after\"><span class=\"ws\">        </span>&quot;&quot;&quot;Dispatches the request and on top of that performs request</pre>\n<pre class=\"line after\"><span class=\"ws\">        </span>pre and postprocessing as well as HTTP exception catching and</pre>\n<pre class=\"line after\"><span class=\"ws\">        </span>error handling.</pre></div>\n</div>\n\n<li><div class=\"frame\" id=\"frame-140357293234656\">\n  <h4>File <cite class=\"filename\">\"/opt/anaconda3/envs/sharpist/lib/python3.9/site-packages/flask_restful/__init__.py\"</cite>,\n      line <em class=\"line\">467</em>,\n      in <code class=\"function\">wrapper</code></h4>\n  <div class=\"source library\"><pre class=\"line before\"><span class=\"ws\"></span> </pre>\n<pre class=\"line before\"><span class=\"ws\">        </span>:param resource: The resource as a flask view function</pre>\n<pre class=\"line before\"><span class=\"ws\">        </span>&quot;&quot;&quot;</pre>\n<pre class=\"line before\"><span class=\"ws\">        </span>@wraps(resource)</pre>\n<pre class=\"line before\"><span class=\"ws\">        </span>def wrapper(*args, **kwargs):</pre>\n<pre class=\"line current\"><span class=\"ws\">            </span>resp = resource(*args, **kwargs)</pre>\n<pre class=\"line after\"><span class=\"ws\">            </span>if isinstance(resp, ResponseBase):  # There may be a better way to test</pre>\n<pre class=\"line after\"><span class=\"ws\">                </span>return resp</pre>\n<pre class=\"line after\"><span class=\"ws\">            </span>data, code, headers = unpack(resp)</pre>\n<pre class=\"line after\"><span class=\"ws\">            </span>return self.make_response(data, code, headers=headers)</pre>\n<pre class=\"line after\"><span class=\"ws\">        </span>return wrapper</pre></div>\n</div>\n\n<li><div class=\"frame\" id=\"frame-140357293234768\">\n  <h4>File <cite class=\"filename\">\"/opt/anaconda3/envs/sharpist/lib/python3.9/site-packages/flask/views.py\"</cite>,\n      line <em class=\"line\">84</em>,\n      in <code class=\"function\">view</code></h4>\n  <div class=\"source library\"><pre class=\"line before\"><span class=\"ws\">        </span>constructor of the class.</pre>\n<pre class=\"line before\"><span class=\"ws\">        </span>&quot;&quot;&quot;</pre>\n<pre class=\"line before\"><span class=\"ws\"></span> </pre>\n<pre class=\"line before\"><span class=\"ws\">        </span>def view(*args: t.Any, **kwargs: t.Any) -&gt; ResponseReturnValue:</pre>\n<pre class=\"line before\"><span class=\"ws\">            </span>self = view.view_class(*class_args, **class_kwargs)  # type: ignore</pre>\n<pre class=\"line current\"><span class=\"ws\">            </span>return current_app.ensure_sync(self.dispatch_request)(*args, **kwargs)</pre>\n<pre class=\"line after\"><span class=\"ws\"></span> </pre>\n<pre class=\"line after\"><span class=\"ws\">        </span>if cls.decorators:</pre>\n<pre class=\"line after\"><span class=\"ws\">            </span>view.__name__ = name</pre>\n<pre class=\"line after\"><span class=\"ws\">            </span>view.__module__ = cls.__module__</pre>\n<pre class=\"line after\"><span class=\"ws\">            </span>for decorator in cls.decorators:</pre></div>\n</div>\n\n<li><div class=\"frame\" id=\"frame-140357293236112\">\n  <h4>File <cite class=\"filename\">\"/opt/anaconda3/envs/sharpist/lib/python3.9/site-packages/flask_restful/__init__.py\"</cite>,\n      line <em class=\"line\">582</em>,\n      in <code class=\"function\">dispatch_request</code></h4>\n  <div class=\"source library\"><pre class=\"line before\"><span class=\"ws\">            </span>decorators = self.method_decorators</pre>\n<pre class=\"line before\"><span class=\"ws\"></span> </pre>\n<pre class=\"line before\"><span class=\"ws\">        </span>for decorator in decorators:</pre>\n<pre class=\"line before\"><span class=\"ws\">            </span>meth = decorator(meth)</pre>\n<pre class=\"line before\"><span class=\"ws\"></span> </pre>\n<pre class=\"line current\"><span class=\"ws\">        </span>resp = meth(*args, **kwargs)</pre>\n<pre class=\"line after\"><span class=\"ws\"></span> </pre>\n<pre class=\"line after\"><span class=\"ws\">        </span>if isinstance(resp, ResponseBase):  # There may be a better way to test</pre>\n<pre class=\"line after\"><span class=\"ws\">            </span>return resp</pre>\n<pre class=\"line after\"><span class=\"ws\"></span> </pre>\n<pre class=\"line after\"><span class=\"ws\">        </span>representations = self.representations or OrderedDict()</pre></div>\n</div>\n\n<li><div class=\"frame\" id=\"frame-140357293252672\">\n  <h4>File <cite class=\"filename\">\"/Users/roberta.sgariglia/Desktop/firebreak_project/sharpist/app.py\"</cite>,\n      line <em class=\"line\">30</em>,\n      in <code class=\"function\">get</code></h4>\n  <div class=\"source \"><pre class=\"line before\"><span class=\"ws\">        </span># use parser and find the user&#x27;s query</pre>\n<pre class=\"line before\"><span class=\"ws\">        </span>args = parser.parse_args()</pre>\n<pre class=\"line before\"><span class=\"ws\">        </span>user_query = args[&#x27;query&#x27;]</pre>\n<pre class=\"line before\"><span class=\"ws\"></span> </pre>\n<pre class=\"line before\"><span class=\"ws\">         </span># get pred prob and pred</pre>\n<pre class=\"line current\"><span class=\"ws\">        </span>prediction = model.predict(np.array([user_query]))</pre>\n<pre class=\"line after\"><span class=\"ws\">        </span>pred_proba = model.predict_proba(np.array([user_query]))</pre>\n<pre class=\"line after\"><span class=\"ws\"></span> </pre>\n<pre class=\"line after\"><span class=\"ws\">        </span># Output either &#x27;Negative&#x27; or &#x27;Positive&#x27; along with the score</pre>\n<pre class=\"line after\"><span class=\"ws\">        </span>if prediction == 0:</pre>\n<pre class=\"line after\"><span class=\"ws\">            </span>pred_text = &#x27;Negative&#x27;</pre></div>\n</div>\n\n<li><div class=\"frame\" id=\"frame-140357293253120\">\n  <h4>File <cite class=\"filename\">\"/Users/roberta.sgariglia/Desktop/firebreak_project/sharpist/model.py\"</cite>,\n      line <em class=\"line\">33</em>,\n      in <code class=\"function\">predict</code></h4>\n  <div class=\"source \"><pre class=\"line before\"><span class=\"ws\">        </span>return y_proba[:, 1]</pre>\n<pre class=\"line before\"><span class=\"ws\"></span> </pre>\n<pre class=\"line before\"><span class=\"ws\">    </span>def predict(self, X):</pre>\n<pre class=\"line before\"><span class=\"ws\">        </span>&quot;&quot;&quot;Returns the predicted class in an array</pre>\n<pre class=\"line before\"><span class=\"ws\">        </span>&quot;&quot;&quot;</pre>\n<pre class=\"line current\"><span class=\"ws\">        </span>y_pred = self.clf.predict(X)</pre>\n<pre class=\"line after\"><span class=\"ws\">        </span>return y_pred</pre>\n<pre class=\"line after\"><span class=\"ws\"></span> </pre>\n<pre class=\"line after\"><span class=\"ws\">    </span>def pickle_clf(self, path=&#x27;Classifier.pkl&#x27;):</pre>\n<pre class=\"line after\"><span class=\"ws\">        </span>&quot;&quot;&quot;Saves the trained classifier for future use.</pre>\n<pre class=\"line after\"><span class=\"ws\">        </span>&quot;&quot;&quot;</pre></div>\n</div>\n\n<li><div class=\"frame\" id=\"frame-140357293254016\">\n  <h4>File <cite class=\"filename\">\"/opt/anaconda3/envs/sharpist/lib/python3.9/site-packages/sklearn/naive_bayes.py\"</cite>,\n      line <em class=\"line\">82</em>,\n      in <code class=\"function\">predict</code></h4>\n  <div class=\"source library\"><pre class=\"line before\"><span class=\"ws\">        </span>-------</pre>\n<pre class=\"line before\"><span class=\"ws\">        </span>C : ndarray of shape (n_samples,)</pre>\n<pre class=\"line before\"><span class=\"ws\">            </span>Predicted target values for X.</pre>\n<pre class=\"line before\"><span class=\"ws\">        </span>&quot;&quot;&quot;</pre>\n<pre class=\"line before\"><span class=\"ws\">        </span>check_is_fitted(self)</pre>\n<pre class=\"line current\"><span class=\"ws\">        </span>X = self._check_X(X)</pre>\n<pre class=\"line after\"><span class=\"ws\">        </span>jll = self._joint_log_likelihood(X)</pre>\n<pre class=\"line after\"><span class=\"ws\">        </span>return self.classes_[np.argmax(jll, axis=1)]</pre>\n<pre class=\"line after\"><span class=\"ws\"></span> </pre>\n<pre class=\"line after\"><span class=\"ws\">    </span>def predict_log_proba(self, X):</pre>\n<pre class=\"line after\"><span class=\"ws\">        </span>&quot;&quot;&quot;</pre></div>\n</div>\n\n<li><div class=\"frame\" id=\"frame-140357293376784\">\n  <h4>File <cite class=\"filename\">\"/opt/anaconda3/envs/sharpist/lib/python3.9/site-packages/sklearn/naive_bayes.py\"</cite>,\n      line <em class=\"line\">519</em>,\n      in <code class=\"function\">_check_X</code></h4>\n  <div class=\"source library\"><pre class=\"line before\"><span class=\"ws\">    </span>_joint_log_likelihood(X) as per _BaseNB</pre>\n<pre class=\"line before\"><span class=\"ws\">    </span>&quot;&quot;&quot;</pre>\n<pre class=\"line before\"><span class=\"ws\"></span> </pre>\n<pre class=\"line before\"><span class=\"ws\">    </span>def _check_X(self, X):</pre>\n<pre class=\"line before\"><span class=\"ws\">        </span>&quot;&quot;&quot;Validate X, used only in predict* methods.&quot;&quot;&quot;</pre>\n<pre class=\"line current\"><span class=\"ws\">        </span>return self._validate_data(X, accept_sparse=&quot;csr&quot;, reset=False)</pre>\n<pre class=\"line after\"><span class=\"ws\"></span> </pre>\n<pre class=\"line after\"><span class=\"ws\">    </span>def _check_X_y(self, X, y, reset=True):</pre>\n<pre class=\"line after\"><span class=\"ws\">        </span>&quot;&quot;&quot;Validate X and y in fit methods.&quot;&quot;&quot;</pre>\n<pre class=\"line after\"><span class=\"ws\">        </span>return self._validate_data(X, y, accept_sparse=&quot;csr&quot;, reset=reset)</pre>\n<pre class=\"line after\"><span class=\"ws\"></span> </pre></div>\n</div>\n\n<li><div class=\"frame\" id=\"frame-140357293377008\">\n  <h4>File <cite class=\"filename\">\"/opt/anaconda3/envs/sharpist/lib/python3.9/site-packages/sklearn/base.py\"</cite>,\n      line <em class=\"line\">566</em>,\n      in <code class=\"function\">_validate_data</code></h4>\n  <div class=\"source library\"><pre class=\"line before\"><span class=\"ws\">        </span>no_val_y = y is None or isinstance(y, str) and y == &quot;no_validation&quot;</pre>\n<pre class=\"line before\"><span class=\"ws\"></span> </pre>\n<pre class=\"line before\"><span class=\"ws\">        </span>if no_val_X and no_val_y:</pre>\n<pre class=\"line before\"><span class=\"ws\">            </span>raise ValueError(&quot;Validation should be done on X, y or both.&quot;)</pre>\n<pre class=\"line before\"><span class=\"ws\">        </span>elif not no_val_X and no_val_y:</pre>\n<pre class=\"line current\"><span class=\"ws\">            </span>X = check_array(X, **check_params)</pre>\n<pre class=\"line after\"><span class=\"ws\">            </span>out = X</pre>\n<pre class=\"line after\"><span class=\"ws\">        </span>elif no_val_X and not no_val_y:</pre>\n<pre class=\"line after\"><span class=\"ws\">            </span>y = _check_y(y, **check_params)</pre>\n<pre class=\"line after\"><span class=\"ws\">            </span>out = y</pre>\n<pre class=\"line after\"><span class=\"ws\">        </span>else:</pre></div>\n</div>\n\n<li><div class=\"frame\" id=\"frame-140357293377120\">\n  <h4>File <cite class=\"filename\">\"/opt/anaconda3/envs/sharpist/lib/python3.9/site-packages/sklearn/utils/validation.py\"</cite>,\n      line <em class=\"line\">769</em>,\n      in <code class=\"function\">check_array</code></h4>\n  <div class=\"source library\"><pre class=\"line before\"><span class=\"ws\">                    </span>&quot;your data has a single feature or array.reshape(1, -1) &quot;</pre>\n<pre class=\"line before\"><span class=\"ws\">                    </span>&quot;if it contains a single sample.&quot;.format(array)</pre>\n<pre class=\"line before\"><span class=\"ws\">                </span>)</pre>\n<pre class=\"line before\"><span class=\"ws\">            </span># If input is 1D raise error</pre>\n<pre class=\"line before\"><span class=\"ws\">            </span>if array.ndim == 1:</pre>\n<pre class=\"line current\"><span class=\"ws\">                </span>raise ValueError(</pre>\n<pre class=\"line after\"><span class=\"ws\">                    </span>&quot;Expected 2D array, got 1D array instead:\\narray={}.\\n&quot;</pre>\n<pre class=\"line after\"><span class=\"ws\">                    </span>&quot;Reshape your data either using array.reshape(-1, 1) if &quot;</pre>\n<pre class=\"line after\"><span class=\"ws\">                    </span>&quot;your data has a single feature or array.reshape(1, -1) &quot;</pre>\n<pre class=\"line after\"><span class=\"ws\">                    </span>&quot;if it contains a single sample.&quot;.format(array)</pre>\n<pre class=\"line after\"><span class=\"ws\">                </span>)</pre></div>\n</div>\n</ul>\n  <blockquote>ValueError: Expected 2D array, got 1D array instead:\narray=[nan].\nReshape your data either using array.reshape(-1, 1) if your data has a single feature or array.reshape(1, -1) if it contains a single sample.\n</blockquote>\n</div>\n\n<div class=\"plain\">\n    <p>\n      This is the Copy/Paste friendly version of the traceback.\n    </p>\n    <textarea cols=\"50\" rows=\"10\" name=\"code\" readonly>Traceback (most recent call last):\n  File &quot;/opt/anaconda3/envs/sharpist/lib/python3.9/site-packages/flask/app.py&quot;, line 2095, in __call__\n    return self.wsgi_app(environ, start_response)\n  File &quot;/opt/anaconda3/envs/sharpist/lib/python3.9/site-packages/flask/app.py&quot;, line 2080, in wsgi_app\n    response = self.handle_exception(e)\n  File &quot;/opt/anaconda3/envs/sharpist/lib/python3.9/site-packages/flask_restful/__init__.py&quot;, line 271, in error_router\n    return original_handler(e)\n  File &quot;/opt/anaconda3/envs/sharpist/lib/python3.9/site-packages/flask/app.py&quot;, line 2077, in wsgi_app\n    response = self.full_dispatch_request()\n  File &quot;/opt/anaconda3/envs/sharpist/lib/python3.9/site-packages/flask/app.py&quot;, line 1525, in full_dispatch_request\n    rv = self.handle_user_exception(e)\n  File &quot;/opt/anaconda3/envs/sharpist/lib/python3.9/site-packages/flask_restful/__init__.py&quot;, line 271, in error_router\n    return original_handler(e)\n  File &quot;/opt/anaconda3/envs/sharpist/lib/python3.9/site-packages/flask/app.py&quot;, line 1523, in full_dispatch_request\n    rv = self.dispatch_request()\n  File &quot;/opt/anaconda3/envs/sharpist/lib/python3.9/site-packages/flask/app.py&quot;, line 1509, in dispatch_request\n    return self.ensure_sync(self.view_functions[rule.endpoint])(**req.view_args)\n  File &quot;/opt/anaconda3/envs/sharpist/lib/python3.9/site-packages/flask_restful/__init__.py&quot;, line 467, in wrapper\n    resp = resource(*args, **kwargs)\n  File &quot;/opt/anaconda3/envs/sharpist/lib/python3.9/site-packages/flask/views.py&quot;, line 84, in view\n    return current_app.ensure_sync(self.dispatch_request)(*args, **kwargs)\n  File &quot;/opt/anaconda3/envs/sharpist/lib/python3.9/site-packages/flask_restful/__init__.py&quot;, line 582, in dispatch_request\n    resp = meth(*args, **kwargs)\n  File &quot;/Users/roberta.sgariglia/Desktop/firebreak_project/sharpist/app.py&quot;, line 30, in get\n    prediction = model.predict(np.array([user_query]))\n  File &quot;/Users/roberta.sgariglia/Desktop/firebreak_project/sharpist/model.py&quot;, line 33, in predict\n    y_pred = self.clf.predict(X)\n  File &quot;/opt/anaconda3/envs/sharpist/lib/python3.9/site-packages/sklearn/naive_bayes.py&quot;, line 82, in predict\n    X = self._check_X(X)\n  File &quot;/opt/anaconda3/envs/sharpist/lib/python3.9/site-packages/sklearn/naive_bayes.py&quot;, line 519, in _check_X\n    return self._validate_data(X, accept_sparse=&quot;csr&quot;, reset=False)\n  File &quot;/opt/anaconda3/envs/sharpist/lib/python3.9/site-packages/sklearn/base.py&quot;, line 566, in _validate_data\n    X = check_array(X, **check_params)\n  File &quot;/opt/anaconda3/envs/sharpist/lib/python3.9/site-packages/sklearn/utils/validation.py&quot;, line 769, in check_array\n    raise ValueError(\nValueError: Expected 2D array, got 1D array instead:\narray=[nan].\nReshape your data either using array.reshape(-1, 1) if your data has a single feature or array.reshape(1, -1) if it contains a single sample.\n</textarea>\n</div>\n<div class=\"explanation\">\n  The debugger caught an exception in your WSGI application.  You can now\n  look at the traceback which led to the error.  <span class=\"nojavascript\">\n  If you enable JavaScript you can also use additional features such as code\n  execution (if the evalex feature is enabled), automatic pasting of the\n  exceptions and much more.</span>\n</div>\n      <div class=\"footer\">\n        Brought to you by <strong class=\"arthur\">DON'T PANIC</strong>, your\n        friendly Werkzeug powered traceback interpreter.\n      </div>\n    </div>\n\n    <div class=\"pin-prompt\">\n      <div class=\"inner\">\n        <h3>Console Locked</h3>\n        <p>\n          The console is locked and needs to be unlocked by entering the PIN.\n          You can find the PIN printed out on the standard output of your\n          shell that runs the server.\n        <form>\n          <p>PIN:\n            <input type=text name=pin size=14>\n            <input type=submit name=btn value=\"Confirm Pin\">\n        </form>\n      </div>\n    </div>\n  </body>\n</html>\n\n<!--\n\nTraceback (most recent call last):\n  File \"/opt/anaconda3/envs/sharpist/lib/python3.9/site-packages/flask/app.py\", line 2095, in __call__\n    return self.wsgi_app(environ, start_response)\n  File \"/opt/anaconda3/envs/sharpist/lib/python3.9/site-packages/flask/app.py\", line 2080, in wsgi_app\n    response = self.handle_exception(e)\n  File \"/opt/anaconda3/envs/sharpist/lib/python3.9/site-packages/flask_restful/__init__.py\", line 271, in error_router\n    return original_handler(e)\n  File \"/opt/anaconda3/envs/sharpist/lib/python3.9/site-packages/flask/app.py\", line 2077, in wsgi_app\n    response = self.full_dispatch_request()\n  File \"/opt/anaconda3/envs/sharpist/lib/python3.9/site-packages/flask/app.py\", line 1525, in full_dispatch_request\n    rv = self.handle_user_exception(e)\n  File \"/opt/anaconda3/envs/sharpist/lib/python3.9/site-packages/flask_restful/__init__.py\", line 271, in error_router\n    return original_handler(e)\n  File \"/opt/anaconda3/envs/sharpist/lib/python3.9/site-packages/flask/app.py\", line 1523, in full_dispatch_request\n    rv = self.dispatch_request()\n  File \"/opt/anaconda3/envs/sharpist/lib/python3.9/site-packages/flask/app.py\", line 1509, in dispatch_request\n    return self.ensure_sync(self.view_functions[rule.endpoint])(**req.view_args)\n  File \"/opt/anaconda3/envs/sharpist/lib/python3.9/site-packages/flask_restful/__init__.py\", line 467, in wrapper\n    resp = resource(*args, **kwargs)\n  File \"/opt/anaconda3/envs/sharpist/lib/python3.9/site-packages/flask/views.py\", line 84, in view\n    return current_app.ensure_sync(self.dispatch_request)(*args, **kwargs)\n  File \"/opt/anaconda3/envs/sharpist/lib/python3.9/site-packages/flask_restful/__init__.py\", line 582, in dispatch_request\n    resp = meth(*args, **kwargs)\n  File \"/Users/roberta.sgariglia/Desktop/firebreak_project/sharpist/app.py\", line 30, in get\n    prediction = model.predict(np.array([user_query]))\n  File \"/Users/roberta.sgariglia/Desktop/firebreak_project/sharpist/model.py\", line 33, in predict\n    y_pred = self.clf.predict(X)\n  File \"/opt/anaconda3/envs/sharpist/lib/python3.9/site-packages/sklearn/naive_bayes.py\", line 82, in predict\n    X = self._check_X(X)\n  File \"/opt/anaconda3/envs/sharpist/lib/python3.9/site-packages/sklearn/naive_bayes.py\", line 519, in _check_X\n    return self._validate_data(X, accept_sparse=\"csr\", reset=False)\n  File \"/opt/anaconda3/envs/sharpist/lib/python3.9/site-packages/sklearn/base.py\", line 566, in _validate_data\n    X = check_array(X, **check_params)\n  File \"/opt/anaconda3/envs/sharpist/lib/python3.9/site-packages/sklearn/utils/validation.py\", line 769, in check_array\n    raise ValueError(\nValueError: Expected 2D array, got 1D array instead:\narray=[nan].\nReshape your data either using array.reshape(-1, 1) if your data has a single feature or array.reshape(1, -1) if it contains a single sample.\n\n\n-->\n: 0"
     ]
    }
   ],
   "source": [
    "#testing flask\n",
    "\n",
    "url = 'http://127.0.0.1:5000/'\n",
    "params ={'query': X_train.sample(1).to_dict(orient='records')[0]}\n",
    "response = requests.get(url, params)\n",
    "response.json()"
   ]
  },
  {
   "cell_type": "code",
   "execution_count": 129,
   "id": "8e5d2ede",
   "metadata": {},
   "outputs": [],
   "source": [
    "#testing flask 2\n",
    "\n",
    "#url = 'http://127.0.0.1:5000/'\n",
    "#params ={'query': X_train.sample(1).to_dict(orient='records')[0]}\n",
    "#response = requests.get(url, params)\n",
    "#response.json()"
   ]
  },
  {
   "cell_type": "code",
   "execution_count": 142,
   "id": "2b488d31",
   "metadata": {},
   "outputs": [
    {
     "ename": "SyntaxError",
     "evalue": "cannot assign to function call (3854175887.py, line 2)",
     "output_type": "error",
     "traceback": [
      "\u001b[0;36m  Input \u001b[0;32mIn [142]\u001b[0;36m\u001b[0m\n\u001b[0;31m    X_train.sample(1).to_dict(orient='records')[0].values() = float(X_train.sample(1).to_dict(orient='records')[0].values())\u001b[0m\n\u001b[0m    ^\u001b[0m\n\u001b[0;31mSyntaxError\u001b[0m\u001b[0;31m:\u001b[0m cannot assign to function call\n"
     ]
    }
   ],
   "source": [
    " "
   ]
  },
  {
   "cell_type": "code",
   "execution_count": 25,
   "id": "9cdb738d",
   "metadata": {},
   "outputs": [],
   "source": [
    "dict1 = X_train.sample(1).to_dict(orient='records')[0]"
   ]
  },
  {
   "cell_type": "code",
   "execution_count": 26,
   "id": "9d176be0",
   "metadata": {},
   "outputs": [],
   "source": [
    "newDict = dict(zip(dict1.keys(), [float(value) for value in dict1.values()]))"
   ]
  },
  {
   "cell_type": "code",
   "execution_count": 154,
   "id": "028508f2",
   "metadata": {},
   "outputs": [
    {
     "data": {
      "text/plain": [
       "array([5.16257983e-01, 5.59583515e-01, 5.62878098e-01, 6.01190562e-01,\n",
       "       6.01190562e-01, 9.99039803e-01, 7.97481318e-01, 8.09391864e-01,\n",
       "       3.03536853e-01, 7.81656852e-01, 5.08000000e+09, 2.87000000e+09,\n",
       "       4.68842421e-01, 2.66026603e-04, 1.09525256e-01, 2.35051199e-01,\n",
       "       2.35051199e-01, 2.35051199e-01, 2.35794649e-01, 3.34724482e-01,\n",
       "       5.18021084e-02, 1.14322938e-01, 1.88672140e-01, 2.20321127e-02,\n",
       "       8.47981550e-01, 6.89245783e-01, 6.89245783e-01, 2.17576209e-01,\n",
       "       6.78000000e+09, 4.43663960e-04, 2.63517262e-01, 3.82297604e-01,\n",
       "       7.38780846e-03, 6.38001614e-03, 6.30951288e-01, 7.00170529e-03,\n",
       "       1.28306678e-01, 8.71693322e-01, 5.32484304e-03, 3.74674277e-01,\n",
       "       5.86002242e-03, 1.14156367e-01, 1.87715859e-01, 3.97596269e-01,\n",
       "       1.13943028e-01, 1.01041867e-03, 6.25232157e-03, 2.66355804e-04,\n",
       "       1.70211993e-04, 3.00000000e-02, 1.93410984e-02, 3.97039868e-01,\n",
       "       1.50963838e-02, 7.65651069e-01, 2.58973767e-01, 2.86932833e-01,\n",
       "       1.11188071e-01, 6.51047048e-03, 8.07444456e-03, 7.27536266e-02,\n",
       "       3.52720484e-01, 2.77325503e-01, 2.62160089e-03, 5.31826005e-01,\n",
       "       7.33019523e-01, 3.29570387e-01, 1.93075218e-02, 9.50868887e-01,\n",
       "       2.54798410e-03, 8.29085401e-03, 9.58000000e+09, 9.11000000e+09,\n",
       "       5.93928885e-01, 1.08900981e-04, 6.71590251e-01, 3.47702080e-01,\n",
       "       5.31826005e-01, 3.29570387e-01, 1.20264396e-01, 6.66644048e-01,\n",
       "       4.63963860e-01, 6.14929278e-01, 3.18471116e-01, 3.92006856e-02,\n",
       "       0.00000000e+00, 8.11390703e-01, 4.58283828e-02, 6.23615244e-01,\n",
       "       6.01188736e-01, 8.41303763e-01, 2.79856636e-01, 2.68846292e-02,\n",
       "       5.65567873e-01, 1.00000000e+00, 2.89363805e-02])"
      ]
     },
     "execution_count": 154,
     "metadata": {},
     "output_type": "execute_result"
    }
   ],
   "source": [
    "np.array(list(dict1.values())).astype(float)"
   ]
  },
  {
   "cell_type": "code",
   "execution_count": 39,
   "id": "0d24c1af",
   "metadata": {},
   "outputs": [
    {
     "data": {
      "text/plain": [
       "(1, 95)"
      ]
     },
     "execution_count": 39,
     "metadata": {},
     "output_type": "execute_result"
    }
   ],
   "source": [
    "X_train.sample(1).shape"
   ]
  },
  {
   "cell_type": "code",
   "execution_count": 50,
   "id": "c9136dd2",
   "metadata": {},
   "outputs": [],
   "source": [
    "ciao = np.array(list(X_train.sample(1).to_dict(orient='records')[0].values())).astype(float)"
   ]
  },
  {
   "cell_type": "code",
   "execution_count": 52,
   "id": "e5f2bf92",
   "metadata": {},
   "outputs": [
    {
     "data": {
      "text/plain": [
       "array([5.39414030e-01, 5.80843873e-01, 5.91466353e-01, 6.08534283e-01,\n",
       "       6.08534283e-01, 9.99084635e-01, 7.97513690e-01, 8.09414518e-01,\n",
       "       3.03499631e-01, 7.81681694e-01, 1.23615412e-04, 0.00000000e+00,\n",
       "       4.67075984e-01, 2.97029703e-04, 1.46269865e-01, 1.72390544e-01,\n",
       "       1.72390544e-01, 1.72390544e-01, 2.32674671e-01, 3.27580109e-01,\n",
       "       3.49380643e-02, 1.15381484e-01, 1.86713866e-01, 2.21994040e-02,\n",
       "       8.48270378e-01, 6.89869775e-01, 6.89869775e-01, 2.17646847e-01,\n",
       "       7.06000000e+09, 4.96417524e-04, 2.64373577e-01, 3.86963973e-01,\n",
       "       9.00839623e-03, 7.90405833e-03, 6.30894782e-01, 9.55233953e-03,\n",
       "       1.51313602e-01, 8.48686398e-01, 5.08513306e-03, 3.75772508e-01,\n",
       "       5.36584771e-03, 1.15385868e-01, 1.85792927e-01, 4.03839378e-01,\n",
       "       1.55922039e-01, 7.36509998e-04, 8.58520090e-03, 2.35019827e-04,\n",
       "       1.61134020e-04, 4.53225806e-02, 8.48963765e-03, 3.95445603e-01,\n",
       "       6.39822362e-03, 7.99779703e-01, 4.77494812e-01, 5.38880612e-01,\n",
       "       1.94318304e-01, 7.75746483e-03, 9.19943332e-03, 1.11854509e-01,\n",
       "       3.52697304e-01, 2.77201399e-01, 3.58406076e-03, 7.00329327e-01,\n",
       "       7.36073020e-01, 3.32210818e-01, 5.97574294e-03, 9.34144597e-01,\n",
       "       2.40020324e-03, 2.66544827e-02, 1.36590693e-04, 1.25441202e-04,\n",
       "       5.93948885e-01, 1.40107049e-04, 6.71597653e-01, 4.55885317e-01,\n",
       "       7.00329327e-01, 3.32210818e-01, 1.17137985e-01, 6.88425705e-01,\n",
       "       4.66941988e-01, 6.23552949e-01, 3.23233263e-01, 3.23275049e-02,\n",
       "       0.00000000e+00, 8.22517803e-01, 7.20568423e-04, 6.24101973e-01,\n",
       "       6.08531385e-01, 8.42555266e-01, 2.81706555e-01, 2.68706203e-02,\n",
       "       5.65510796e-01, 1.00000000e+00, 2.40109826e-02])"
      ]
     },
     "execution_count": 52,
     "metadata": {},
     "output_type": "execute_result"
    }
   ],
   "source": [
    "ciao"
   ]
  },
  {
   "cell_type": "code",
   "execution_count": 57,
   "id": "860dfc6b",
   "metadata": {
    "collapsed": true
   },
   "outputs": [
    {
     "data": {
      "text/plain": [
       "array([[5.39414030e-01],\n",
       "       [5.80843873e-01],\n",
       "       [5.91466353e-01],\n",
       "       [6.08534283e-01],\n",
       "       [6.08534283e-01],\n",
       "       [9.99084635e-01],\n",
       "       [7.97513690e-01],\n",
       "       [8.09414518e-01],\n",
       "       [3.03499631e-01],\n",
       "       [7.81681694e-01],\n",
       "       [1.23615412e-04],\n",
       "       [0.00000000e+00],\n",
       "       [4.67075984e-01],\n",
       "       [2.97029703e-04],\n",
       "       [1.46269865e-01],\n",
       "       [1.72390544e-01],\n",
       "       [1.72390544e-01],\n",
       "       [1.72390544e-01],\n",
       "       [2.32674671e-01],\n",
       "       [3.27580109e-01],\n",
       "       [3.49380643e-02],\n",
       "       [1.15381484e-01],\n",
       "       [1.86713866e-01],\n",
       "       [2.21994040e-02],\n",
       "       [8.48270378e-01],\n",
       "       [6.89869775e-01],\n",
       "       [6.89869775e-01],\n",
       "       [2.17646847e-01],\n",
       "       [7.06000000e+09],\n",
       "       [4.96417524e-04],\n",
       "       [2.64373577e-01],\n",
       "       [3.86963973e-01],\n",
       "       [9.00839623e-03],\n",
       "       [7.90405833e-03],\n",
       "       [6.30894782e-01],\n",
       "       [9.55233953e-03],\n",
       "       [1.51313602e-01],\n",
       "       [8.48686398e-01],\n",
       "       [5.08513306e-03],\n",
       "       [3.75772508e-01],\n",
       "       [5.36584771e-03],\n",
       "       [1.15385868e-01],\n",
       "       [1.85792927e-01],\n",
       "       [4.03839378e-01],\n",
       "       [1.55922039e-01],\n",
       "       [7.36509998e-04],\n",
       "       [8.58520090e-03],\n",
       "       [2.35019827e-04],\n",
       "       [1.61134020e-04],\n",
       "       [4.53225806e-02],\n",
       "       [8.48963765e-03],\n",
       "       [3.95445603e-01],\n",
       "       [6.39822362e-03],\n",
       "       [7.99779703e-01],\n",
       "       [4.77494812e-01],\n",
       "       [5.38880612e-01],\n",
       "       [1.94318304e-01],\n",
       "       [7.75746483e-03],\n",
       "       [9.19943332e-03],\n",
       "       [1.11854509e-01],\n",
       "       [3.52697304e-01],\n",
       "       [2.77201399e-01],\n",
       "       [3.58406076e-03],\n",
       "       [7.00329327e-01],\n",
       "       [7.36073020e-01],\n",
       "       [3.32210818e-01],\n",
       "       [5.97574294e-03],\n",
       "       [9.34144597e-01],\n",
       "       [2.40020324e-03],\n",
       "       [2.66544827e-02],\n",
       "       [1.36590693e-04],\n",
       "       [1.25441202e-04],\n",
       "       [5.93948885e-01],\n",
       "       [1.40107049e-04],\n",
       "       [6.71597653e-01],\n",
       "       [4.55885317e-01],\n",
       "       [7.00329327e-01],\n",
       "       [3.32210818e-01],\n",
       "       [1.17137985e-01],\n",
       "       [6.88425705e-01],\n",
       "       [4.66941988e-01],\n",
       "       [6.23552949e-01],\n",
       "       [3.23233263e-01],\n",
       "       [3.23275049e-02],\n",
       "       [0.00000000e+00],\n",
       "       [8.22517803e-01],\n",
       "       [7.20568423e-04],\n",
       "       [6.24101973e-01],\n",
       "       [6.08531385e-01],\n",
       "       [8.42555266e-01],\n",
       "       [2.81706555e-01],\n",
       "       [2.68706203e-02],\n",
       "       [5.65510796e-01],\n",
       "       [1.00000000e+00],\n",
       "       [2.40109826e-02]])"
      ]
     },
     "execution_count": 57,
     "metadata": {},
     "output_type": "execute_result"
    }
   ],
   "source": [
    "ciao.reshape(ciao.shape[0], -1)"
   ]
  },
  {
   "cell_type": "code",
   "execution_count": 62,
   "id": "dbd7503d",
   "metadata": {
    "collapsed": true
   },
   "outputs": [
    {
     "data": {
      "text/plain": [
       "[array([[4.95636913e-01],\n",
       "        [5.52605757e-01],\n",
       "        [5.43658654e-01],\n",
       "        [6.37851511e-01],\n",
       "        [6.37851511e-01],\n",
       "        [9.99403430e-01],\n",
       "        [7.97918474e-01],\n",
       "        [8.09682464e-01],\n",
       "        [3.03539995e-01],\n",
       "        [7.82050818e-01],\n",
       "        [2.75214855e-04],\n",
       "        [0.00000000e+00],\n",
       "        [4.65702088e-01],\n",
       "        [0.00000000e+00],\n",
       "        [2.61666161e-01],\n",
       "        [1.97884623e-01],\n",
       "        [1.97884623e-01],\n",
       "        [1.97884623e-01],\n",
       "        [2.50638177e-01],\n",
       "        [3.68324255e-01],\n",
       "        [1.67127970e-02],\n",
       "        [1.29631138e-01],\n",
       "        [2.02304738e-01],\n",
       "        [2.21045698e-02],\n",
       "        [8.48032699e-01],\n",
       "        [6.89378453e-01],\n",
       "        [6.89378453e-01],\n",
       "        [2.17595379e-01],\n",
       "        [5.39000000e+09],\n",
       "        [4.70440012e-04],\n",
       "        [2.63963292e-01],\n",
       "        [4.36906226e-01],\n",
       "        [7.33663858e-03],\n",
       "        [7.09244192e-03],\n",
       "        [6.30612252e-01],\n",
       "        [2.99856829e-02],\n",
       "        [2.27650633e-01],\n",
       "        [7.72349367e-01],\n",
       "        [5.69461376e-03],\n",
       "        [4.03900394e-01],\n",
       "        [5.36584771e-03],\n",
       "        [1.29651343e-01],\n",
       "        [2.01372446e-01],\n",
       "        [4.43491157e-01],\n",
       "        [2.09895052e-02],\n",
       "        [3.25000000e+09],\n",
       "        [1.89073381e-01],\n",
       "        [3.67000000e+09],\n",
       "        [1.72481487e-04],\n",
       "        [1.96774194e-02],\n",
       "        [5.23008681e-02],\n",
       "        [4.69087085e-01],\n",
       "        [3.96264932e-02],\n",
       "        [7.97025316e-01],\n",
       "        [9.34483152e-01],\n",
       "        [9.20554753e-01],\n",
       "        [1.74709000e-02],\n",
       "        [7.26688095e-03],\n",
       "        [3.99419778e-04],\n",
       "        [2.32137281e-01],\n",
       "        [3.53352938e-01],\n",
       "        [2.77049397e-01],\n",
       "        [5.37665414e-04],\n",
       "        [9.79571873e-01],\n",
       "        [7.40110038e-01],\n",
       "        [3.52298224e-01],\n",
       "        [0.00000000e+00],\n",
       "        [9.37804404e-01],\n",
       "        [2.50192502e-03],\n",
       "        [8.65192600e-03],\n",
       "        [1.71803457e-03],\n",
       "        [1.75521572e-03],\n",
       "        [5.94132794e-01],\n",
       "        [8.47000000e+09],\n",
       "        [6.71523357e-01],\n",
       "        [6.82059503e-02],\n",
       "        [9.79571873e-01],\n",
       "        [3.52298224e-01],\n",
       "        [1.10933234e-01],\n",
       "        [6.29866277e-01],\n",
       "        [4.57797113e-01],\n",
       "        [6.57274158e-01],\n",
       "        [3.09374024e-01],\n",
       "        [3.94647899e-02],\n",
       "        [0.00000000e+00],\n",
       "        [8.09728477e-01],\n",
       "        [1.93528985e-02],\n",
       "        [6.24634819e-01],\n",
       "        [6.37852556e-01],\n",
       "        [8.42762572e-01],\n",
       "        [2.96525691e-01],\n",
       "        [2.67911567e-02],\n",
       "        [5.65158396e-01],\n",
       "        [1.00000000e+00],\n",
       "        [1.46631437e-02]])]"
      ]
     },
     "execution_count": 62,
     "metadata": {},
     "output_type": "execute_result"
    }
   ],
   "source": [
    "[data_values.reshape(data_values.shape[0],-1)]"
   ]
  },
  {
   "cell_type": "code",
   "execution_count": 76,
   "id": "4da0a104",
   "metadata": {},
   "outputs": [
    {
     "data": {
      "text/plain": [
       "2"
      ]
     },
     "execution_count": 76,
     "metadata": {},
     "output_type": "execute_result"
    }
   ],
   "source": [
    "np.array(list(X_train.sample(1).to_dict(orient='records')[0].values())).astype(float).reshape(-1, 1).ndim"
   ]
  },
  {
   "cell_type": "code",
   "execution_count": 73,
   "id": "07971c26",
   "metadata": {},
   "outputs": [
    {
     "name": "stderr",
     "output_type": "stream",
     "text": [
      "/opt/anaconda3/envs/sharpist/lib/python3.9/site-packages/sklearn/base.py:450: UserWarning: X does not have valid feature names, but MultinomialNB was fitted with feature names\n",
      "  warnings.warn(\n"
     ]
    },
    {
     "ename": "ValueError",
     "evalue": "Expected 2D array, got 1D array instead:\narray=[4.63559694e-01 5.40122111e-01 5.17425986e-01 5.97421410e-01\n 5.97421410e-01 9.98970705e-01 7.97400804e-01 8.09332624e-01\n 3.03540720e-01 7.81567308e-01 5.94000000e+09 0.00000000e+00\n 4.57210438e-01 1.21012101e-04 0.00000000e+00 1.74076103e-01\n 1.74076103e-01 1.74076103e-01 2.14900255e-01 2.88286058e-01\n 3.61934147e-02 9.68976468e-02 1.72629359e-01 2.21533065e-02\n 8.48226545e-01 6.89674031e-01 6.89674031e-01 2.17634433e-01\n 8.07000000e+09 4.47806388e-04 2.64012246e-01 3.09582355e-01\n 7.32790225e-03 5.06246514e-03 6.32116341e-01 2.61282704e-02\n 2.20001814e-01 7.79998186e-01 7.65395089e-03 3.98308591e-01\n 5.45542069e-03 9.68944909e-02 1.71676344e-01 4.02423291e-01\n 8.69565217e-02 2.77966583e-03 2.27481353e-03 9.36000000e+09\n 1.64311311e-03 4.24193548e-02 2.21611856e-02 3.92675426e-01\n 1.73547016e-03 7.96054827e-01 8.12196706e-01 9.05992927e-01\n 2.54330088e-02 6.39744087e-03 5.90031249e-04 2.28753996e-01\n 3.28136841e-01 2.77359715e-01 2.75840639e-03 9.98593740e-01\n 7.39149882e-01 3.49385734e-01 0.00000000e+00 9.33112654e-01\n 2.30159266e-03 8.08444624e-03 4.62081310e-04 4.19902550e-04\n 5.93974286e-01 3.45000000e+09 6.71565344e-01 2.52001455e-02\n 9.98593740e-01 3.49385734e-01 1.10933234e-01 6.36294554e-01\n 4.58498484e-01 4.76330048e-01 3.12188435e-01 3.95114083e-02\n 0.00000000e+00 7.99336514e-01 4.59688351e-03 6.23949439e-01\n 5.97420055e-01 8.40644344e-01 2.93727727e-01 2.76995630e-02\n 5.67487625e-01 1.00000000e+00 1.53141421e-02].\nReshape your data either using array.reshape(-1, 1) if your data has a single feature or array.reshape(1, -1) if it contains a single sample.",
     "output_type": "error",
     "traceback": [
      "\u001b[0;31m---------------------------------------------------------------------------\u001b[0m",
      "\u001b[0;31mValueError\u001b[0m                                Traceback (most recent call last)",
      "Input \u001b[0;32mIn [73]\u001b[0m, in \u001b[0;36m<cell line: 3>\u001b[0;34m()\u001b[0m\n\u001b[1;32m      1\u001b[0m data \u001b[38;5;241m=\u001b[39m X_train\u001b[38;5;241m.\u001b[39msample(\u001b[38;5;241m1\u001b[39m)\u001b[38;5;241m.\u001b[39mto_dict(orient\u001b[38;5;241m=\u001b[39m\u001b[38;5;124m'\u001b[39m\u001b[38;5;124mrecords\u001b[39m\u001b[38;5;124m'\u001b[39m)[\u001b[38;5;241m0\u001b[39m]\n\u001b[1;32m      2\u001b[0m \u001b[38;5;66;03m#data_values = np.array(list(data.values())).astype(float)\u001b[39;00m\n\u001b[0;32m----> 3\u001b[0m prediction \u001b[38;5;241m=\u001b[39m \u001b[43mmodel_apply\u001b[49m\u001b[38;5;241;43m.\u001b[39;49m\u001b[43mpredict\u001b[49m\u001b[43m(\u001b[49m\u001b[43mnp\u001b[49m\u001b[38;5;241;43m.\u001b[39;49m\u001b[43marray\u001b[49m\u001b[43m(\u001b[49m\u001b[38;5;28;43mlist\u001b[39;49m\u001b[43m(\u001b[49m\u001b[43mX_train\u001b[49m\u001b[38;5;241;43m.\u001b[39;49m\u001b[43msample\u001b[49m\u001b[43m(\u001b[49m\u001b[38;5;241;43m1\u001b[39;49m\u001b[43m)\u001b[49m\u001b[38;5;241;43m.\u001b[39;49m\u001b[43mto_dict\u001b[49m\u001b[43m(\u001b[49m\u001b[43morient\u001b[49m\u001b[38;5;241;43m=\u001b[39;49m\u001b[38;5;124;43m'\u001b[39;49m\u001b[38;5;124;43mrecords\u001b[39;49m\u001b[38;5;124;43m'\u001b[39;49m\u001b[43m)\u001b[49m\u001b[43m[\u001b[49m\u001b[38;5;241;43m0\u001b[39;49m\u001b[43m]\u001b[49m\u001b[38;5;241;43m.\u001b[39;49m\u001b[43mvalues\u001b[49m\u001b[43m(\u001b[49m\u001b[43m)\u001b[49m\u001b[43m)\u001b[49m\u001b[43m)\u001b[49m\u001b[38;5;241;43m.\u001b[39;49m\u001b[43mastype\u001b[49m\u001b[43m(\u001b[49m\u001b[38;5;28;43mfloat\u001b[39;49m\u001b[43m)\u001b[49m\u001b[43m)\u001b[49m\n",
      "File \u001b[0;32m~/Desktop/firebreak_project/sharpist/model.py:33\u001b[0m, in \u001b[0;36mNBModel.predict\u001b[0;34m(self, X)\u001b[0m\n\u001b[1;32m     30\u001b[0m \u001b[38;5;28;01mdef\u001b[39;00m \u001b[38;5;21mpredict\u001b[39m(\u001b[38;5;28mself\u001b[39m, X):\n\u001b[1;32m     31\u001b[0m     \u001b[38;5;124;03m\"\"\"Returns the predicted class in an array\u001b[39;00m\n\u001b[1;32m     32\u001b[0m \u001b[38;5;124;03m    \"\"\"\u001b[39;00m\n\u001b[0;32m---> 33\u001b[0m     y_pred \u001b[38;5;241m=\u001b[39m \u001b[38;5;28;43mself\u001b[39;49m\u001b[38;5;241;43m.\u001b[39;49m\u001b[43mclf\u001b[49m\u001b[38;5;241;43m.\u001b[39;49m\u001b[43mpredict\u001b[49m\u001b[43m(\u001b[49m\u001b[43mX\u001b[49m\u001b[43m)\u001b[49m\n\u001b[1;32m     34\u001b[0m     \u001b[38;5;28;01mreturn\u001b[39;00m y_pred\n",
      "File \u001b[0;32m/opt/anaconda3/envs/sharpist/lib/python3.9/site-packages/sklearn/naive_bayes.py:82\u001b[0m, in \u001b[0;36m_BaseNB.predict\u001b[0;34m(self, X)\u001b[0m\n\u001b[1;32m     68\u001b[0m \u001b[38;5;124;03m\"\"\"\u001b[39;00m\n\u001b[1;32m     69\u001b[0m \u001b[38;5;124;03mPerform classification on an array of test vectors X.\u001b[39;00m\n\u001b[1;32m     70\u001b[0m \n\u001b[0;32m   (...)\u001b[0m\n\u001b[1;32m     79\u001b[0m \u001b[38;5;124;03m    Predicted target values for X.\u001b[39;00m\n\u001b[1;32m     80\u001b[0m \u001b[38;5;124;03m\"\"\"\u001b[39;00m\n\u001b[1;32m     81\u001b[0m check_is_fitted(\u001b[38;5;28mself\u001b[39m)\n\u001b[0;32m---> 82\u001b[0m X \u001b[38;5;241m=\u001b[39m \u001b[38;5;28;43mself\u001b[39;49m\u001b[38;5;241;43m.\u001b[39;49m\u001b[43m_check_X\u001b[49m\u001b[43m(\u001b[49m\u001b[43mX\u001b[49m\u001b[43m)\u001b[49m\n\u001b[1;32m     83\u001b[0m jll \u001b[38;5;241m=\u001b[39m \u001b[38;5;28mself\u001b[39m\u001b[38;5;241m.\u001b[39m_joint_log_likelihood(X)\n\u001b[1;32m     84\u001b[0m \u001b[38;5;28;01mreturn\u001b[39;00m \u001b[38;5;28mself\u001b[39m\u001b[38;5;241m.\u001b[39mclasses_[np\u001b[38;5;241m.\u001b[39margmax(jll, axis\u001b[38;5;241m=\u001b[39m\u001b[38;5;241m1\u001b[39m)]\n",
      "File \u001b[0;32m/opt/anaconda3/envs/sharpist/lib/python3.9/site-packages/sklearn/naive_bayes.py:519\u001b[0m, in \u001b[0;36m_BaseDiscreteNB._check_X\u001b[0;34m(self, X)\u001b[0m\n\u001b[1;32m    517\u001b[0m \u001b[38;5;28;01mdef\u001b[39;00m \u001b[38;5;21m_check_X\u001b[39m(\u001b[38;5;28mself\u001b[39m, X):\n\u001b[1;32m    518\u001b[0m     \u001b[38;5;124;03m\"\"\"Validate X, used only in predict* methods.\"\"\"\u001b[39;00m\n\u001b[0;32m--> 519\u001b[0m     \u001b[38;5;28;01mreturn\u001b[39;00m \u001b[38;5;28;43mself\u001b[39;49m\u001b[38;5;241;43m.\u001b[39;49m\u001b[43m_validate_data\u001b[49m\u001b[43m(\u001b[49m\u001b[43mX\u001b[49m\u001b[43m,\u001b[49m\u001b[43m \u001b[49m\u001b[43maccept_sparse\u001b[49m\u001b[38;5;241;43m=\u001b[39;49m\u001b[38;5;124;43m\"\u001b[39;49m\u001b[38;5;124;43mcsr\u001b[39;49m\u001b[38;5;124;43m\"\u001b[39;49m\u001b[43m,\u001b[49m\u001b[43m \u001b[49m\u001b[43mreset\u001b[49m\u001b[38;5;241;43m=\u001b[39;49m\u001b[38;5;28;43;01mFalse\u001b[39;49;00m\u001b[43m)\u001b[49m\n",
      "File \u001b[0;32m/opt/anaconda3/envs/sharpist/lib/python3.9/site-packages/sklearn/base.py:566\u001b[0m, in \u001b[0;36mBaseEstimator._validate_data\u001b[0;34m(self, X, y, reset, validate_separately, **check_params)\u001b[0m\n\u001b[1;32m    564\u001b[0m     \u001b[38;5;28;01mraise\u001b[39;00m \u001b[38;5;167;01mValueError\u001b[39;00m(\u001b[38;5;124m\"\u001b[39m\u001b[38;5;124mValidation should be done on X, y or both.\u001b[39m\u001b[38;5;124m\"\u001b[39m)\n\u001b[1;32m    565\u001b[0m \u001b[38;5;28;01melif\u001b[39;00m \u001b[38;5;129;01mnot\u001b[39;00m no_val_X \u001b[38;5;129;01mand\u001b[39;00m no_val_y:\n\u001b[0;32m--> 566\u001b[0m     X \u001b[38;5;241m=\u001b[39m \u001b[43mcheck_array\u001b[49m\u001b[43m(\u001b[49m\u001b[43mX\u001b[49m\u001b[43m,\u001b[49m\u001b[43m \u001b[49m\u001b[38;5;241;43m*\u001b[39;49m\u001b[38;5;241;43m*\u001b[39;49m\u001b[43mcheck_params\u001b[49m\u001b[43m)\u001b[49m\n\u001b[1;32m    567\u001b[0m     out \u001b[38;5;241m=\u001b[39m X\n\u001b[1;32m    568\u001b[0m \u001b[38;5;28;01melif\u001b[39;00m no_val_X \u001b[38;5;129;01mand\u001b[39;00m \u001b[38;5;129;01mnot\u001b[39;00m no_val_y:\n",
      "File \u001b[0;32m/opt/anaconda3/envs/sharpist/lib/python3.9/site-packages/sklearn/utils/validation.py:769\u001b[0m, in \u001b[0;36mcheck_array\u001b[0;34m(array, accept_sparse, accept_large_sparse, dtype, order, copy, force_all_finite, ensure_2d, allow_nd, ensure_min_samples, ensure_min_features, estimator)\u001b[0m\n\u001b[1;32m    767\u001b[0m     \u001b[38;5;66;03m# If input is 1D raise error\u001b[39;00m\n\u001b[1;32m    768\u001b[0m     \u001b[38;5;28;01mif\u001b[39;00m array\u001b[38;5;241m.\u001b[39mndim \u001b[38;5;241m==\u001b[39m \u001b[38;5;241m1\u001b[39m:\n\u001b[0;32m--> 769\u001b[0m         \u001b[38;5;28;01mraise\u001b[39;00m \u001b[38;5;167;01mValueError\u001b[39;00m(\n\u001b[1;32m    770\u001b[0m             \u001b[38;5;124m\"\u001b[39m\u001b[38;5;124mExpected 2D array, got 1D array instead:\u001b[39m\u001b[38;5;130;01m\\n\u001b[39;00m\u001b[38;5;124marray=\u001b[39m\u001b[38;5;132;01m{}\u001b[39;00m\u001b[38;5;124m.\u001b[39m\u001b[38;5;130;01m\\n\u001b[39;00m\u001b[38;5;124m\"\u001b[39m\n\u001b[1;32m    771\u001b[0m             \u001b[38;5;124m\"\u001b[39m\u001b[38;5;124mReshape your data either using array.reshape(-1, 1) if \u001b[39m\u001b[38;5;124m\"\u001b[39m\n\u001b[1;32m    772\u001b[0m             \u001b[38;5;124m\"\u001b[39m\u001b[38;5;124myour data has a single feature or array.reshape(1, -1) \u001b[39m\u001b[38;5;124m\"\u001b[39m\n\u001b[1;32m    773\u001b[0m             \u001b[38;5;124m\"\u001b[39m\u001b[38;5;124mif it contains a single sample.\u001b[39m\u001b[38;5;124m\"\u001b[39m\u001b[38;5;241m.\u001b[39mformat(array)\n\u001b[1;32m    774\u001b[0m         )\n\u001b[1;32m    776\u001b[0m \u001b[38;5;66;03m# make sure we actually converted to numeric:\u001b[39;00m\n\u001b[1;32m    777\u001b[0m \u001b[38;5;28;01mif\u001b[39;00m dtype_numeric \u001b[38;5;129;01mand\u001b[39;00m array\u001b[38;5;241m.\u001b[39mdtype\u001b[38;5;241m.\u001b[39mkind \u001b[38;5;129;01min\u001b[39;00m \u001b[38;5;124m\"\u001b[39m\u001b[38;5;124mOUSV\u001b[39m\u001b[38;5;124m\"\u001b[39m:\n",
      "\u001b[0;31mValueError\u001b[0m: Expected 2D array, got 1D array instead:\narray=[4.63559694e-01 5.40122111e-01 5.17425986e-01 5.97421410e-01\n 5.97421410e-01 9.98970705e-01 7.97400804e-01 8.09332624e-01\n 3.03540720e-01 7.81567308e-01 5.94000000e+09 0.00000000e+00\n 4.57210438e-01 1.21012101e-04 0.00000000e+00 1.74076103e-01\n 1.74076103e-01 1.74076103e-01 2.14900255e-01 2.88286058e-01\n 3.61934147e-02 9.68976468e-02 1.72629359e-01 2.21533065e-02\n 8.48226545e-01 6.89674031e-01 6.89674031e-01 2.17634433e-01\n 8.07000000e+09 4.47806388e-04 2.64012246e-01 3.09582355e-01\n 7.32790225e-03 5.06246514e-03 6.32116341e-01 2.61282704e-02\n 2.20001814e-01 7.79998186e-01 7.65395089e-03 3.98308591e-01\n 5.45542069e-03 9.68944909e-02 1.71676344e-01 4.02423291e-01\n 8.69565217e-02 2.77966583e-03 2.27481353e-03 9.36000000e+09\n 1.64311311e-03 4.24193548e-02 2.21611856e-02 3.92675426e-01\n 1.73547016e-03 7.96054827e-01 8.12196706e-01 9.05992927e-01\n 2.54330088e-02 6.39744087e-03 5.90031249e-04 2.28753996e-01\n 3.28136841e-01 2.77359715e-01 2.75840639e-03 9.98593740e-01\n 7.39149882e-01 3.49385734e-01 0.00000000e+00 9.33112654e-01\n 2.30159266e-03 8.08444624e-03 4.62081310e-04 4.19902550e-04\n 5.93974286e-01 3.45000000e+09 6.71565344e-01 2.52001455e-02\n 9.98593740e-01 3.49385734e-01 1.10933234e-01 6.36294554e-01\n 4.58498484e-01 4.76330048e-01 3.12188435e-01 3.95114083e-02\n 0.00000000e+00 7.99336514e-01 4.59688351e-03 6.23949439e-01\n 5.97420055e-01 8.40644344e-01 2.93727727e-01 2.76995630e-02\n 5.67487625e-01 1.00000000e+00 1.53141421e-02].\nReshape your data either using array.reshape(-1, 1) if your data has a single feature or array.reshape(1, -1) if it contains a single sample."
     ]
    }
   ],
   "source": [
    "data = X_train.sample(1).to_dict(orient='records')[0]\n",
    "#data_values = np.array(list(data.values())).astype(float)\n",
    "prediction = model_apply.predict(np.array(list(X_train.sample(1).to_dict(orient='records')[0].values())).astype(float).reshape(-1, 1))\n",
    "    #pred_proba = model.predict_proba([[data_values.reshape(data_value"
   ]
  },
  {
   "cell_type": "code",
   "execution_count": 54,
   "id": "1fa1b15c",
   "metadata": {},
   "outputs": [
    {
     "ename": "JSONDecodeError",
     "evalue": "[Errno Expecting value] <!doctype html>\n<html lang=en>\n  <head>\n    <title>ValueError: Found array with dim 4. Estimator expected <= 2.\n // Werkzeug Debugger</title>\n    <link rel=\"stylesheet\" href=\"?__debugger__=yes&amp;cmd=resource&amp;f=style.css\">\n    <link rel=\"shortcut icon\"\n        href=\"?__debugger__=yes&amp;cmd=resource&amp;f=console.png\">\n    <script src=\"?__debugger__=yes&amp;cmd=resource&amp;f=debugger.js\"></script>\n    <script>\n      var CONSOLE_MODE = false,\n          EVALEX = true,\n          EVALEX_TRUSTED = false,\n          SECRET = \"ykEXcvkhunzsmyIjwXpu\";\n    </script>\n  </head>\n  <body style=\"background-color: #fff\">\n    <div class=\"debugger\">\n<h1>ValueError</h1>\n<div class=\"detail\">\n  <p class=\"errormsg\">ValueError: Found array with dim 4. Estimator expected &lt;= 2.\n</p>\n</div>\n<h2 class=\"traceback\">Traceback <em>(most recent call last)</em></h2>\n<div class=\"traceback\">\n  <h3></h3>\n  <ul><li><div class=\"frame\" id=\"frame-140215838598640\">\n  <h4>File <cite class=\"filename\">\"/opt/anaconda3/envs/sharpist/lib/python3.9/site-packages/flask/app.py\"</cite>,\n      line <em class=\"line\">2095</em>,\n      in <code class=\"function\">__call__</code></h4>\n  <div class=\"source library\"><pre class=\"line before\"><span class=\"ws\">    </span>def __call__(self, environ: dict, start_response: t.Callable) -&gt; t.Any:</pre>\n<pre class=\"line before\"><span class=\"ws\">        </span>&quot;&quot;&quot;The WSGI server calls the Flask application object as the</pre>\n<pre class=\"line before\"><span class=\"ws\">        </span>WSGI application. This calls :meth:`wsgi_app`, which can be</pre>\n<pre class=\"line before\"><span class=\"ws\">        </span>wrapped to apply middleware.</pre>\n<pre class=\"line before\"><span class=\"ws\">        </span>&quot;&quot;&quot;</pre>\n<pre class=\"line current\"><span class=\"ws\">        </span>return self.wsgi_app(environ, start_response)</pre></div>\n</div>\n\n<li><div class=\"frame\" id=\"frame-140215515841920\">\n  <h4>File <cite class=\"filename\">\"/opt/anaconda3/envs/sharpist/lib/python3.9/site-packages/flask/app.py\"</cite>,\n      line <em class=\"line\">2080</em>,\n      in <code class=\"function\">wsgi_app</code></h4>\n  <div class=\"source library\"><pre class=\"line before\"><span class=\"ws\">            </span>try:</pre>\n<pre class=\"line before\"><span class=\"ws\">                </span>ctx.push()</pre>\n<pre class=\"line before\"><span class=\"ws\">                </span>response = self.full_dispatch_request()</pre>\n<pre class=\"line before\"><span class=\"ws\">            </span>except Exception as e:</pre>\n<pre class=\"line before\"><span class=\"ws\">                </span>error = e</pre>\n<pre class=\"line current\"><span class=\"ws\">                </span>response = self.handle_exception(e)</pre>\n<pre class=\"line after\"><span class=\"ws\">            </span>except:  # noqa: B001</pre>\n<pre class=\"line after\"><span class=\"ws\">                </span>error = sys.exc_info()[1]</pre>\n<pre class=\"line after\"><span class=\"ws\">                </span>raise</pre>\n<pre class=\"line after\"><span class=\"ws\">            </span>return response(environ, start_response)</pre>\n<pre class=\"line after\"><span class=\"ws\">        </span>finally:</pre></div>\n</div>\n\n<li><div class=\"frame\" id=\"frame-140215515842032\">\n  <h4>File <cite class=\"filename\">\"/opt/anaconda3/envs/sharpist/lib/python3.9/site-packages/flask_restful/__init__.py\"</cite>,\n      line <em class=\"line\">271</em>,\n      in <code class=\"function\">error_router</code></h4>\n  <div class=\"source library\"><pre class=\"line before\"><span class=\"ws\">        </span>if self._has_fr_route():</pre>\n<pre class=\"line before\"><span class=\"ws\">            </span>try:</pre>\n<pre class=\"line before\"><span class=\"ws\">                </span>return self.handle_error(e)</pre>\n<pre class=\"line before\"><span class=\"ws\">            </span>except Exception:</pre>\n<pre class=\"line before\"><span class=\"ws\">                </span>pass  # Fall through to original handler</pre>\n<pre class=\"line current\"><span class=\"ws\">        </span>return original_handler(e)</pre>\n<pre class=\"line after\"><span class=\"ws\"></span> </pre>\n<pre class=\"line after\"><span class=\"ws\">    </span>def handle_error(self, e):</pre>\n<pre class=\"line after\"><span class=\"ws\">        </span>&quot;&quot;&quot;Error handler for the API transforms a raised exception into a Flask</pre>\n<pre class=\"line after\"><span class=\"ws\">        </span>response, with the appropriate HTTP status code and body.</pre>\n<pre class=\"line after\"><span class=\"ws\"></span> </pre></div>\n</div>\n\n<li><div class=\"frame\" id=\"frame-140215515903024\">\n  <h4>File <cite class=\"filename\">\"/opt/anaconda3/envs/sharpist/lib/python3.9/site-packages/flask/app.py\"</cite>,\n      line <em class=\"line\">2077</em>,\n      in <code class=\"function\">wsgi_app</code></h4>\n  <div class=\"source library\"><pre class=\"line before\"><span class=\"ws\">        </span>ctx = self.request_context(environ)</pre>\n<pre class=\"line before\"><span class=\"ws\">        </span>error: t.Optional[BaseException] = None</pre>\n<pre class=\"line before\"><span class=\"ws\">        </span>try:</pre>\n<pre class=\"line before\"><span class=\"ws\">            </span>try:</pre>\n<pre class=\"line before\"><span class=\"ws\">                </span>ctx.push()</pre>\n<pre class=\"line current\"><span class=\"ws\">                </span>response = self.full_dispatch_request()</pre>\n<pre class=\"line after\"><span class=\"ws\">            </span>except Exception as e:</pre>\n<pre class=\"line after\"><span class=\"ws\">                </span>error = e</pre>\n<pre class=\"line after\"><span class=\"ws\">                </span>response = self.handle_exception(e)</pre>\n<pre class=\"line after\"><span class=\"ws\">            </span>except:  # noqa: B001</pre>\n<pre class=\"line after\"><span class=\"ws\">                </span>error = sys.exc_info()[1]</pre></div>\n</div>\n\n<li><div class=\"frame\" id=\"frame-140215515903136\">\n  <h4>File <cite class=\"filename\">\"/opt/anaconda3/envs/sharpist/lib/python3.9/site-packages/flask/app.py\"</cite>,\n      line <em class=\"line\">1525</em>,\n      in <code class=\"function\">full_dispatch_request</code></h4>\n  <div class=\"source library\"><pre class=\"line before\"><span class=\"ws\">            </span>request_started.send(self)</pre>\n<pre class=\"line before\"><span class=\"ws\">            </span>rv = self.preprocess_request()</pre>\n<pre class=\"line before\"><span class=\"ws\">            </span>if rv is None:</pre>\n<pre class=\"line before\"><span class=\"ws\">                </span>rv = self.dispatch_request()</pre>\n<pre class=\"line before\"><span class=\"ws\">        </span>except Exception as e:</pre>\n<pre class=\"line current\"><span class=\"ws\">            </span>rv = self.handle_user_exception(e)</pre>\n<pre class=\"line after\"><span class=\"ws\">        </span>return self.finalize_request(rv)</pre>\n<pre class=\"line after\"><span class=\"ws\"></span> </pre>\n<pre class=\"line after\"><span class=\"ws\">    </span>def finalize_request(</pre>\n<pre class=\"line after\"><span class=\"ws\">        </span>self,</pre>\n<pre class=\"line after\"><span class=\"ws\">        </span>rv: t.Union[ResponseReturnValue, HTTPException],</pre></div>\n</div>\n\n<li><div class=\"frame\" id=\"frame-140215515903248\">\n  <h4>File <cite class=\"filename\">\"/opt/anaconda3/envs/sharpist/lib/python3.9/site-packages/flask_restful/__init__.py\"</cite>,\n      line <em class=\"line\">271</em>,\n      in <code class=\"function\">error_router</code></h4>\n  <div class=\"source library\"><pre class=\"line before\"><span class=\"ws\">        </span>if self._has_fr_route():</pre>\n<pre class=\"line before\"><span class=\"ws\">            </span>try:</pre>\n<pre class=\"line before\"><span class=\"ws\">                </span>return self.handle_error(e)</pre>\n<pre class=\"line before\"><span class=\"ws\">            </span>except Exception:</pre>\n<pre class=\"line before\"><span class=\"ws\">                </span>pass  # Fall through to original handler</pre>\n<pre class=\"line current\"><span class=\"ws\">        </span>return original_handler(e)</pre>\n<pre class=\"line after\"><span class=\"ws\"></span> </pre>\n<pre class=\"line after\"><span class=\"ws\">    </span>def handle_error(self, e):</pre>\n<pre class=\"line after\"><span class=\"ws\">        </span>&quot;&quot;&quot;Error handler for the API transforms a raised exception into a Flask</pre>\n<pre class=\"line after\"><span class=\"ws\">        </span>response, with the appropriate HTTP status code and body.</pre>\n<pre class=\"line after\"><span class=\"ws\"></span> </pre></div>\n</div>\n\n<li><div class=\"frame\" id=\"frame-140215515903360\">\n  <h4>File <cite class=\"filename\">\"/opt/anaconda3/envs/sharpist/lib/python3.9/site-packages/flask/app.py\"</cite>,\n      line <em class=\"line\">1523</em>,\n      in <code class=\"function\">full_dispatch_request</code></h4>\n  <div class=\"source library\"><pre class=\"line before\"><span class=\"ws\">        </span>self.try_trigger_before_first_request_functions()</pre>\n<pre class=\"line before\"><span class=\"ws\">        </span>try:</pre>\n<pre class=\"line before\"><span class=\"ws\">            </span>request_started.send(self)</pre>\n<pre class=\"line before\"><span class=\"ws\">            </span>rv = self.preprocess_request()</pre>\n<pre class=\"line before\"><span class=\"ws\">            </span>if rv is None:</pre>\n<pre class=\"line current\"><span class=\"ws\">                </span>rv = self.dispatch_request()</pre>\n<pre class=\"line after\"><span class=\"ws\">        </span>except Exception as e:</pre>\n<pre class=\"line after\"><span class=\"ws\">            </span>rv = self.handle_user_exception(e)</pre>\n<pre class=\"line after\"><span class=\"ws\">        </span>return self.finalize_request(rv)</pre>\n<pre class=\"line after\"><span class=\"ws\"></span> </pre>\n<pre class=\"line after\"><span class=\"ws\">    </span>def finalize_request(</pre></div>\n</div>\n\n<li><div class=\"frame\" id=\"frame-140215515903472\">\n  <h4>File <cite class=\"filename\">\"/opt/anaconda3/envs/sharpist/lib/python3.9/site-packages/flask/app.py\"</cite>,\n      line <em class=\"line\">1509</em>,\n      in <code class=\"function\">dispatch_request</code></h4>\n  <div class=\"source library\"><pre class=\"line before\"><span class=\"ws\">            </span>getattr(rule, &quot;provide_automatic_options&quot;, False)</pre>\n<pre class=\"line before\"><span class=\"ws\">            </span>and req.method == &quot;OPTIONS&quot;</pre>\n<pre class=\"line before\"><span class=\"ws\">        </span>):</pre>\n<pre class=\"line before\"><span class=\"ws\">            </span>return self.make_default_options_response()</pre>\n<pre class=\"line before\"><span class=\"ws\">        </span># otherwise dispatch to the handler for that endpoint</pre>\n<pre class=\"line current\"><span class=\"ws\">        </span>return self.ensure_sync(self.view_functions[rule.endpoint])(**req.view_args)</pre>\n<pre class=\"line after\"><span class=\"ws\"></span> </pre>\n<pre class=\"line after\"><span class=\"ws\">    </span>def full_dispatch_request(self) -&gt; Response:</pre>\n<pre class=\"line after\"><span class=\"ws\">        </span>&quot;&quot;&quot;Dispatches the request and on top of that performs request</pre>\n<pre class=\"line after\"><span class=\"ws\">        </span>pre and postprocessing as well as HTTP exception catching and</pre>\n<pre class=\"line after\"><span class=\"ws\">        </span>error handling.</pre></div>\n</div>\n\n<li><div class=\"frame\" id=\"frame-140215515903584\">\n  <h4>File <cite class=\"filename\">\"/Users/roberta.sgariglia/Desktop/firebreak_project/sharpist/app.py\"</cite>,\n      line <em class=\"line\">23</em>,\n      in <code class=\"function\">predict</code></h4>\n  <div class=\"source \"><pre class=\"line before\"><span class=\"ws\"></span> </pre>\n<pre class=\"line before\"><span class=\"ws\"></span>@app.route(&#x27;/api&#x27;,methods=[&#x27;POST&#x27;])</pre>\n<pre class=\"line before\"><span class=\"ws\"></span>def predict():</pre>\n<pre class=\"line before\"><span class=\"ws\">    </span>data = request.get_json(force=True)</pre>\n<pre class=\"line before\"><span class=\"ws\">    </span>data_values = np.array(list(data.values())).astype(float)</pre>\n<pre class=\"line current\"><span class=\"ws\">    </span>prediction = model.predict([[data_values.reshape(data_values.shape[0],-1)]])</pre>\n<pre class=\"line after\"><span class=\"ws\">    </span>#pred_proba = model.predict_proba([[data_values.reshape(data_values.shape[0],-1)]])</pre>\n<pre class=\"line after\"><span class=\"ws\">    </span># Output either &#x27;Negative&#x27; or &#x27;Positive&#x27; along with the score</pre>\n<pre class=\"line after\"><span class=\"ws\">   </span># if prediction == 0:</pre>\n<pre class=\"line after\"><span class=\"ws\">        </span>#pred_text = &#x27;Negative&#x27;</pre>\n<pre class=\"line after\"><span class=\"ws\">    </span>#else:</pre></div>\n</div>\n\n<li><div class=\"frame\" id=\"frame-140215515904256\">\n  <h4>File <cite class=\"filename\">\"/Users/roberta.sgariglia/Desktop/firebreak_project/sharpist/model.py\"</cite>,\n      line <em class=\"line\">33</em>,\n      in <code class=\"function\">predict</code></h4>\n  <div class=\"source \"><pre class=\"line before\"><span class=\"ws\">        </span>return y_proba[:, 1]</pre>\n<pre class=\"line before\"><span class=\"ws\"></span> </pre>\n<pre class=\"line before\"><span class=\"ws\">    </span>def predict(self, X):</pre>\n<pre class=\"line before\"><span class=\"ws\">        </span>&quot;&quot;&quot;Returns the predicted class in an array</pre>\n<pre class=\"line before\"><span class=\"ws\">        </span>&quot;&quot;&quot;</pre>\n<pre class=\"line current\"><span class=\"ws\">        </span>y_pred = self.clf.predict(X)</pre>\n<pre class=\"line after\"><span class=\"ws\">        </span>return y_pred</pre>\n<pre class=\"line after\"><span class=\"ws\"></span> </pre>\n<pre class=\"line after\"><span class=\"ws\">    </span>def pickle_clf(self, path=&#x27;Classifier.pkl&#x27;):</pre>\n<pre class=\"line after\"><span class=\"ws\">        </span>&quot;&quot;&quot;Saves the trained classifier for future use.</pre>\n<pre class=\"line after\"><span class=\"ws\">        </span>&quot;&quot;&quot;</pre></div>\n</div>\n\n<li><div class=\"frame\" id=\"frame-140215515905152\">\n  <h4>File <cite class=\"filename\">\"/opt/anaconda3/envs/sharpist/lib/python3.9/site-packages/sklearn/naive_bayes.py\"</cite>,\n      line <em class=\"line\">82</em>,\n      in <code class=\"function\">predict</code></h4>\n  <div class=\"source library\"><pre class=\"line before\"><span class=\"ws\">        </span>-------</pre>\n<pre class=\"line before\"><span class=\"ws\">        </span>C : ndarray of shape (n_samples,)</pre>\n<pre class=\"line before\"><span class=\"ws\">            </span>Predicted target values for X.</pre>\n<pre class=\"line before\"><span class=\"ws\">        </span>&quot;&quot;&quot;</pre>\n<pre class=\"line before\"><span class=\"ws\">        </span>check_is_fitted(self)</pre>\n<pre class=\"line current\"><span class=\"ws\">        </span>X = self._check_X(X)</pre>\n<pre class=\"line after\"><span class=\"ws\">        </span>jll = self._joint_log_likelihood(X)</pre>\n<pre class=\"line after\"><span class=\"ws\">        </span>return self.classes_[np.argmax(jll, axis=1)]</pre>\n<pre class=\"line after\"><span class=\"ws\"></span> </pre>\n<pre class=\"line after\"><span class=\"ws\">    </span>def predict_log_proba(self, X):</pre>\n<pre class=\"line after\"><span class=\"ws\">        </span>&quot;&quot;&quot;</pre></div>\n</div>\n\n<li><div class=\"frame\" id=\"frame-140215838718992\">\n  <h4>File <cite class=\"filename\">\"/opt/anaconda3/envs/sharpist/lib/python3.9/site-packages/sklearn/naive_bayes.py\"</cite>,\n      line <em class=\"line\">519</em>,\n      in <code class=\"function\">_check_X</code></h4>\n  <div class=\"source library\"><pre class=\"line before\"><span class=\"ws\">    </span>_joint_log_likelihood(X) as per _BaseNB</pre>\n<pre class=\"line before\"><span class=\"ws\">    </span>&quot;&quot;&quot;</pre>\n<pre class=\"line before\"><span class=\"ws\"></span> </pre>\n<pre class=\"line before\"><span class=\"ws\">    </span>def _check_X(self, X):</pre>\n<pre class=\"line before\"><span class=\"ws\">        </span>&quot;&quot;&quot;Validate X, used only in predict* methods.&quot;&quot;&quot;</pre>\n<pre class=\"line current\"><span class=\"ws\">        </span>return self._validate_data(X, accept_sparse=&quot;csr&quot;, reset=False)</pre>\n<pre class=\"line after\"><span class=\"ws\"></span> </pre>\n<pre class=\"line after\"><span class=\"ws\">    </span>def _check_X_y(self, X, y, reset=True):</pre>\n<pre class=\"line after\"><span class=\"ws\">        </span>&quot;&quot;&quot;Validate X and y in fit methods.&quot;&quot;&quot;</pre>\n<pre class=\"line after\"><span class=\"ws\">        </span>return self._validate_data(X, y, accept_sparse=&quot;csr&quot;, reset=reset)</pre>\n<pre class=\"line after\"><span class=\"ws\"></span> </pre></div>\n</div>\n\n<li><div class=\"frame\" id=\"frame-140215838719216\">\n  <h4>File <cite class=\"filename\">\"/opt/anaconda3/envs/sharpist/lib/python3.9/site-packages/sklearn/base.py\"</cite>,\n      line <em class=\"line\">566</em>,\n      in <code class=\"function\">_validate_data</code></h4>\n  <div class=\"source library\"><pre class=\"line before\"><span class=\"ws\">        </span>no_val_y = y is None or isinstance(y, str) and y == &quot;no_validation&quot;</pre>\n<pre class=\"line before\"><span class=\"ws\"></span> </pre>\n<pre class=\"line before\"><span class=\"ws\">        </span>if no_val_X and no_val_y:</pre>\n<pre class=\"line before\"><span class=\"ws\">            </span>raise ValueError(&quot;Validation should be done on X, y or both.&quot;)</pre>\n<pre class=\"line before\"><span class=\"ws\">        </span>elif not no_val_X and no_val_y:</pre>\n<pre class=\"line current\"><span class=\"ws\">            </span>X = check_array(X, **check_params)</pre>\n<pre class=\"line after\"><span class=\"ws\">            </span>out = X</pre>\n<pre class=\"line after\"><span class=\"ws\">        </span>elif no_val_X and not no_val_y:</pre>\n<pre class=\"line after\"><span class=\"ws\">            </span>y = _check_y(y, **check_params)</pre>\n<pre class=\"line after\"><span class=\"ws\">            </span>out = y</pre>\n<pre class=\"line after\"><span class=\"ws\">        </span>else:</pre></div>\n</div>\n\n<li><div class=\"frame\" id=\"frame-140215838719328\">\n  <h4>File <cite class=\"filename\">\"/opt/anaconda3/envs/sharpist/lib/python3.9/site-packages/sklearn/utils/validation.py\"</cite>,\n      line <em class=\"line\">794</em>,\n      in <code class=\"function\">check_array</code></h4>\n  <div class=\"source library\"><pre class=\"line before\"><span class=\"ws\">                </span>raise ValueError(</pre>\n<pre class=\"line before\"><span class=\"ws\">                    </span>&quot;Unable to convert array of bytes/strings &quot;</pre>\n<pre class=\"line before\"><span class=\"ws\">                    </span>&quot;into decimal numbers with dtype=&#x27;numeric&#x27;&quot;</pre>\n<pre class=\"line before\"><span class=\"ws\">                </span>) from e</pre>\n<pre class=\"line before\"><span class=\"ws\">        </span>if not allow_nd and array.ndim &gt;= 3:</pre>\n<pre class=\"line current\"><span class=\"ws\">            </span>raise ValueError(</pre>\n<pre class=\"line after\"><span class=\"ws\">                </span>&quot;Found array with dim %d. %s expected &lt;= 2.&quot;</pre>\n<pre class=\"line after\"><span class=\"ws\">                </span>% (array.ndim, estimator_name)</pre>\n<pre class=\"line after\"><span class=\"ws\">            </span>)</pre>\n<pre class=\"line after\"><span class=\"ws\"></span> </pre>\n<pre class=\"line after\"><span class=\"ws\">        </span>if force_all_finite:</pre></div>\n</div>\n</ul>\n  <blockquote>ValueError: Found array with dim 4. Estimator expected &lt;= 2.\n</blockquote>\n</div>\n\n<div class=\"plain\">\n    <p>\n      This is the Copy/Paste friendly version of the traceback.\n    </p>\n    <textarea cols=\"50\" rows=\"10\" name=\"code\" readonly>Traceback (most recent call last):\n  File &quot;/opt/anaconda3/envs/sharpist/lib/python3.9/site-packages/flask/app.py&quot;, line 2095, in __call__\n    return self.wsgi_app(environ, start_response)\n  File &quot;/opt/anaconda3/envs/sharpist/lib/python3.9/site-packages/flask/app.py&quot;, line 2080, in wsgi_app\n    response = self.handle_exception(e)\n  File &quot;/opt/anaconda3/envs/sharpist/lib/python3.9/site-packages/flask_restful/__init__.py&quot;, line 271, in error_router\n    return original_handler(e)\n  File &quot;/opt/anaconda3/envs/sharpist/lib/python3.9/site-packages/flask/app.py&quot;, line 2077, in wsgi_app\n    response = self.full_dispatch_request()\n  File &quot;/opt/anaconda3/envs/sharpist/lib/python3.9/site-packages/flask/app.py&quot;, line 1525, in full_dispatch_request\n    rv = self.handle_user_exception(e)\n  File &quot;/opt/anaconda3/envs/sharpist/lib/python3.9/site-packages/flask_restful/__init__.py&quot;, line 271, in error_router\n    return original_handler(e)\n  File &quot;/opt/anaconda3/envs/sharpist/lib/python3.9/site-packages/flask/app.py&quot;, line 1523, in full_dispatch_request\n    rv = self.dispatch_request()\n  File &quot;/opt/anaconda3/envs/sharpist/lib/python3.9/site-packages/flask/app.py&quot;, line 1509, in dispatch_request\n    return self.ensure_sync(self.view_functions[rule.endpoint])(**req.view_args)\n  File &quot;/Users/roberta.sgariglia/Desktop/firebreak_project/sharpist/app.py&quot;, line 23, in predict\n    prediction = model.predict([[data_values.reshape(data_values.shape[0],-1)]])\n  File &quot;/Users/roberta.sgariglia/Desktop/firebreak_project/sharpist/model.py&quot;, line 33, in predict\n    y_pred = self.clf.predict(X)\n  File &quot;/opt/anaconda3/envs/sharpist/lib/python3.9/site-packages/sklearn/naive_bayes.py&quot;, line 82, in predict\n    X = self._check_X(X)\n  File &quot;/opt/anaconda3/envs/sharpist/lib/python3.9/site-packages/sklearn/naive_bayes.py&quot;, line 519, in _check_X\n    return self._validate_data(X, accept_sparse=&quot;csr&quot;, reset=False)\n  File &quot;/opt/anaconda3/envs/sharpist/lib/python3.9/site-packages/sklearn/base.py&quot;, line 566, in _validate_data\n    X = check_array(X, **check_params)\n  File &quot;/opt/anaconda3/envs/sharpist/lib/python3.9/site-packages/sklearn/utils/validation.py&quot;, line 794, in check_array\n    raise ValueError(\nValueError: Found array with dim 4. Estimator expected &lt;= 2.\n</textarea>\n</div>\n<div class=\"explanation\">\n  The debugger caught an exception in your WSGI application.  You can now\n  look at the traceback which led to the error.  <span class=\"nojavascript\">\n  If you enable JavaScript you can also use additional features such as code\n  execution (if the evalex feature is enabled), automatic pasting of the\n  exceptions and much more.</span>\n</div>\n      <div class=\"footer\">\n        Brought to you by <strong class=\"arthur\">DON'T PANIC</strong>, your\n        friendly Werkzeug powered traceback interpreter.\n      </div>\n    </div>\n\n    <div class=\"pin-prompt\">\n      <div class=\"inner\">\n        <h3>Console Locked</h3>\n        <p>\n          The console is locked and needs to be unlocked by entering the PIN.\n          You can find the PIN printed out on the standard output of your\n          shell that runs the server.\n        <form>\n          <p>PIN:\n            <input type=text name=pin size=14>\n            <input type=submit name=btn value=\"Confirm Pin\">\n        </form>\n      </div>\n    </div>\n  </body>\n</html>\n\n<!--\n\nTraceback (most recent call last):\n  File \"/opt/anaconda3/envs/sharpist/lib/python3.9/site-packages/flask/app.py\", line 2095, in __call__\n    return self.wsgi_app(environ, start_response)\n  File \"/opt/anaconda3/envs/sharpist/lib/python3.9/site-packages/flask/app.py\", line 2080, in wsgi_app\n    response = self.handle_exception(e)\n  File \"/opt/anaconda3/envs/sharpist/lib/python3.9/site-packages/flask_restful/__init__.py\", line 271, in error_router\n    return original_handler(e)\n  File \"/opt/anaconda3/envs/sharpist/lib/python3.9/site-packages/flask/app.py\", line 2077, in wsgi_app\n    response = self.full_dispatch_request()\n  File \"/opt/anaconda3/envs/sharpist/lib/python3.9/site-packages/flask/app.py\", line 1525, in full_dispatch_request\n    rv = self.handle_user_exception(e)\n  File \"/opt/anaconda3/envs/sharpist/lib/python3.9/site-packages/flask_restful/__init__.py\", line 271, in error_router\n    return original_handler(e)\n  File \"/opt/anaconda3/envs/sharpist/lib/python3.9/site-packages/flask/app.py\", line 1523, in full_dispatch_request\n    rv = self.dispatch_request()\n  File \"/opt/anaconda3/envs/sharpist/lib/python3.9/site-packages/flask/app.py\", line 1509, in dispatch_request\n    return self.ensure_sync(self.view_functions[rule.endpoint])(**req.view_args)\n  File \"/Users/roberta.sgariglia/Desktop/firebreak_project/sharpist/app.py\", line 23, in predict\n    prediction = model.predict([[data_values.reshape(data_values.shape[0],-1)]])\n  File \"/Users/roberta.sgariglia/Desktop/firebreak_project/sharpist/model.py\", line 33, in predict\n    y_pred = self.clf.predict(X)\n  File \"/opt/anaconda3/envs/sharpist/lib/python3.9/site-packages/sklearn/naive_bayes.py\", line 82, in predict\n    X = self._check_X(X)\n  File \"/opt/anaconda3/envs/sharpist/lib/python3.9/site-packages/sklearn/naive_bayes.py\", line 519, in _check_X\n    return self._validate_data(X, accept_sparse=\"csr\", reset=False)\n  File \"/opt/anaconda3/envs/sharpist/lib/python3.9/site-packages/sklearn/base.py\", line 566, in _validate_data\n    X = check_array(X, **check_params)\n  File \"/opt/anaconda3/envs/sharpist/lib/python3.9/site-packages/sklearn/utils/validation.py\", line 794, in check_array\n    raise ValueError(\nValueError: Found array with dim 4. Estimator expected <= 2.\n\n\n-->\n: 0",
     "output_type": "error",
     "traceback": [
      "\u001b[0;31m---------------------------------------------------------------------------\u001b[0m",
      "\u001b[0;31mJSONDecodeError\u001b[0m                           Traceback (most recent call last)",
      "File \u001b[0;32m/opt/anaconda3/envs/sharpist/lib/python3.9/site-packages/requests/models.py:910\u001b[0m, in \u001b[0;36mResponse.json\u001b[0;34m(self, **kwargs)\u001b[0m\n\u001b[1;32m    909\u001b[0m \u001b[38;5;28;01mtry\u001b[39;00m:\n\u001b[0;32m--> 910\u001b[0m     \u001b[38;5;28;01mreturn\u001b[39;00m \u001b[43mcomplexjson\u001b[49m\u001b[38;5;241;43m.\u001b[39;49m\u001b[43mloads\u001b[49m\u001b[43m(\u001b[49m\u001b[38;5;28;43mself\u001b[39;49m\u001b[38;5;241;43m.\u001b[39;49m\u001b[43mtext\u001b[49m\u001b[43m,\u001b[49m\u001b[43m \u001b[49m\u001b[38;5;241;43m*\u001b[39;49m\u001b[38;5;241;43m*\u001b[39;49m\u001b[43mkwargs\u001b[49m\u001b[43m)\u001b[49m\n\u001b[1;32m    911\u001b[0m \u001b[38;5;28;01mexcept\u001b[39;00m JSONDecodeError \u001b[38;5;28;01mas\u001b[39;00m e:\n\u001b[1;32m    912\u001b[0m     \u001b[38;5;66;03m# Catch JSON-related errors and raise as requests.JSONDecodeError\u001b[39;00m\n\u001b[1;32m    913\u001b[0m     \u001b[38;5;66;03m# This aliases json.JSONDecodeError and simplejson.JSONDecodeError\u001b[39;00m\n",
      "File \u001b[0;32m/opt/anaconda3/envs/sharpist/lib/python3.9/json/__init__.py:346\u001b[0m, in \u001b[0;36mloads\u001b[0;34m(s, cls, object_hook, parse_float, parse_int, parse_constant, object_pairs_hook, **kw)\u001b[0m\n\u001b[1;32m    343\u001b[0m \u001b[38;5;28;01mif\u001b[39;00m (\u001b[38;5;28mcls\u001b[39m \u001b[38;5;129;01mis\u001b[39;00m \u001b[38;5;28;01mNone\u001b[39;00m \u001b[38;5;129;01mand\u001b[39;00m object_hook \u001b[38;5;129;01mis\u001b[39;00m \u001b[38;5;28;01mNone\u001b[39;00m \u001b[38;5;129;01mand\u001b[39;00m\n\u001b[1;32m    344\u001b[0m         parse_int \u001b[38;5;129;01mis\u001b[39;00m \u001b[38;5;28;01mNone\u001b[39;00m \u001b[38;5;129;01mand\u001b[39;00m parse_float \u001b[38;5;129;01mis\u001b[39;00m \u001b[38;5;28;01mNone\u001b[39;00m \u001b[38;5;129;01mand\u001b[39;00m\n\u001b[1;32m    345\u001b[0m         parse_constant \u001b[38;5;129;01mis\u001b[39;00m \u001b[38;5;28;01mNone\u001b[39;00m \u001b[38;5;129;01mand\u001b[39;00m object_pairs_hook \u001b[38;5;129;01mis\u001b[39;00m \u001b[38;5;28;01mNone\u001b[39;00m \u001b[38;5;129;01mand\u001b[39;00m \u001b[38;5;129;01mnot\u001b[39;00m kw):\n\u001b[0;32m--> 346\u001b[0m     \u001b[38;5;28;01mreturn\u001b[39;00m \u001b[43m_default_decoder\u001b[49m\u001b[38;5;241;43m.\u001b[39;49m\u001b[43mdecode\u001b[49m\u001b[43m(\u001b[49m\u001b[43ms\u001b[49m\u001b[43m)\u001b[49m\n\u001b[1;32m    347\u001b[0m \u001b[38;5;28;01mif\u001b[39;00m \u001b[38;5;28mcls\u001b[39m \u001b[38;5;129;01mis\u001b[39;00m \u001b[38;5;28;01mNone\u001b[39;00m:\n",
      "File \u001b[0;32m/opt/anaconda3/envs/sharpist/lib/python3.9/json/decoder.py:337\u001b[0m, in \u001b[0;36mJSONDecoder.decode\u001b[0;34m(self, s, _w)\u001b[0m\n\u001b[1;32m    333\u001b[0m \u001b[38;5;124;03m\"\"\"Return the Python representation of ``s`` (a ``str`` instance\u001b[39;00m\n\u001b[1;32m    334\u001b[0m \u001b[38;5;124;03mcontaining a JSON document).\u001b[39;00m\n\u001b[1;32m    335\u001b[0m \n\u001b[1;32m    336\u001b[0m \u001b[38;5;124;03m\"\"\"\u001b[39;00m\n\u001b[0;32m--> 337\u001b[0m obj, end \u001b[38;5;241m=\u001b[39m \u001b[38;5;28;43mself\u001b[39;49m\u001b[38;5;241;43m.\u001b[39;49m\u001b[43mraw_decode\u001b[49m\u001b[43m(\u001b[49m\u001b[43ms\u001b[49m\u001b[43m,\u001b[49m\u001b[43m \u001b[49m\u001b[43midx\u001b[49m\u001b[38;5;241;43m=\u001b[39;49m\u001b[43m_w\u001b[49m\u001b[43m(\u001b[49m\u001b[43ms\u001b[49m\u001b[43m,\u001b[49m\u001b[43m \u001b[49m\u001b[38;5;241;43m0\u001b[39;49m\u001b[43m)\u001b[49m\u001b[38;5;241;43m.\u001b[39;49m\u001b[43mend\u001b[49m\u001b[43m(\u001b[49m\u001b[43m)\u001b[49m\u001b[43m)\u001b[49m\n\u001b[1;32m    338\u001b[0m end \u001b[38;5;241m=\u001b[39m _w(s, end)\u001b[38;5;241m.\u001b[39mend()\n",
      "File \u001b[0;32m/opt/anaconda3/envs/sharpist/lib/python3.9/json/decoder.py:355\u001b[0m, in \u001b[0;36mJSONDecoder.raw_decode\u001b[0;34m(self, s, idx)\u001b[0m\n\u001b[1;32m    354\u001b[0m \u001b[38;5;28;01mexcept\u001b[39;00m \u001b[38;5;167;01mStopIteration\u001b[39;00m \u001b[38;5;28;01mas\u001b[39;00m err:\n\u001b[0;32m--> 355\u001b[0m     \u001b[38;5;28;01mraise\u001b[39;00m JSONDecodeError(\u001b[38;5;124m\"\u001b[39m\u001b[38;5;124mExpecting value\u001b[39m\u001b[38;5;124m\"\u001b[39m, s, err\u001b[38;5;241m.\u001b[39mvalue) \u001b[38;5;28;01mfrom\u001b[39;00m \u001b[38;5;28mNone\u001b[39m\n\u001b[1;32m    356\u001b[0m \u001b[38;5;28;01mreturn\u001b[39;00m obj, end\n",
      "\u001b[0;31mJSONDecodeError\u001b[0m: Expecting value: line 1 column 1 (char 0)",
      "\nDuring handling of the above exception, another exception occurred:\n",
      "\u001b[0;31mJSONDecodeError\u001b[0m                           Traceback (most recent call last)",
      "Input \u001b[0;32mIn [54]\u001b[0m, in \u001b[0;36m<cell line: 5>\u001b[0;34m()\u001b[0m\n\u001b[1;32m      3\u001b[0m \u001b[38;5;66;03m#url = 'http://127.0.0.1:5000/'\u001b[39;00m\n\u001b[1;32m      4\u001b[0m r \u001b[38;5;241m=\u001b[39m requests\u001b[38;5;241m.\u001b[39mpost(url,json\u001b[38;5;241m=\u001b[39mX_train\u001b[38;5;241m.\u001b[39msample(\u001b[38;5;241m1\u001b[39m)\u001b[38;5;241m.\u001b[39mto_dict(orient\u001b[38;5;241m=\u001b[39m\u001b[38;5;124m'\u001b[39m\u001b[38;5;124mrecords\u001b[39m\u001b[38;5;124m'\u001b[39m)[\u001b[38;5;241m0\u001b[39m])\n\u001b[0;32m----> 5\u001b[0m \u001b[38;5;28mprint\u001b[39m(\u001b[43mr\u001b[49m\u001b[38;5;241;43m.\u001b[39;49m\u001b[43mjson\u001b[49m\u001b[43m(\u001b[49m\u001b[43m)\u001b[49m)\n",
      "File \u001b[0;32m/opt/anaconda3/envs/sharpist/lib/python3.9/site-packages/requests/models.py:917\u001b[0m, in \u001b[0;36mResponse.json\u001b[0;34m(self, **kwargs)\u001b[0m\n\u001b[1;32m    915\u001b[0m     \u001b[38;5;28;01mraise\u001b[39;00m RequestsJSONDecodeError(e\u001b[38;5;241m.\u001b[39mmessage)\n\u001b[1;32m    916\u001b[0m \u001b[38;5;28;01melse\u001b[39;00m:\n\u001b[0;32m--> 917\u001b[0m     \u001b[38;5;28;01mraise\u001b[39;00m RequestsJSONDecodeError(e\u001b[38;5;241m.\u001b[39mmsg, e\u001b[38;5;241m.\u001b[39mdoc, e\u001b[38;5;241m.\u001b[39mpos)\n",
      "\u001b[0;31mJSONDecodeError\u001b[0m: [Errno Expecting value] <!doctype html>\n<html lang=en>\n  <head>\n    <title>ValueError: Found array with dim 4. Estimator expected <= 2.\n // Werkzeug Debugger</title>\n    <link rel=\"stylesheet\" href=\"?__debugger__=yes&amp;cmd=resource&amp;f=style.css\">\n    <link rel=\"shortcut icon\"\n        href=\"?__debugger__=yes&amp;cmd=resource&amp;f=console.png\">\n    <script src=\"?__debugger__=yes&amp;cmd=resource&amp;f=debugger.js\"></script>\n    <script>\n      var CONSOLE_MODE = false,\n          EVALEX = true,\n          EVALEX_TRUSTED = false,\n          SECRET = \"ykEXcvkhunzsmyIjwXpu\";\n    </script>\n  </head>\n  <body style=\"background-color: #fff\">\n    <div class=\"debugger\">\n<h1>ValueError</h1>\n<div class=\"detail\">\n  <p class=\"errormsg\">ValueError: Found array with dim 4. Estimator expected &lt;= 2.\n</p>\n</div>\n<h2 class=\"traceback\">Traceback <em>(most recent call last)</em></h2>\n<div class=\"traceback\">\n  <h3></h3>\n  <ul><li><div class=\"frame\" id=\"frame-140215838598640\">\n  <h4>File <cite class=\"filename\">\"/opt/anaconda3/envs/sharpist/lib/python3.9/site-packages/flask/app.py\"</cite>,\n      line <em class=\"line\">2095</em>,\n      in <code class=\"function\">__call__</code></h4>\n  <div class=\"source library\"><pre class=\"line before\"><span class=\"ws\">    </span>def __call__(self, environ: dict, start_response: t.Callable) -&gt; t.Any:</pre>\n<pre class=\"line before\"><span class=\"ws\">        </span>&quot;&quot;&quot;The WSGI server calls the Flask application object as the</pre>\n<pre class=\"line before\"><span class=\"ws\">        </span>WSGI application. This calls :meth:`wsgi_app`, which can be</pre>\n<pre class=\"line before\"><span class=\"ws\">        </span>wrapped to apply middleware.</pre>\n<pre class=\"line before\"><span class=\"ws\">        </span>&quot;&quot;&quot;</pre>\n<pre class=\"line current\"><span class=\"ws\">        </span>return self.wsgi_app(environ, start_response)</pre></div>\n</div>\n\n<li><div class=\"frame\" id=\"frame-140215515841920\">\n  <h4>File <cite class=\"filename\">\"/opt/anaconda3/envs/sharpist/lib/python3.9/site-packages/flask/app.py\"</cite>,\n      line <em class=\"line\">2080</em>,\n      in <code class=\"function\">wsgi_app</code></h4>\n  <div class=\"source library\"><pre class=\"line before\"><span class=\"ws\">            </span>try:</pre>\n<pre class=\"line before\"><span class=\"ws\">                </span>ctx.push()</pre>\n<pre class=\"line before\"><span class=\"ws\">                </span>response = self.full_dispatch_request()</pre>\n<pre class=\"line before\"><span class=\"ws\">            </span>except Exception as e:</pre>\n<pre class=\"line before\"><span class=\"ws\">                </span>error = e</pre>\n<pre class=\"line current\"><span class=\"ws\">                </span>response = self.handle_exception(e)</pre>\n<pre class=\"line after\"><span class=\"ws\">            </span>except:  # noqa: B001</pre>\n<pre class=\"line after\"><span class=\"ws\">                </span>error = sys.exc_info()[1]</pre>\n<pre class=\"line after\"><span class=\"ws\">                </span>raise</pre>\n<pre class=\"line after\"><span class=\"ws\">            </span>return response(environ, start_response)</pre>\n<pre class=\"line after\"><span class=\"ws\">        </span>finally:</pre></div>\n</div>\n\n<li><div class=\"frame\" id=\"frame-140215515842032\">\n  <h4>File <cite class=\"filename\">\"/opt/anaconda3/envs/sharpist/lib/python3.9/site-packages/flask_restful/__init__.py\"</cite>,\n      line <em class=\"line\">271</em>,\n      in <code class=\"function\">error_router</code></h4>\n  <div class=\"source library\"><pre class=\"line before\"><span class=\"ws\">        </span>if self._has_fr_route():</pre>\n<pre class=\"line before\"><span class=\"ws\">            </span>try:</pre>\n<pre class=\"line before\"><span class=\"ws\">                </span>return self.handle_error(e)</pre>\n<pre class=\"line before\"><span class=\"ws\">            </span>except Exception:</pre>\n<pre class=\"line before\"><span class=\"ws\">                </span>pass  # Fall through to original handler</pre>\n<pre class=\"line current\"><span class=\"ws\">        </span>return original_handler(e)</pre>\n<pre class=\"line after\"><span class=\"ws\"></span> </pre>\n<pre class=\"line after\"><span class=\"ws\">    </span>def handle_error(self, e):</pre>\n<pre class=\"line after\"><span class=\"ws\">        </span>&quot;&quot;&quot;Error handler for the API transforms a raised exception into a Flask</pre>\n<pre class=\"line after\"><span class=\"ws\">        </span>response, with the appropriate HTTP status code and body.</pre>\n<pre class=\"line after\"><span class=\"ws\"></span> </pre></div>\n</div>\n\n<li><div class=\"frame\" id=\"frame-140215515903024\">\n  <h4>File <cite class=\"filename\">\"/opt/anaconda3/envs/sharpist/lib/python3.9/site-packages/flask/app.py\"</cite>,\n      line <em class=\"line\">2077</em>,\n      in <code class=\"function\">wsgi_app</code></h4>\n  <div class=\"source library\"><pre class=\"line before\"><span class=\"ws\">        </span>ctx = self.request_context(environ)</pre>\n<pre class=\"line before\"><span class=\"ws\">        </span>error: t.Optional[BaseException] = None</pre>\n<pre class=\"line before\"><span class=\"ws\">        </span>try:</pre>\n<pre class=\"line before\"><span class=\"ws\">            </span>try:</pre>\n<pre class=\"line before\"><span class=\"ws\">                </span>ctx.push()</pre>\n<pre class=\"line current\"><span class=\"ws\">                </span>response = self.full_dispatch_request()</pre>\n<pre class=\"line after\"><span class=\"ws\">            </span>except Exception as e:</pre>\n<pre class=\"line after\"><span class=\"ws\">                </span>error = e</pre>\n<pre class=\"line after\"><span class=\"ws\">                </span>response = self.handle_exception(e)</pre>\n<pre class=\"line after\"><span class=\"ws\">            </span>except:  # noqa: B001</pre>\n<pre class=\"line after\"><span class=\"ws\">                </span>error = sys.exc_info()[1]</pre></div>\n</div>\n\n<li><div class=\"frame\" id=\"frame-140215515903136\">\n  <h4>File <cite class=\"filename\">\"/opt/anaconda3/envs/sharpist/lib/python3.9/site-packages/flask/app.py\"</cite>,\n      line <em class=\"line\">1525</em>,\n      in <code class=\"function\">full_dispatch_request</code></h4>\n  <div class=\"source library\"><pre class=\"line before\"><span class=\"ws\">            </span>request_started.send(self)</pre>\n<pre class=\"line before\"><span class=\"ws\">            </span>rv = self.preprocess_request()</pre>\n<pre class=\"line before\"><span class=\"ws\">            </span>if rv is None:</pre>\n<pre class=\"line before\"><span class=\"ws\">                </span>rv = self.dispatch_request()</pre>\n<pre class=\"line before\"><span class=\"ws\">        </span>except Exception as e:</pre>\n<pre class=\"line current\"><span class=\"ws\">            </span>rv = self.handle_user_exception(e)</pre>\n<pre class=\"line after\"><span class=\"ws\">        </span>return self.finalize_request(rv)</pre>\n<pre class=\"line after\"><span class=\"ws\"></span> </pre>\n<pre class=\"line after\"><span class=\"ws\">    </span>def finalize_request(</pre>\n<pre class=\"line after\"><span class=\"ws\">        </span>self,</pre>\n<pre class=\"line after\"><span class=\"ws\">        </span>rv: t.Union[ResponseReturnValue, HTTPException],</pre></div>\n</div>\n\n<li><div class=\"frame\" id=\"frame-140215515903248\">\n  <h4>File <cite class=\"filename\">\"/opt/anaconda3/envs/sharpist/lib/python3.9/site-packages/flask_restful/__init__.py\"</cite>,\n      line <em class=\"line\">271</em>,\n      in <code class=\"function\">error_router</code></h4>\n  <div class=\"source library\"><pre class=\"line before\"><span class=\"ws\">        </span>if self._has_fr_route():</pre>\n<pre class=\"line before\"><span class=\"ws\">            </span>try:</pre>\n<pre class=\"line before\"><span class=\"ws\">                </span>return self.handle_error(e)</pre>\n<pre class=\"line before\"><span class=\"ws\">            </span>except Exception:</pre>\n<pre class=\"line before\"><span class=\"ws\">                </span>pass  # Fall through to original handler</pre>\n<pre class=\"line current\"><span class=\"ws\">        </span>return original_handler(e)</pre>\n<pre class=\"line after\"><span class=\"ws\"></span> </pre>\n<pre class=\"line after\"><span class=\"ws\">    </span>def handle_error(self, e):</pre>\n<pre class=\"line after\"><span class=\"ws\">        </span>&quot;&quot;&quot;Error handler for the API transforms a raised exception into a Flask</pre>\n<pre class=\"line after\"><span class=\"ws\">        </span>response, with the appropriate HTTP status code and body.</pre>\n<pre class=\"line after\"><span class=\"ws\"></span> </pre></div>\n</div>\n\n<li><div class=\"frame\" id=\"frame-140215515903360\">\n  <h4>File <cite class=\"filename\">\"/opt/anaconda3/envs/sharpist/lib/python3.9/site-packages/flask/app.py\"</cite>,\n      line <em class=\"line\">1523</em>,\n      in <code class=\"function\">full_dispatch_request</code></h4>\n  <div class=\"source library\"><pre class=\"line before\"><span class=\"ws\">        </span>self.try_trigger_before_first_request_functions()</pre>\n<pre class=\"line before\"><span class=\"ws\">        </span>try:</pre>\n<pre class=\"line before\"><span class=\"ws\">            </span>request_started.send(self)</pre>\n<pre class=\"line before\"><span class=\"ws\">            </span>rv = self.preprocess_request()</pre>\n<pre class=\"line before\"><span class=\"ws\">            </span>if rv is None:</pre>\n<pre class=\"line current\"><span class=\"ws\">                </span>rv = self.dispatch_request()</pre>\n<pre class=\"line after\"><span class=\"ws\">        </span>except Exception as e:</pre>\n<pre class=\"line after\"><span class=\"ws\">            </span>rv = self.handle_user_exception(e)</pre>\n<pre class=\"line after\"><span class=\"ws\">        </span>return self.finalize_request(rv)</pre>\n<pre class=\"line after\"><span class=\"ws\"></span> </pre>\n<pre class=\"line after\"><span class=\"ws\">    </span>def finalize_request(</pre></div>\n</div>\n\n<li><div class=\"frame\" id=\"frame-140215515903472\">\n  <h4>File <cite class=\"filename\">\"/opt/anaconda3/envs/sharpist/lib/python3.9/site-packages/flask/app.py\"</cite>,\n      line <em class=\"line\">1509</em>,\n      in <code class=\"function\">dispatch_request</code></h4>\n  <div class=\"source library\"><pre class=\"line before\"><span class=\"ws\">            </span>getattr(rule, &quot;provide_automatic_options&quot;, False)</pre>\n<pre class=\"line before\"><span class=\"ws\">            </span>and req.method == &quot;OPTIONS&quot;</pre>\n<pre class=\"line before\"><span class=\"ws\">        </span>):</pre>\n<pre class=\"line before\"><span class=\"ws\">            </span>return self.make_default_options_response()</pre>\n<pre class=\"line before\"><span class=\"ws\">        </span># otherwise dispatch to the handler for that endpoint</pre>\n<pre class=\"line current\"><span class=\"ws\">        </span>return self.ensure_sync(self.view_functions[rule.endpoint])(**req.view_args)</pre>\n<pre class=\"line after\"><span class=\"ws\"></span> </pre>\n<pre class=\"line after\"><span class=\"ws\">    </span>def full_dispatch_request(self) -&gt; Response:</pre>\n<pre class=\"line after\"><span class=\"ws\">        </span>&quot;&quot;&quot;Dispatches the request and on top of that performs request</pre>\n<pre class=\"line after\"><span class=\"ws\">        </span>pre and postprocessing as well as HTTP exception catching and</pre>\n<pre class=\"line after\"><span class=\"ws\">        </span>error handling.</pre></div>\n</div>\n\n<li><div class=\"frame\" id=\"frame-140215515903584\">\n  <h4>File <cite class=\"filename\">\"/Users/roberta.sgariglia/Desktop/firebreak_project/sharpist/app.py\"</cite>,\n      line <em class=\"line\">23</em>,\n      in <code class=\"function\">predict</code></h4>\n  <div class=\"source \"><pre class=\"line before\"><span class=\"ws\"></span> </pre>\n<pre class=\"line before\"><span class=\"ws\"></span>@app.route(&#x27;/api&#x27;,methods=[&#x27;POST&#x27;])</pre>\n<pre class=\"line before\"><span class=\"ws\"></span>def predict():</pre>\n<pre class=\"line before\"><span class=\"ws\">    </span>data = request.get_json(force=True)</pre>\n<pre class=\"line before\"><span class=\"ws\">    </span>data_values = np.array(list(data.values())).astype(float)</pre>\n<pre class=\"line current\"><span class=\"ws\">    </span>prediction = model.predict([[data_values.reshape(data_values.shape[0],-1)]])</pre>\n<pre class=\"line after\"><span class=\"ws\">    </span>#pred_proba = model.predict_proba([[data_values.reshape(data_values.shape[0],-1)]])</pre>\n<pre class=\"line after\"><span class=\"ws\">    </span># Output either &#x27;Negative&#x27; or &#x27;Positive&#x27; along with the score</pre>\n<pre class=\"line after\"><span class=\"ws\">   </span># if prediction == 0:</pre>\n<pre class=\"line after\"><span class=\"ws\">        </span>#pred_text = &#x27;Negative&#x27;</pre>\n<pre class=\"line after\"><span class=\"ws\">    </span>#else:</pre></div>\n</div>\n\n<li><div class=\"frame\" id=\"frame-140215515904256\">\n  <h4>File <cite class=\"filename\">\"/Users/roberta.sgariglia/Desktop/firebreak_project/sharpist/model.py\"</cite>,\n      line <em class=\"line\">33</em>,\n      in <code class=\"function\">predict</code></h4>\n  <div class=\"source \"><pre class=\"line before\"><span class=\"ws\">        </span>return y_proba[:, 1]</pre>\n<pre class=\"line before\"><span class=\"ws\"></span> </pre>\n<pre class=\"line before\"><span class=\"ws\">    </span>def predict(self, X):</pre>\n<pre class=\"line before\"><span class=\"ws\">        </span>&quot;&quot;&quot;Returns the predicted class in an array</pre>\n<pre class=\"line before\"><span class=\"ws\">        </span>&quot;&quot;&quot;</pre>\n<pre class=\"line current\"><span class=\"ws\">        </span>y_pred = self.clf.predict(X)</pre>\n<pre class=\"line after\"><span class=\"ws\">        </span>return y_pred</pre>\n<pre class=\"line after\"><span class=\"ws\"></span> </pre>\n<pre class=\"line after\"><span class=\"ws\">    </span>def pickle_clf(self, path=&#x27;Classifier.pkl&#x27;):</pre>\n<pre class=\"line after\"><span class=\"ws\">        </span>&quot;&quot;&quot;Saves the trained classifier for future use.</pre>\n<pre class=\"line after\"><span class=\"ws\">        </span>&quot;&quot;&quot;</pre></div>\n</div>\n\n<li><div class=\"frame\" id=\"frame-140215515905152\">\n  <h4>File <cite class=\"filename\">\"/opt/anaconda3/envs/sharpist/lib/python3.9/site-packages/sklearn/naive_bayes.py\"</cite>,\n      line <em class=\"line\">82</em>,\n      in <code class=\"function\">predict</code></h4>\n  <div class=\"source library\"><pre class=\"line before\"><span class=\"ws\">        </span>-------</pre>\n<pre class=\"line before\"><span class=\"ws\">        </span>C : ndarray of shape (n_samples,)</pre>\n<pre class=\"line before\"><span class=\"ws\">            </span>Predicted target values for X.</pre>\n<pre class=\"line before\"><span class=\"ws\">        </span>&quot;&quot;&quot;</pre>\n<pre class=\"line before\"><span class=\"ws\">        </span>check_is_fitted(self)</pre>\n<pre class=\"line current\"><span class=\"ws\">        </span>X = self._check_X(X)</pre>\n<pre class=\"line after\"><span class=\"ws\">        </span>jll = self._joint_log_likelihood(X)</pre>\n<pre class=\"line after\"><span class=\"ws\">        </span>return self.classes_[np.argmax(jll, axis=1)]</pre>\n<pre class=\"line after\"><span class=\"ws\"></span> </pre>\n<pre class=\"line after\"><span class=\"ws\">    </span>def predict_log_proba(self, X):</pre>\n<pre class=\"line after\"><span class=\"ws\">        </span>&quot;&quot;&quot;</pre></div>\n</div>\n\n<li><div class=\"frame\" id=\"frame-140215838718992\">\n  <h4>File <cite class=\"filename\">\"/opt/anaconda3/envs/sharpist/lib/python3.9/site-packages/sklearn/naive_bayes.py\"</cite>,\n      line <em class=\"line\">519</em>,\n      in <code class=\"function\">_check_X</code></h4>\n  <div class=\"source library\"><pre class=\"line before\"><span class=\"ws\">    </span>_joint_log_likelihood(X) as per _BaseNB</pre>\n<pre class=\"line before\"><span class=\"ws\">    </span>&quot;&quot;&quot;</pre>\n<pre class=\"line before\"><span class=\"ws\"></span> </pre>\n<pre class=\"line before\"><span class=\"ws\">    </span>def _check_X(self, X):</pre>\n<pre class=\"line before\"><span class=\"ws\">        </span>&quot;&quot;&quot;Validate X, used only in predict* methods.&quot;&quot;&quot;</pre>\n<pre class=\"line current\"><span class=\"ws\">        </span>return self._validate_data(X, accept_sparse=&quot;csr&quot;, reset=False)</pre>\n<pre class=\"line after\"><span class=\"ws\"></span> </pre>\n<pre class=\"line after\"><span class=\"ws\">    </span>def _check_X_y(self, X, y, reset=True):</pre>\n<pre class=\"line after\"><span class=\"ws\">        </span>&quot;&quot;&quot;Validate X and y in fit methods.&quot;&quot;&quot;</pre>\n<pre class=\"line after\"><span class=\"ws\">        </span>return self._validate_data(X, y, accept_sparse=&quot;csr&quot;, reset=reset)</pre>\n<pre class=\"line after\"><span class=\"ws\"></span> </pre></div>\n</div>\n\n<li><div class=\"frame\" id=\"frame-140215838719216\">\n  <h4>File <cite class=\"filename\">\"/opt/anaconda3/envs/sharpist/lib/python3.9/site-packages/sklearn/base.py\"</cite>,\n      line <em class=\"line\">566</em>,\n      in <code class=\"function\">_validate_data</code></h4>\n  <div class=\"source library\"><pre class=\"line before\"><span class=\"ws\">        </span>no_val_y = y is None or isinstance(y, str) and y == &quot;no_validation&quot;</pre>\n<pre class=\"line before\"><span class=\"ws\"></span> </pre>\n<pre class=\"line before\"><span class=\"ws\">        </span>if no_val_X and no_val_y:</pre>\n<pre class=\"line before\"><span class=\"ws\">            </span>raise ValueError(&quot;Validation should be done on X, y or both.&quot;)</pre>\n<pre class=\"line before\"><span class=\"ws\">        </span>elif not no_val_X and no_val_y:</pre>\n<pre class=\"line current\"><span class=\"ws\">            </span>X = check_array(X, **check_params)</pre>\n<pre class=\"line after\"><span class=\"ws\">            </span>out = X</pre>\n<pre class=\"line after\"><span class=\"ws\">        </span>elif no_val_X and not no_val_y:</pre>\n<pre class=\"line after\"><span class=\"ws\">            </span>y = _check_y(y, **check_params)</pre>\n<pre class=\"line after\"><span class=\"ws\">            </span>out = y</pre>\n<pre class=\"line after\"><span class=\"ws\">        </span>else:</pre></div>\n</div>\n\n<li><div class=\"frame\" id=\"frame-140215838719328\">\n  <h4>File <cite class=\"filename\">\"/opt/anaconda3/envs/sharpist/lib/python3.9/site-packages/sklearn/utils/validation.py\"</cite>,\n      line <em class=\"line\">794</em>,\n      in <code class=\"function\">check_array</code></h4>\n  <div class=\"source library\"><pre class=\"line before\"><span class=\"ws\">                </span>raise ValueError(</pre>\n<pre class=\"line before\"><span class=\"ws\">                    </span>&quot;Unable to convert array of bytes/strings &quot;</pre>\n<pre class=\"line before\"><span class=\"ws\">                    </span>&quot;into decimal numbers with dtype=&#x27;numeric&#x27;&quot;</pre>\n<pre class=\"line before\"><span class=\"ws\">                </span>) from e</pre>\n<pre class=\"line before\"><span class=\"ws\">        </span>if not allow_nd and array.ndim &gt;= 3:</pre>\n<pre class=\"line current\"><span class=\"ws\">            </span>raise ValueError(</pre>\n<pre class=\"line after\"><span class=\"ws\">                </span>&quot;Found array with dim %d. %s expected &lt;= 2.&quot;</pre>\n<pre class=\"line after\"><span class=\"ws\">                </span>% (array.ndim, estimator_name)</pre>\n<pre class=\"line after\"><span class=\"ws\">            </span>)</pre>\n<pre class=\"line after\"><span class=\"ws\"></span> </pre>\n<pre class=\"line after\"><span class=\"ws\">        </span>if force_all_finite:</pre></div>\n</div>\n</ul>\n  <blockquote>ValueError: Found array with dim 4. Estimator expected &lt;= 2.\n</blockquote>\n</div>\n\n<div class=\"plain\">\n    <p>\n      This is the Copy/Paste friendly version of the traceback.\n    </p>\n    <textarea cols=\"50\" rows=\"10\" name=\"code\" readonly>Traceback (most recent call last):\n  File &quot;/opt/anaconda3/envs/sharpist/lib/python3.9/site-packages/flask/app.py&quot;, line 2095, in __call__\n    return self.wsgi_app(environ, start_response)\n  File &quot;/opt/anaconda3/envs/sharpist/lib/python3.9/site-packages/flask/app.py&quot;, line 2080, in wsgi_app\n    response = self.handle_exception(e)\n  File &quot;/opt/anaconda3/envs/sharpist/lib/python3.9/site-packages/flask_restful/__init__.py&quot;, line 271, in error_router\n    return original_handler(e)\n  File &quot;/opt/anaconda3/envs/sharpist/lib/python3.9/site-packages/flask/app.py&quot;, line 2077, in wsgi_app\n    response = self.full_dispatch_request()\n  File &quot;/opt/anaconda3/envs/sharpist/lib/python3.9/site-packages/flask/app.py&quot;, line 1525, in full_dispatch_request\n    rv = self.handle_user_exception(e)\n  File &quot;/opt/anaconda3/envs/sharpist/lib/python3.9/site-packages/flask_restful/__init__.py&quot;, line 271, in error_router\n    return original_handler(e)\n  File &quot;/opt/anaconda3/envs/sharpist/lib/python3.9/site-packages/flask/app.py&quot;, line 1523, in full_dispatch_request\n    rv = self.dispatch_request()\n  File &quot;/opt/anaconda3/envs/sharpist/lib/python3.9/site-packages/flask/app.py&quot;, line 1509, in dispatch_request\n    return self.ensure_sync(self.view_functions[rule.endpoint])(**req.view_args)\n  File &quot;/Users/roberta.sgariglia/Desktop/firebreak_project/sharpist/app.py&quot;, line 23, in predict\n    prediction = model.predict([[data_values.reshape(data_values.shape[0],-1)]])\n  File &quot;/Users/roberta.sgariglia/Desktop/firebreak_project/sharpist/model.py&quot;, line 33, in predict\n    y_pred = self.clf.predict(X)\n  File &quot;/opt/anaconda3/envs/sharpist/lib/python3.9/site-packages/sklearn/naive_bayes.py&quot;, line 82, in predict\n    X = self._check_X(X)\n  File &quot;/opt/anaconda3/envs/sharpist/lib/python3.9/site-packages/sklearn/naive_bayes.py&quot;, line 519, in _check_X\n    return self._validate_data(X, accept_sparse=&quot;csr&quot;, reset=False)\n  File &quot;/opt/anaconda3/envs/sharpist/lib/python3.9/site-packages/sklearn/base.py&quot;, line 566, in _validate_data\n    X = check_array(X, **check_params)\n  File &quot;/opt/anaconda3/envs/sharpist/lib/python3.9/site-packages/sklearn/utils/validation.py&quot;, line 794, in check_array\n    raise ValueError(\nValueError: Found array with dim 4. Estimator expected &lt;= 2.\n</textarea>\n</div>\n<div class=\"explanation\">\n  The debugger caught an exception in your WSGI application.  You can now\n  look at the traceback which led to the error.  <span class=\"nojavascript\">\n  If you enable JavaScript you can also use additional features such as code\n  execution (if the evalex feature is enabled), automatic pasting of the\n  exceptions and much more.</span>\n</div>\n      <div class=\"footer\">\n        Brought to you by <strong class=\"arthur\">DON'T PANIC</strong>, your\n        friendly Werkzeug powered traceback interpreter.\n      </div>\n    </div>\n\n    <div class=\"pin-prompt\">\n      <div class=\"inner\">\n        <h3>Console Locked</h3>\n        <p>\n          The console is locked and needs to be unlocked by entering the PIN.\n          You can find the PIN printed out on the standard output of your\n          shell that runs the server.\n        <form>\n          <p>PIN:\n            <input type=text name=pin size=14>\n            <input type=submit name=btn value=\"Confirm Pin\">\n        </form>\n      </div>\n    </div>\n  </body>\n</html>\n\n<!--\n\nTraceback (most recent call last):\n  File \"/opt/anaconda3/envs/sharpist/lib/python3.9/site-packages/flask/app.py\", line 2095, in __call__\n    return self.wsgi_app(environ, start_response)\n  File \"/opt/anaconda3/envs/sharpist/lib/python3.9/site-packages/flask/app.py\", line 2080, in wsgi_app\n    response = self.handle_exception(e)\n  File \"/opt/anaconda3/envs/sharpist/lib/python3.9/site-packages/flask_restful/__init__.py\", line 271, in error_router\n    return original_handler(e)\n  File \"/opt/anaconda3/envs/sharpist/lib/python3.9/site-packages/flask/app.py\", line 2077, in wsgi_app\n    response = self.full_dispatch_request()\n  File \"/opt/anaconda3/envs/sharpist/lib/python3.9/site-packages/flask/app.py\", line 1525, in full_dispatch_request\n    rv = self.handle_user_exception(e)\n  File \"/opt/anaconda3/envs/sharpist/lib/python3.9/site-packages/flask_restful/__init__.py\", line 271, in error_router\n    return original_handler(e)\n  File \"/opt/anaconda3/envs/sharpist/lib/python3.9/site-packages/flask/app.py\", line 1523, in full_dispatch_request\n    rv = self.dispatch_request()\n  File \"/opt/anaconda3/envs/sharpist/lib/python3.9/site-packages/flask/app.py\", line 1509, in dispatch_request\n    return self.ensure_sync(self.view_functions[rule.endpoint])(**req.view_args)\n  File \"/Users/roberta.sgariglia/Desktop/firebreak_project/sharpist/app.py\", line 23, in predict\n    prediction = model.predict([[data_values.reshape(data_values.shape[0],-1)]])\n  File \"/Users/roberta.sgariglia/Desktop/firebreak_project/sharpist/model.py\", line 33, in predict\n    y_pred = self.clf.predict(X)\n  File \"/opt/anaconda3/envs/sharpist/lib/python3.9/site-packages/sklearn/naive_bayes.py\", line 82, in predict\n    X = self._check_X(X)\n  File \"/opt/anaconda3/envs/sharpist/lib/python3.9/site-packages/sklearn/naive_bayes.py\", line 519, in _check_X\n    return self._validate_data(X, accept_sparse=\"csr\", reset=False)\n  File \"/opt/anaconda3/envs/sharpist/lib/python3.9/site-packages/sklearn/base.py\", line 566, in _validate_data\n    X = check_array(X, **check_params)\n  File \"/opt/anaconda3/envs/sharpist/lib/python3.9/site-packages/sklearn/utils/validation.py\", line 794, in check_array\n    raise ValueError(\nValueError: Found array with dim 4. Estimator expected <= 2.\n\n\n-->\n: 0"
     ]
    }
   ],
   "source": [
    "#\n",
    "url = 'http://localhost:5000/api'\n",
    "#url = 'http://127.0.0.1:5000/'\n",
    "r = requests.post(url,json=X_train.sample(1).to_dict(orient='records')[0])\n",
    "print(r.json())"
   ]
  },
  {
   "cell_type": "code",
   "execution_count": null,
   "id": "3b0488db",
   "metadata": {},
   "outputs": [],
   "source": []
  },
  {
   "cell_type": "code",
   "execution_count": null,
   "id": "a5911f1d",
   "metadata": {},
   "outputs": [],
   "source": []
  },
  {
   "cell_type": "code",
   "execution_count": null,
   "id": "b346c76e",
   "metadata": {},
   "outputs": [],
   "source": []
  },
  {
   "cell_type": "code",
   "execution_count": null,
   "id": "226d73a9",
   "metadata": {},
   "outputs": [],
   "source": []
  },
  {
   "cell_type": "code",
   "execution_count": null,
   "id": "445944fc",
   "metadata": {},
   "outputs": [],
   "source": []
  },
  {
   "cell_type": "code",
   "execution_count": null,
   "id": "dfbd87ed",
   "metadata": {},
   "outputs": [],
   "source": []
  },
  {
   "cell_type": "code",
   "execution_count": null,
   "id": "76712686",
   "metadata": {},
   "outputs": [],
   "source": []
  },
  {
   "cell_type": "code",
   "execution_count": null,
   "id": "d2bb83a7",
   "metadata": {},
   "outputs": [],
   "source": []
  },
  {
   "cell_type": "code",
   "execution_count": null,
   "id": "d48570aa",
   "metadata": {},
   "outputs": [],
   "source": []
  }
 ],
 "metadata": {
  "kernelspec": {
   "display_name": "Python 3 (ipykernel)",
   "language": "python",
   "name": "python3"
  },
  "language_info": {
   "codemirror_mode": {
    "name": "ipython",
    "version": 3
   },
   "file_extension": ".py",
   "mimetype": "text/x-python",
   "name": "python",
   "nbconvert_exporter": "python",
   "pygments_lexer": "ipython3",
   "version": "3.9.12"
  }
 },
 "nbformat": 4,
 "nbformat_minor": 5
}
