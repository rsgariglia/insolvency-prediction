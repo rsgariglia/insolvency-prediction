{
 "cells": [
  {
   "cell_type": "code",
   "execution_count": 5,
   "id": "e077b696",
   "metadata": {},
   "outputs": [],
   "source": [
    "import pandas as pd\n",
    "import numpy as np\n",
    "import requests"
   ]
  },
  {
   "cell_type": "markdown",
   "id": "1b8c5568",
   "metadata": {},
   "source": [
    "You can run the API locally by running the `app.py` script, and then test it in this notebook"
   ]
  },
  {
   "cell_type": "code",
   "execution_count": 13,
   "id": "e8e8ed5f",
   "metadata": {},
   "outputs": [],
   "source": [
    "df = pd.read_csv('insolvency_data.csv').iloc[:,1:]"
   ]
  },
  {
   "cell_type": "code",
   "execution_count": 23,
   "id": "e216a011",
   "metadata": {},
   "outputs": [],
   "source": [
    "one_sample = df.sample(1).to_dict(orient='records')[0]"
   ]
  },
  {
   "cell_type": "code",
   "execution_count": 24,
   "id": "290c7f3f",
   "metadata": {
    "collapsed": true
   },
   "outputs": [
    {
     "data": {
      "text/plain": [
       "{' ROA(C) before interest and depreciation before interest': 0.539999025008531,\n",
       " ' ROA(A) before interest and % after tax': 0.586567815089402,\n",
       " ' ROA(B) before interest and depreciation after tax': 0.591894641040741,\n",
       " ' Operating Gross Margin': 0.626623329826028,\n",
       " ' Realized Sales Gross Margin': 0.626623329826028,\n",
       " ' Operating Profit Rate': 0.999125769688958,\n",
       " ' Pre-tax net Interest Rate': 0.797578986526054,\n",
       " ' After-tax net Interest Rate': 0.809494068729618,\n",
       " ' Non-industry income and expenditure/revenue': 0.303527668120325,\n",
       " ' Continuous interest rate (after tax)': 0.781766466217037,\n",
       " ' Operating Expense Rate': 0.0003728120563533,\n",
       " ' Research and development expense rate': 0.0,\n",
       " ' Cash flow rate': 0.476617766706089,\n",
       " ' Interest-bearing debt interest rate': 0.0,\n",
       " ' Tax rate (A)': 0.0,\n",
       " ' Net Value Per Share (B)': 0.150815389153428,\n",
       " ' Net Value Per Share (A)': 0.150815389153428,\n",
       " ' Net Value Per Share (C)': 0.150815389153428,\n",
       " ' Persistent EPS in the Last Four Seasons': 0.22189656802496,\n",
       " ' Cash Flow Per Share': 0.325599490698168,\n",
       " ' Revenue Per Share (Yuan ¥)': 0.0083337114509127,\n",
       " ' Operating Profit Per Share (Yuan ¥)': 0.101620389219119,\n",
       " ' Per Share Net profit before tax (Yuan ¥)': 0.175868042479476,\n",
       " ' Realized Sales Gross Profit Growth Rate': 0.0222705335988902,\n",
       " ' Operating Profit Growth Rate': 0.848241897371728,\n",
       " ' After-tax Net Profit Growth Rate': 0.689871159822436,\n",
       " ' Regular Net Profit Growth Rate': 0.689871159822436,\n",
       " ' Continuous Net Profit Growth Rate': 0.217651047952055,\n",
       " ' Total Asset Growth Rate': 8300000000.0,\n",
       " ' Net Value Growth Rate': 0.0004825678418566,\n",
       " ' Total Asset Return Growth Rate Ratio': 0.266437435407293,\n",
       " ' Cash Reinvestment %': 0.40833053910063,\n",
       " ' Current Ratio': 0.0127650147737449,\n",
       " ' Quick Ratio': 0.0107930633934175,\n",
       " ' Interest Expense Ratio': 0.63061225188696,\n",
       " ' Total debt/Total net worth': 0.0036440237463409,\n",
       " ' Debt ratio %': 0.0841672461226834,\n",
       " ' Net worth/Assets': 0.915832753877317,\n",
       " ' Long-term fund suitability ratio (A)': 0.0076729441483247,\n",
       " ' Borrowing dependency': 0.36963718146295,\n",
       " ' Contingent liabilities/Net worth': 0.0053658477137564,\n",
       " ' Operating profit/Paid-in capital': 0.101592652303483,\n",
       " ' Net profit before tax/Paid-in capital': 0.174918935223588,\n",
       " ' Inventory and accounts receivable/Net value': 0.3981669911029,\n",
       " ' Total Asset Turnover': 0.106446776611694,\n",
       " ' Accounts Receivable Turnover': 0.0005681068852525,\n",
       " ' Average Collection Days': 0.0111255801244145,\n",
       " ' Inventory Turnover Rate (times)': 9820000000.0,\n",
       " ' Fixed Assets Turnover Frequency': 0.000571912297703,\n",
       " ' Net Worth Turnover Rate (times)': 0.0246774193548387,\n",
       " ' Revenue per person': 0.0153400995843309,\n",
       " ' Operating profit per person': 0.400375387259447,\n",
       " ' Allocation rate per person': 0.0027089861284529,\n",
       " ' Working Capital to Total Assets': 0.838889235949347,\n",
       " ' Quick Assets/Total Assets': 0.540612076679418,\n",
       " ' Current Assets/Total Assets': 0.61089928042758,\n",
       " ' Cash/Total Assets': 0.196436531702399,\n",
       " ' Quick Assets/Current Liability': 0.0109362373652533,\n",
       " ' Cash/Current Liability': 0.0115303039483056,\n",
       " ' Current Liability to Assets': 0.0901233076704449,\n",
       " ' Operating Funds to Liability': 0.386382076222782,\n",
       " ' Inventory/Working Capital': 0.277119136744169,\n",
       " ' Inventory/Current Liability': 0.0050740650912373,\n",
       " ' Current Liabilities/Liability': 1.0,\n",
       " ' Working Capital/Equity': 0.737028623767922,\n",
       " ' Current Liabilities/Equity': 0.329507810956552,\n",
       " ' Long-term Liability to Current Assets': 0.0,\n",
       " ' Retained Earnings to Total Assets': 0.882382882679684,\n",
       " ' Total income/Total expense': 0.0023341532382643,\n",
       " ' Total expense/Assets': 0.0486655346077561,\n",
       " ' Current Asset Turnover Rate': 0.0002520640905854,\n",
       " ' Quick Asset Turnover Rate': 0.0002279295966576,\n",
       " ' Working capitcal Turnover Rate': 0.59401042835219,\n",
       " ' Cash Turnover Rate': 0.0002203537773637,\n",
       " ' Cash Flow to Sales': 0.671575981996026,\n",
       " ' Fixed Assets to Assets': 0.0686869124749877,\n",
       " ' Current Liability to Liability': 1.0,\n",
       " ' Current Liability to Equity': 0.329507810956552,\n",
       " ' Equity to Long-term Liability': 0.110933233663468,\n",
       " ' Cash Flow to Total Assets': 0.647178757017362,\n",
       " ' Cash Flow to Liability': 0.460533702142661,\n",
       " ' CFO to Assets': 0.691883351943472,\n",
       " ' Cash Flow to Equity': 0.315121418182583,\n",
       " ' Current Liability to Current Assets': 0.0229475182036029,\n",
       " ' Liability-Assets Flag': 0,\n",
       " ' Net Income to Total Assets': 0.82563929825203,\n",
       " ' Total assets to GNP price': 0.0001784443468322,\n",
       " ' No-credit Interval': 0.623951178401278,\n",
       " ' Gross Profit to Sales': 0.626625146251769,\n",
       " \" Net Income to Stockholder's Equity\": 0.84196762235752,\n",
       " ' Liability to Equity': 0.277421608793807,\n",
       " ' Degree of Financial Leverage (DFL)': 0.0267911566924924,\n",
       " ' Interest Coverage Ratio (Interest expense to EBIT)': 0.565158395757604,\n",
       " ' Net Income Flag': 1,\n",
       " ' Equity to Liability': 0.0455572109233472}"
      ]
     },
     "execution_count": 24,
     "metadata": {},
     "output_type": "execute_result"
    }
   ],
   "source": [
    "# one sample row of the df\n",
    "\n",
    "one_sample"
   ]
  },
  {
   "cell_type": "code",
   "execution_count": 20,
   "id": "f001ed91",
   "metadata": {},
   "outputs": [
    {
     "name": "stdout",
     "output_type": "stream",
     "text": [
      "0\n"
     ]
    }
   ],
   "source": [
    "# Testing the API - returns prediction label for 1 row of the dataframe\n",
    "\n",
    "url = 'http://localhost:5000/api'\n",
    "r = requests.post(url,json=one_sample)\n",
    "print(r.json())"
   ]
  },
  {
   "cell_type": "code",
   "execution_count": null,
   "id": "a142d0a3",
   "metadata": {},
   "outputs": [],
   "source": []
  }
 ],
 "metadata": {
  "kernelspec": {
   "display_name": "Python 3",
   "language": "python",
   "name": "python3"
  },
  "language_info": {
   "codemirror_mode": {
    "name": "ipython",
    "version": 3
   },
   "file_extension": ".py",
   "mimetype": "text/x-python",
   "name": "python",
   "nbconvert_exporter": "python",
   "pygments_lexer": "ipython3",
   "version": "3.8.8"
  }
 },
 "nbformat": 4,
 "nbformat_minor": 5
}
